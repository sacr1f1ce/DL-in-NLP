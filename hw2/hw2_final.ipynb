{
  "metadata": {
    "colab": {
      "collapsed_sections": [
        "1b3c19fa-f883-4675-9506-85c4f02f0af9",
        "cKrIw_Ve9GHI",
        "6mfHDU3GWdy6",
        "VZa3_IxI9GHJ",
        "Dl1vax0e9GHL",
        "1TjrWgJs9GHL",
        "osmGpcNL9GHL",
        "T5v7lBS49GHM",
        "r3FkHFVFAqh6",
        "CbTC672ZA76b",
        "iciqRheS9GHN",
        "peIWpSF59GHN",
        "hs9veuJ39GHN"
      ],
      "provenance": []
    },
    "gpuClass": "standard",
    "kernelspec": {
      "name": "python3",
      "display_name": "Python 3",
      "language": "python"
    },
    "language_info": {
      "name": "python",
      "version": "3.7.12",
      "mimetype": "text/x-python",
      "codemirror_mode": {
        "name": "ipython",
        "version": 3
      },
      "pygments_lexer": "ipython3",
      "nbconvert_exporter": "python",
      "file_extension": ".py"
    },
    "widgets": {
      "application/vnd.jupyter.widget-state+json": {
        "598a2fb17db340b1bf5664448a440a93": {
          "model_module": "@jupyter-widgets/controls",
          "model_name": "VBoxModel",
          "model_module_version": "1.5.0",
          "state": {
            "_dom_classes": [],
            "_model_module": "@jupyter-widgets/controls",
            "_model_module_version": "1.5.0",
            "_model_name": "VBoxModel",
            "_view_count": null,
            "_view_module": "@jupyter-widgets/controls",
            "_view_module_version": "1.5.0",
            "_view_name": "VBoxView",
            "box_style": "",
            "children": [
              "IPY_MODEL_fc7510b8ad7446e4befc7206498ccb34",
              "IPY_MODEL_84427465e9e24c17aacdd3f688641a5b"
            ],
            "layout": "IPY_MODEL_eaa5a9522fcd42a1a8ede3b540faa418"
          }
        },
        "fc7510b8ad7446e4befc7206498ccb34": {
          "model_module": "@jupyter-widgets/controls",
          "model_name": "LabelModel",
          "model_module_version": "1.5.0",
          "state": {
            "_dom_classes": [],
            "_model_module": "@jupyter-widgets/controls",
            "_model_module_version": "1.5.0",
            "_model_name": "LabelModel",
            "_view_count": null,
            "_view_module": "@jupyter-widgets/controls",
            "_view_module_version": "1.5.0",
            "_view_name": "LabelView",
            "description": "",
            "description_tooltip": null,
            "layout": "IPY_MODEL_66cc1aa61f5249eda905b953fa136161",
            "placeholder": "​",
            "style": "IPY_MODEL_a492e7d9d5d04e99aa1992100d5c1e32",
            "value": "12377.808 MB of 12399.406 MB uploaded (0.721 MB deduped)\r"
          }
        },
        "84427465e9e24c17aacdd3f688641a5b": {
          "model_module": "@jupyter-widgets/controls",
          "model_name": "FloatProgressModel",
          "model_module_version": "1.5.0",
          "state": {
            "_dom_classes": [],
            "_model_module": "@jupyter-widgets/controls",
            "_model_module_version": "1.5.0",
            "_model_name": "FloatProgressModel",
            "_view_count": null,
            "_view_module": "@jupyter-widgets/controls",
            "_view_module_version": "1.5.0",
            "_view_name": "ProgressView",
            "bar_style": "",
            "description": "",
            "description_tooltip": null,
            "layout": "IPY_MODEL_1a269f57ec544814b575d62618086625",
            "max": 1,
            "min": 0,
            "orientation": "horizontal",
            "style": "IPY_MODEL_cefd749983af4a2b8ae187954191f24a",
            "value": 0.9982581504302175
          }
        },
        "eaa5a9522fcd42a1a8ede3b540faa418": {
          "model_module": "@jupyter-widgets/base",
          "model_name": "LayoutModel",
          "model_module_version": "1.2.0",
          "state": {
            "_model_module": "@jupyter-widgets/base",
            "_model_module_version": "1.2.0",
            "_model_name": "LayoutModel",
            "_view_count": null,
            "_view_module": "@jupyter-widgets/base",
            "_view_module_version": "1.2.0",
            "_view_name": "LayoutView",
            "align_content": null,
            "align_items": null,
            "align_self": null,
            "border": null,
            "bottom": null,
            "display": null,
            "flex": null,
            "flex_flow": null,
            "grid_area": null,
            "grid_auto_columns": null,
            "grid_auto_flow": null,
            "grid_auto_rows": null,
            "grid_column": null,
            "grid_gap": null,
            "grid_row": null,
            "grid_template_areas": null,
            "grid_template_columns": null,
            "grid_template_rows": null,
            "height": null,
            "justify_content": null,
            "justify_items": null,
            "left": null,
            "margin": null,
            "max_height": null,
            "max_width": null,
            "min_height": null,
            "min_width": null,
            "object_fit": null,
            "object_position": null,
            "order": null,
            "overflow": null,
            "overflow_x": null,
            "overflow_y": null,
            "padding": null,
            "right": null,
            "top": null,
            "visibility": null,
            "width": null
          }
        },
        "66cc1aa61f5249eda905b953fa136161": {
          "model_module": "@jupyter-widgets/base",
          "model_name": "LayoutModel",
          "model_module_version": "1.2.0",
          "state": {
            "_model_module": "@jupyter-widgets/base",
            "_model_module_version": "1.2.0",
            "_model_name": "LayoutModel",
            "_view_count": null,
            "_view_module": "@jupyter-widgets/base",
            "_view_module_version": "1.2.0",
            "_view_name": "LayoutView",
            "align_content": null,
            "align_items": null,
            "align_self": null,
            "border": null,
            "bottom": null,
            "display": null,
            "flex": null,
            "flex_flow": null,
            "grid_area": null,
            "grid_auto_columns": null,
            "grid_auto_flow": null,
            "grid_auto_rows": null,
            "grid_column": null,
            "grid_gap": null,
            "grid_row": null,
            "grid_template_areas": null,
            "grid_template_columns": null,
            "grid_template_rows": null,
            "height": null,
            "justify_content": null,
            "justify_items": null,
            "left": null,
            "margin": null,
            "max_height": null,
            "max_width": null,
            "min_height": null,
            "min_width": null,
            "object_fit": null,
            "object_position": null,
            "order": null,
            "overflow": null,
            "overflow_x": null,
            "overflow_y": null,
            "padding": null,
            "right": null,
            "top": null,
            "visibility": null,
            "width": null
          }
        },
        "a492e7d9d5d04e99aa1992100d5c1e32": {
          "model_module": "@jupyter-widgets/controls",
          "model_name": "DescriptionStyleModel",
          "model_module_version": "1.5.0",
          "state": {
            "_model_module": "@jupyter-widgets/controls",
            "_model_module_version": "1.5.0",
            "_model_name": "DescriptionStyleModel",
            "_view_count": null,
            "_view_module": "@jupyter-widgets/base",
            "_view_module_version": "1.2.0",
            "_view_name": "StyleView",
            "description_width": ""
          }
        },
        "1a269f57ec544814b575d62618086625": {
          "model_module": "@jupyter-widgets/base",
          "model_name": "LayoutModel",
          "model_module_version": "1.2.0",
          "state": {
            "_model_module": "@jupyter-widgets/base",
            "_model_module_version": "1.2.0",
            "_model_name": "LayoutModel",
            "_view_count": null,
            "_view_module": "@jupyter-widgets/base",
            "_view_module_version": "1.2.0",
            "_view_name": "LayoutView",
            "align_content": null,
            "align_items": null,
            "align_self": null,
            "border": null,
            "bottom": null,
            "display": null,
            "flex": null,
            "flex_flow": null,
            "grid_area": null,
            "grid_auto_columns": null,
            "grid_auto_flow": null,
            "grid_auto_rows": null,
            "grid_column": null,
            "grid_gap": null,
            "grid_row": null,
            "grid_template_areas": null,
            "grid_template_columns": null,
            "grid_template_rows": null,
            "height": null,
            "justify_content": null,
            "justify_items": null,
            "left": null,
            "margin": null,
            "max_height": null,
            "max_width": null,
            "min_height": null,
            "min_width": null,
            "object_fit": null,
            "object_position": null,
            "order": null,
            "overflow": null,
            "overflow_x": null,
            "overflow_y": null,
            "padding": null,
            "right": null,
            "top": null,
            "visibility": null,
            "width": null
          }
        },
        "cefd749983af4a2b8ae187954191f24a": {
          "model_module": "@jupyter-widgets/controls",
          "model_name": "ProgressStyleModel",
          "model_module_version": "1.5.0",
          "state": {
            "_model_module": "@jupyter-widgets/controls",
            "_model_module_version": "1.5.0",
            "_model_name": "ProgressStyleModel",
            "_view_count": null,
            "_view_module": "@jupyter-widgets/base",
            "_view_module_version": "1.2.0",
            "_view_name": "StyleView",
            "bar_color": null,
            "description_width": ""
          }
        },
        "cb6c084f576341e0bc4d79b45c87ab55": {
          "model_module": "@jupyter-widgets/controls",
          "model_name": "HBoxModel",
          "model_module_version": "1.5.0",
          "state": {
            "_dom_classes": [],
            "_model_module": "@jupyter-widgets/controls",
            "_model_module_version": "1.5.0",
            "_model_name": "HBoxModel",
            "_view_count": null,
            "_view_module": "@jupyter-widgets/controls",
            "_view_module_version": "1.5.0",
            "_view_name": "HBoxView",
            "box_style": "",
            "children": [
              "IPY_MODEL_addcf5c3cd6945149ba5b8fcb30f89a9",
              "IPY_MODEL_24dcd90e43174129b1bbb99b501de09c",
              "IPY_MODEL_5b774550bcd943e6bbbf6f590c2d83ec"
            ],
            "layout": "IPY_MODEL_106c1464129f47668396a91c4e1d58c2"
          }
        },
        "addcf5c3cd6945149ba5b8fcb30f89a9": {
          "model_module": "@jupyter-widgets/controls",
          "model_name": "HTMLModel",
          "model_module_version": "1.5.0",
          "state": {
            "_dom_classes": [],
            "_model_module": "@jupyter-widgets/controls",
            "_model_module_version": "1.5.0",
            "_model_name": "HTMLModel",
            "_view_count": null,
            "_view_module": "@jupyter-widgets/controls",
            "_view_module_version": "1.5.0",
            "_view_name": "HTMLView",
            "description": "",
            "description_tooltip": null,
            "layout": "IPY_MODEL_03fc647d0af948f9bdf7b861cdcdb97c",
            "placeholder": "​",
            "style": "IPY_MODEL_b3724205e95043e2adba1d2158b6cc99",
            "value": "Downloading (…)lve/main/config.json: 100%"
          }
        },
        "24dcd90e43174129b1bbb99b501de09c": {
          "model_module": "@jupyter-widgets/controls",
          "model_name": "FloatProgressModel",
          "model_module_version": "1.5.0",
          "state": {
            "_dom_classes": [],
            "_model_module": "@jupyter-widgets/controls",
            "_model_module_version": "1.5.0",
            "_model_name": "FloatProgressModel",
            "_view_count": null,
            "_view_module": "@jupyter-widgets/controls",
            "_view_module_version": "1.5.0",
            "_view_name": "ProgressView",
            "bar_style": "success",
            "description": "",
            "description_tooltip": null,
            "layout": "IPY_MODEL_31d368a929bf45328fd47405d64795ea",
            "max": 642,
            "min": 0,
            "orientation": "horizontal",
            "style": "IPY_MODEL_aa0448c4ab4c4178bde5d46c021ee69f",
            "value": 642
          }
        },
        "5b774550bcd943e6bbbf6f590c2d83ec": {
          "model_module": "@jupyter-widgets/controls",
          "model_name": "HTMLModel",
          "model_module_version": "1.5.0",
          "state": {
            "_dom_classes": [],
            "_model_module": "@jupyter-widgets/controls",
            "_model_module_version": "1.5.0",
            "_model_name": "HTMLModel",
            "_view_count": null,
            "_view_module": "@jupyter-widgets/controls",
            "_view_module_version": "1.5.0",
            "_view_name": "HTMLView",
            "description": "",
            "description_tooltip": null,
            "layout": "IPY_MODEL_179c611e73c941c0b260f80ee5045d8a",
            "placeholder": "​",
            "style": "IPY_MODEL_aebed5552a864e329da1c8035f07d661",
            "value": " 642/642 [00:00&lt;00:00, 26.2kB/s]"
          }
        },
        "106c1464129f47668396a91c4e1d58c2": {
          "model_module": "@jupyter-widgets/base",
          "model_name": "LayoutModel",
          "model_module_version": "1.2.0",
          "state": {
            "_model_module": "@jupyter-widgets/base",
            "_model_module_version": "1.2.0",
            "_model_name": "LayoutModel",
            "_view_count": null,
            "_view_module": "@jupyter-widgets/base",
            "_view_module_version": "1.2.0",
            "_view_name": "LayoutView",
            "align_content": null,
            "align_items": null,
            "align_self": null,
            "border": null,
            "bottom": null,
            "display": null,
            "flex": null,
            "flex_flow": null,
            "grid_area": null,
            "grid_auto_columns": null,
            "grid_auto_flow": null,
            "grid_auto_rows": null,
            "grid_column": null,
            "grid_gap": null,
            "grid_row": null,
            "grid_template_areas": null,
            "grid_template_columns": null,
            "grid_template_rows": null,
            "height": null,
            "justify_content": null,
            "justify_items": null,
            "left": null,
            "margin": null,
            "max_height": null,
            "max_width": null,
            "min_height": null,
            "min_width": null,
            "object_fit": null,
            "object_position": null,
            "order": null,
            "overflow": null,
            "overflow_x": null,
            "overflow_y": null,
            "padding": null,
            "right": null,
            "top": null,
            "visibility": null,
            "width": null
          }
        },
        "03fc647d0af948f9bdf7b861cdcdb97c": {
          "model_module": "@jupyter-widgets/base",
          "model_name": "LayoutModel",
          "model_module_version": "1.2.0",
          "state": {
            "_model_module": "@jupyter-widgets/base",
            "_model_module_version": "1.2.0",
            "_model_name": "LayoutModel",
            "_view_count": null,
            "_view_module": "@jupyter-widgets/base",
            "_view_module_version": "1.2.0",
            "_view_name": "LayoutView",
            "align_content": null,
            "align_items": null,
            "align_self": null,
            "border": null,
            "bottom": null,
            "display": null,
            "flex": null,
            "flex_flow": null,
            "grid_area": null,
            "grid_auto_columns": null,
            "grid_auto_flow": null,
            "grid_auto_rows": null,
            "grid_column": null,
            "grid_gap": null,
            "grid_row": null,
            "grid_template_areas": null,
            "grid_template_columns": null,
            "grid_template_rows": null,
            "height": null,
            "justify_content": null,
            "justify_items": null,
            "left": null,
            "margin": null,
            "max_height": null,
            "max_width": null,
            "min_height": null,
            "min_width": null,
            "object_fit": null,
            "object_position": null,
            "order": null,
            "overflow": null,
            "overflow_x": null,
            "overflow_y": null,
            "padding": null,
            "right": null,
            "top": null,
            "visibility": null,
            "width": null
          }
        },
        "b3724205e95043e2adba1d2158b6cc99": {
          "model_module": "@jupyter-widgets/controls",
          "model_name": "DescriptionStyleModel",
          "model_module_version": "1.5.0",
          "state": {
            "_model_module": "@jupyter-widgets/controls",
            "_model_module_version": "1.5.0",
            "_model_name": "DescriptionStyleModel",
            "_view_count": null,
            "_view_module": "@jupyter-widgets/base",
            "_view_module_version": "1.2.0",
            "_view_name": "StyleView",
            "description_width": ""
          }
        },
        "31d368a929bf45328fd47405d64795ea": {
          "model_module": "@jupyter-widgets/base",
          "model_name": "LayoutModel",
          "model_module_version": "1.2.0",
          "state": {
            "_model_module": "@jupyter-widgets/base",
            "_model_module_version": "1.2.0",
            "_model_name": "LayoutModel",
            "_view_count": null,
            "_view_module": "@jupyter-widgets/base",
            "_view_module_version": "1.2.0",
            "_view_name": "LayoutView",
            "align_content": null,
            "align_items": null,
            "align_self": null,
            "border": null,
            "bottom": null,
            "display": null,
            "flex": null,
            "flex_flow": null,
            "grid_area": null,
            "grid_auto_columns": null,
            "grid_auto_flow": null,
            "grid_auto_rows": null,
            "grid_column": null,
            "grid_gap": null,
            "grid_row": null,
            "grid_template_areas": null,
            "grid_template_columns": null,
            "grid_template_rows": null,
            "height": null,
            "justify_content": null,
            "justify_items": null,
            "left": null,
            "margin": null,
            "max_height": null,
            "max_width": null,
            "min_height": null,
            "min_width": null,
            "object_fit": null,
            "object_position": null,
            "order": null,
            "overflow": null,
            "overflow_x": null,
            "overflow_y": null,
            "padding": null,
            "right": null,
            "top": null,
            "visibility": null,
            "width": null
          }
        },
        "aa0448c4ab4c4178bde5d46c021ee69f": {
          "model_module": "@jupyter-widgets/controls",
          "model_name": "ProgressStyleModel",
          "model_module_version": "1.5.0",
          "state": {
            "_model_module": "@jupyter-widgets/controls",
            "_model_module_version": "1.5.0",
            "_model_name": "ProgressStyleModel",
            "_view_count": null,
            "_view_module": "@jupyter-widgets/base",
            "_view_module_version": "1.2.0",
            "_view_name": "StyleView",
            "bar_color": null,
            "description_width": ""
          }
        },
        "179c611e73c941c0b260f80ee5045d8a": {
          "model_module": "@jupyter-widgets/base",
          "model_name": "LayoutModel",
          "model_module_version": "1.2.0",
          "state": {
            "_model_module": "@jupyter-widgets/base",
            "_model_module_version": "1.2.0",
            "_model_name": "LayoutModel",
            "_view_count": null,
            "_view_module": "@jupyter-widgets/base",
            "_view_module_version": "1.2.0",
            "_view_name": "LayoutView",
            "align_content": null,
            "align_items": null,
            "align_self": null,
            "border": null,
            "bottom": null,
            "display": null,
            "flex": null,
            "flex_flow": null,
            "grid_area": null,
            "grid_auto_columns": null,
            "grid_auto_flow": null,
            "grid_auto_rows": null,
            "grid_column": null,
            "grid_gap": null,
            "grid_row": null,
            "grid_template_areas": null,
            "grid_template_columns": null,
            "grid_template_rows": null,
            "height": null,
            "justify_content": null,
            "justify_items": null,
            "left": null,
            "margin": null,
            "max_height": null,
            "max_width": null,
            "min_height": null,
            "min_width": null,
            "object_fit": null,
            "object_position": null,
            "order": null,
            "overflow": null,
            "overflow_x": null,
            "overflow_y": null,
            "padding": null,
            "right": null,
            "top": null,
            "visibility": null,
            "width": null
          }
        },
        "aebed5552a864e329da1c8035f07d661": {
          "model_module": "@jupyter-widgets/controls",
          "model_name": "DescriptionStyleModel",
          "model_module_version": "1.5.0",
          "state": {
            "_model_module": "@jupyter-widgets/controls",
            "_model_module_version": "1.5.0",
            "_model_name": "DescriptionStyleModel",
            "_view_count": null,
            "_view_module": "@jupyter-widgets/base",
            "_view_module_version": "1.2.0",
            "_view_name": "StyleView",
            "description_width": ""
          }
        },
        "261169d813144c44bf70761f34c028b5": {
          "model_module": "@jupyter-widgets/controls",
          "model_name": "HBoxModel",
          "model_module_version": "1.5.0",
          "state": {
            "_dom_classes": [],
            "_model_module": "@jupyter-widgets/controls",
            "_model_module_version": "1.5.0",
            "_model_name": "HBoxModel",
            "_view_count": null,
            "_view_module": "@jupyter-widgets/controls",
            "_view_module_version": "1.5.0",
            "_view_name": "HBoxView",
            "box_style": "",
            "children": [
              "IPY_MODEL_ae4f4366c29a413ea299169f4fd19f78",
              "IPY_MODEL_ddfc7727e3f64bdf972f63012783663b",
              "IPY_MODEL_adc46a01b9504734ae3b90f96d6c2e00"
            ],
            "layout": "IPY_MODEL_dc19dc7796c642d7a3d1cdb6e99b93fb"
          }
        },
        "ae4f4366c29a413ea299169f4fd19f78": {
          "model_module": "@jupyter-widgets/controls",
          "model_name": "HTMLModel",
          "model_module_version": "1.5.0",
          "state": {
            "_dom_classes": [],
            "_model_module": "@jupyter-widgets/controls",
            "_model_module_version": "1.5.0",
            "_model_name": "HTMLModel",
            "_view_count": null,
            "_view_module": "@jupyter-widgets/controls",
            "_view_module_version": "1.5.0",
            "_view_name": "HTMLView",
            "description": "",
            "description_tooltip": null,
            "layout": "IPY_MODEL_b777faae291e4aa7b47a6e321ae36816",
            "placeholder": "​",
            "style": "IPY_MODEL_3f2d64a79405431492cb0b9bcbee3ec0",
            "value": "Downloading (…)okenizer_config.json: 100%"
          }
        },
        "ddfc7727e3f64bdf972f63012783663b": {
          "model_module": "@jupyter-widgets/controls",
          "model_name": "FloatProgressModel",
          "model_module_version": "1.5.0",
          "state": {
            "_dom_classes": [],
            "_model_module": "@jupyter-widgets/controls",
            "_model_module_version": "1.5.0",
            "_model_name": "FloatProgressModel",
            "_view_count": null,
            "_view_module": "@jupyter-widgets/controls",
            "_view_module_version": "1.5.0",
            "_view_name": "ProgressView",
            "bar_style": "success",
            "description": "",
            "description_tooltip": null,
            "layout": "IPY_MODEL_8a2e4d1dd74345929eafcfaa2238865f",
            "max": 24,
            "min": 0,
            "orientation": "horizontal",
            "style": "IPY_MODEL_1c95b8c5fe9b44048d3e659cde4f4d16",
            "value": 24
          }
        },
        "adc46a01b9504734ae3b90f96d6c2e00": {
          "model_module": "@jupyter-widgets/controls",
          "model_name": "HTMLModel",
          "model_module_version": "1.5.0",
          "state": {
            "_dom_classes": [],
            "_model_module": "@jupyter-widgets/controls",
            "_model_module_version": "1.5.0",
            "_model_name": "HTMLModel",
            "_view_count": null,
            "_view_module": "@jupyter-widgets/controls",
            "_view_module_version": "1.5.0",
            "_view_name": "HTMLView",
            "description": "",
            "description_tooltip": null,
            "layout": "IPY_MODEL_13acce15b88148eebd9ee6c7247dc324",
            "placeholder": "​",
            "style": "IPY_MODEL_078a4966c1654974ad5c8855ff609fc8",
            "value": " 24.0/24.0 [00:00&lt;00:00, 939B/s]"
          }
        },
        "dc19dc7796c642d7a3d1cdb6e99b93fb": {
          "model_module": "@jupyter-widgets/base",
          "model_name": "LayoutModel",
          "model_module_version": "1.2.0",
          "state": {
            "_model_module": "@jupyter-widgets/base",
            "_model_module_version": "1.2.0",
            "_model_name": "LayoutModel",
            "_view_count": null,
            "_view_module": "@jupyter-widgets/base",
            "_view_module_version": "1.2.0",
            "_view_name": "LayoutView",
            "align_content": null,
            "align_items": null,
            "align_self": null,
            "border": null,
            "bottom": null,
            "display": null,
            "flex": null,
            "flex_flow": null,
            "grid_area": null,
            "grid_auto_columns": null,
            "grid_auto_flow": null,
            "grid_auto_rows": null,
            "grid_column": null,
            "grid_gap": null,
            "grid_row": null,
            "grid_template_areas": null,
            "grid_template_columns": null,
            "grid_template_rows": null,
            "height": null,
            "justify_content": null,
            "justify_items": null,
            "left": null,
            "margin": null,
            "max_height": null,
            "max_width": null,
            "min_height": null,
            "min_width": null,
            "object_fit": null,
            "object_position": null,
            "order": null,
            "overflow": null,
            "overflow_x": null,
            "overflow_y": null,
            "padding": null,
            "right": null,
            "top": null,
            "visibility": null,
            "width": null
          }
        },
        "b777faae291e4aa7b47a6e321ae36816": {
          "model_module": "@jupyter-widgets/base",
          "model_name": "LayoutModel",
          "model_module_version": "1.2.0",
          "state": {
            "_model_module": "@jupyter-widgets/base",
            "_model_module_version": "1.2.0",
            "_model_name": "LayoutModel",
            "_view_count": null,
            "_view_module": "@jupyter-widgets/base",
            "_view_module_version": "1.2.0",
            "_view_name": "LayoutView",
            "align_content": null,
            "align_items": null,
            "align_self": null,
            "border": null,
            "bottom": null,
            "display": null,
            "flex": null,
            "flex_flow": null,
            "grid_area": null,
            "grid_auto_columns": null,
            "grid_auto_flow": null,
            "grid_auto_rows": null,
            "grid_column": null,
            "grid_gap": null,
            "grid_row": null,
            "grid_template_areas": null,
            "grid_template_columns": null,
            "grid_template_rows": null,
            "height": null,
            "justify_content": null,
            "justify_items": null,
            "left": null,
            "margin": null,
            "max_height": null,
            "max_width": null,
            "min_height": null,
            "min_width": null,
            "object_fit": null,
            "object_position": null,
            "order": null,
            "overflow": null,
            "overflow_x": null,
            "overflow_y": null,
            "padding": null,
            "right": null,
            "top": null,
            "visibility": null,
            "width": null
          }
        },
        "3f2d64a79405431492cb0b9bcbee3ec0": {
          "model_module": "@jupyter-widgets/controls",
          "model_name": "DescriptionStyleModel",
          "model_module_version": "1.5.0",
          "state": {
            "_model_module": "@jupyter-widgets/controls",
            "_model_module_version": "1.5.0",
            "_model_name": "DescriptionStyleModel",
            "_view_count": null,
            "_view_module": "@jupyter-widgets/base",
            "_view_module_version": "1.2.0",
            "_view_name": "StyleView",
            "description_width": ""
          }
        },
        "8a2e4d1dd74345929eafcfaa2238865f": {
          "model_module": "@jupyter-widgets/base",
          "model_name": "LayoutModel",
          "model_module_version": "1.2.0",
          "state": {
            "_model_module": "@jupyter-widgets/base",
            "_model_module_version": "1.2.0",
            "_model_name": "LayoutModel",
            "_view_count": null,
            "_view_module": "@jupyter-widgets/base",
            "_view_module_version": "1.2.0",
            "_view_name": "LayoutView",
            "align_content": null,
            "align_items": null,
            "align_self": null,
            "border": null,
            "bottom": null,
            "display": null,
            "flex": null,
            "flex_flow": null,
            "grid_area": null,
            "grid_auto_columns": null,
            "grid_auto_flow": null,
            "grid_auto_rows": null,
            "grid_column": null,
            "grid_gap": null,
            "grid_row": null,
            "grid_template_areas": null,
            "grid_template_columns": null,
            "grid_template_rows": null,
            "height": null,
            "justify_content": null,
            "justify_items": null,
            "left": null,
            "margin": null,
            "max_height": null,
            "max_width": null,
            "min_height": null,
            "min_width": null,
            "object_fit": null,
            "object_position": null,
            "order": null,
            "overflow": null,
            "overflow_x": null,
            "overflow_y": null,
            "padding": null,
            "right": null,
            "top": null,
            "visibility": null,
            "width": null
          }
        },
        "1c95b8c5fe9b44048d3e659cde4f4d16": {
          "model_module": "@jupyter-widgets/controls",
          "model_name": "ProgressStyleModel",
          "model_module_version": "1.5.0",
          "state": {
            "_model_module": "@jupyter-widgets/controls",
            "_model_module_version": "1.5.0",
            "_model_name": "ProgressStyleModel",
            "_view_count": null,
            "_view_module": "@jupyter-widgets/base",
            "_view_module_version": "1.2.0",
            "_view_name": "StyleView",
            "bar_color": null,
            "description_width": ""
          }
        },
        "13acce15b88148eebd9ee6c7247dc324": {
          "model_module": "@jupyter-widgets/base",
          "model_name": "LayoutModel",
          "model_module_version": "1.2.0",
          "state": {
            "_model_module": "@jupyter-widgets/base",
            "_model_module_version": "1.2.0",
            "_model_name": "LayoutModel",
            "_view_count": null,
            "_view_module": "@jupyter-widgets/base",
            "_view_module_version": "1.2.0",
            "_view_name": "LayoutView",
            "align_content": null,
            "align_items": null,
            "align_self": null,
            "border": null,
            "bottom": null,
            "display": null,
            "flex": null,
            "flex_flow": null,
            "grid_area": null,
            "grid_auto_columns": null,
            "grid_auto_flow": null,
            "grid_auto_rows": null,
            "grid_column": null,
            "grid_gap": null,
            "grid_row": null,
            "grid_template_areas": null,
            "grid_template_columns": null,
            "grid_template_rows": null,
            "height": null,
            "justify_content": null,
            "justify_items": null,
            "left": null,
            "margin": null,
            "max_height": null,
            "max_width": null,
            "min_height": null,
            "min_width": null,
            "object_fit": null,
            "object_position": null,
            "order": null,
            "overflow": null,
            "overflow_x": null,
            "overflow_y": null,
            "padding": null,
            "right": null,
            "top": null,
            "visibility": null,
            "width": null
          }
        },
        "078a4966c1654974ad5c8855ff609fc8": {
          "model_module": "@jupyter-widgets/controls",
          "model_name": "DescriptionStyleModel",
          "model_module_version": "1.5.0",
          "state": {
            "_model_module": "@jupyter-widgets/controls",
            "_model_module_version": "1.5.0",
            "_model_name": "DescriptionStyleModel",
            "_view_count": null,
            "_view_module": "@jupyter-widgets/base",
            "_view_module_version": "1.2.0",
            "_view_name": "StyleView",
            "description_width": ""
          }
        },
        "4865f2944d3844b4b25828f6fb1351e9": {
          "model_module": "@jupyter-widgets/controls",
          "model_name": "HBoxModel",
          "model_module_version": "1.5.0",
          "state": {
            "_dom_classes": [],
            "_model_module": "@jupyter-widgets/controls",
            "_model_module_version": "1.5.0",
            "_model_name": "HBoxModel",
            "_view_count": null,
            "_view_module": "@jupyter-widgets/controls",
            "_view_module_version": "1.5.0",
            "_view_name": "HBoxView",
            "box_style": "",
            "children": [
              "IPY_MODEL_a3ea6a396efa40ce8d4a1158ec939195",
              "IPY_MODEL_cba7b4db495b4f1995aa27a751f19011",
              "IPY_MODEL_5097bf5dceeb42f8b53796d94d1544ed"
            ],
            "layout": "IPY_MODEL_9d0406fc78ea49d682a9283a632f9a77"
          }
        },
        "a3ea6a396efa40ce8d4a1158ec939195": {
          "model_module": "@jupyter-widgets/controls",
          "model_name": "HTMLModel",
          "model_module_version": "1.5.0",
          "state": {
            "_dom_classes": [],
            "_model_module": "@jupyter-widgets/controls",
            "_model_module_version": "1.5.0",
            "_model_name": "HTMLModel",
            "_view_count": null,
            "_view_module": "@jupyter-widgets/controls",
            "_view_module_version": "1.5.0",
            "_view_name": "HTMLView",
            "description": "",
            "description_tooltip": null,
            "layout": "IPY_MODEL_897bff50834c4d7caa1189eb133186f5",
            "placeholder": "​",
            "style": "IPY_MODEL_b5f96c82b8e74e79bdf8089865bc35e6",
            "value": "Downloading (…)solve/main/vocab.txt: 100%"
          }
        },
        "cba7b4db495b4f1995aa27a751f19011": {
          "model_module": "@jupyter-widgets/controls",
          "model_name": "FloatProgressModel",
          "model_module_version": "1.5.0",
          "state": {
            "_dom_classes": [],
            "_model_module": "@jupyter-widgets/controls",
            "_model_module_version": "1.5.0",
            "_model_name": "FloatProgressModel",
            "_view_count": null,
            "_view_module": "@jupyter-widgets/controls",
            "_view_module_version": "1.5.0",
            "_view_name": "ProgressView",
            "bar_style": "success",
            "description": "",
            "description_tooltip": null,
            "layout": "IPY_MODEL_3de9375fcf124f4894c12375f17981d4",
            "max": 1649718,
            "min": 0,
            "orientation": "horizontal",
            "style": "IPY_MODEL_196806719b7549ca8ea01f3741e59cf1",
            "value": 1649718
          }
        },
        "5097bf5dceeb42f8b53796d94d1544ed": {
          "model_module": "@jupyter-widgets/controls",
          "model_name": "HTMLModel",
          "model_module_version": "1.5.0",
          "state": {
            "_dom_classes": [],
            "_model_module": "@jupyter-widgets/controls",
            "_model_module_version": "1.5.0",
            "_model_name": "HTMLModel",
            "_view_count": null,
            "_view_module": "@jupyter-widgets/controls",
            "_view_module_version": "1.5.0",
            "_view_name": "HTMLView",
            "description": "",
            "description_tooltip": null,
            "layout": "IPY_MODEL_eec1025e3d7b4023839032edfb945de6",
            "placeholder": "​",
            "style": "IPY_MODEL_b12382087ab54aa09e4cf6f97fd47f72",
            "value": " 1.65M/1.65M [00:00&lt;00:00, 16.5MB/s]"
          }
        },
        "9d0406fc78ea49d682a9283a632f9a77": {
          "model_module": "@jupyter-widgets/base",
          "model_name": "LayoutModel",
          "model_module_version": "1.2.0",
          "state": {
            "_model_module": "@jupyter-widgets/base",
            "_model_module_version": "1.2.0",
            "_model_name": "LayoutModel",
            "_view_count": null,
            "_view_module": "@jupyter-widgets/base",
            "_view_module_version": "1.2.0",
            "_view_name": "LayoutView",
            "align_content": null,
            "align_items": null,
            "align_self": null,
            "border": null,
            "bottom": null,
            "display": null,
            "flex": null,
            "flex_flow": null,
            "grid_area": null,
            "grid_auto_columns": null,
            "grid_auto_flow": null,
            "grid_auto_rows": null,
            "grid_column": null,
            "grid_gap": null,
            "grid_row": null,
            "grid_template_areas": null,
            "grid_template_columns": null,
            "grid_template_rows": null,
            "height": null,
            "justify_content": null,
            "justify_items": null,
            "left": null,
            "margin": null,
            "max_height": null,
            "max_width": null,
            "min_height": null,
            "min_width": null,
            "object_fit": null,
            "object_position": null,
            "order": null,
            "overflow": null,
            "overflow_x": null,
            "overflow_y": null,
            "padding": null,
            "right": null,
            "top": null,
            "visibility": null,
            "width": null
          }
        },
        "897bff50834c4d7caa1189eb133186f5": {
          "model_module": "@jupyter-widgets/base",
          "model_name": "LayoutModel",
          "model_module_version": "1.2.0",
          "state": {
            "_model_module": "@jupyter-widgets/base",
            "_model_module_version": "1.2.0",
            "_model_name": "LayoutModel",
            "_view_count": null,
            "_view_module": "@jupyter-widgets/base",
            "_view_module_version": "1.2.0",
            "_view_name": "LayoutView",
            "align_content": null,
            "align_items": null,
            "align_self": null,
            "border": null,
            "bottom": null,
            "display": null,
            "flex": null,
            "flex_flow": null,
            "grid_area": null,
            "grid_auto_columns": null,
            "grid_auto_flow": null,
            "grid_auto_rows": null,
            "grid_column": null,
            "grid_gap": null,
            "grid_row": null,
            "grid_template_areas": null,
            "grid_template_columns": null,
            "grid_template_rows": null,
            "height": null,
            "justify_content": null,
            "justify_items": null,
            "left": null,
            "margin": null,
            "max_height": null,
            "max_width": null,
            "min_height": null,
            "min_width": null,
            "object_fit": null,
            "object_position": null,
            "order": null,
            "overflow": null,
            "overflow_x": null,
            "overflow_y": null,
            "padding": null,
            "right": null,
            "top": null,
            "visibility": null,
            "width": null
          }
        },
        "b5f96c82b8e74e79bdf8089865bc35e6": {
          "model_module": "@jupyter-widgets/controls",
          "model_name": "DescriptionStyleModel",
          "model_module_version": "1.5.0",
          "state": {
            "_model_module": "@jupyter-widgets/controls",
            "_model_module_version": "1.5.0",
            "_model_name": "DescriptionStyleModel",
            "_view_count": null,
            "_view_module": "@jupyter-widgets/base",
            "_view_module_version": "1.2.0",
            "_view_name": "StyleView",
            "description_width": ""
          }
        },
        "3de9375fcf124f4894c12375f17981d4": {
          "model_module": "@jupyter-widgets/base",
          "model_name": "LayoutModel",
          "model_module_version": "1.2.0",
          "state": {
            "_model_module": "@jupyter-widgets/base",
            "_model_module_version": "1.2.0",
            "_model_name": "LayoutModel",
            "_view_count": null,
            "_view_module": "@jupyter-widgets/base",
            "_view_module_version": "1.2.0",
            "_view_name": "LayoutView",
            "align_content": null,
            "align_items": null,
            "align_self": null,
            "border": null,
            "bottom": null,
            "display": null,
            "flex": null,
            "flex_flow": null,
            "grid_area": null,
            "grid_auto_columns": null,
            "grid_auto_flow": null,
            "grid_auto_rows": null,
            "grid_column": null,
            "grid_gap": null,
            "grid_row": null,
            "grid_template_areas": null,
            "grid_template_columns": null,
            "grid_template_rows": null,
            "height": null,
            "justify_content": null,
            "justify_items": null,
            "left": null,
            "margin": null,
            "max_height": null,
            "max_width": null,
            "min_height": null,
            "min_width": null,
            "object_fit": null,
            "object_position": null,
            "order": null,
            "overflow": null,
            "overflow_x": null,
            "overflow_y": null,
            "padding": null,
            "right": null,
            "top": null,
            "visibility": null,
            "width": null
          }
        },
        "196806719b7549ca8ea01f3741e59cf1": {
          "model_module": "@jupyter-widgets/controls",
          "model_name": "ProgressStyleModel",
          "model_module_version": "1.5.0",
          "state": {
            "_model_module": "@jupyter-widgets/controls",
            "_model_module_version": "1.5.0",
            "_model_name": "ProgressStyleModel",
            "_view_count": null,
            "_view_module": "@jupyter-widgets/base",
            "_view_module_version": "1.2.0",
            "_view_name": "StyleView",
            "bar_color": null,
            "description_width": ""
          }
        },
        "eec1025e3d7b4023839032edfb945de6": {
          "model_module": "@jupyter-widgets/base",
          "model_name": "LayoutModel",
          "model_module_version": "1.2.0",
          "state": {
            "_model_module": "@jupyter-widgets/base",
            "_model_module_version": "1.2.0",
            "_model_name": "LayoutModel",
            "_view_count": null,
            "_view_module": "@jupyter-widgets/base",
            "_view_module_version": "1.2.0",
            "_view_name": "LayoutView",
            "align_content": null,
            "align_items": null,
            "align_self": null,
            "border": null,
            "bottom": null,
            "display": null,
            "flex": null,
            "flex_flow": null,
            "grid_area": null,
            "grid_auto_columns": null,
            "grid_auto_flow": null,
            "grid_auto_rows": null,
            "grid_column": null,
            "grid_gap": null,
            "grid_row": null,
            "grid_template_areas": null,
            "grid_template_columns": null,
            "grid_template_rows": null,
            "height": null,
            "justify_content": null,
            "justify_items": null,
            "left": null,
            "margin": null,
            "max_height": null,
            "max_width": null,
            "min_height": null,
            "min_width": null,
            "object_fit": null,
            "object_position": null,
            "order": null,
            "overflow": null,
            "overflow_x": null,
            "overflow_y": null,
            "padding": null,
            "right": null,
            "top": null,
            "visibility": null,
            "width": null
          }
        },
        "b12382087ab54aa09e4cf6f97fd47f72": {
          "model_module": "@jupyter-widgets/controls",
          "model_name": "DescriptionStyleModel",
          "model_module_version": "1.5.0",
          "state": {
            "_model_module": "@jupyter-widgets/controls",
            "_model_module_version": "1.5.0",
            "_model_name": "DescriptionStyleModel",
            "_view_count": null,
            "_view_module": "@jupyter-widgets/base",
            "_view_module_version": "1.2.0",
            "_view_name": "StyleView",
            "description_width": ""
          }
        },
        "c2d86a75e9224e76a556a95634f919f4": {
          "model_module": "@jupyter-widgets/controls",
          "model_name": "HBoxModel",
          "model_module_version": "1.5.0",
          "state": {
            "_dom_classes": [],
            "_model_module": "@jupyter-widgets/controls",
            "_model_module_version": "1.5.0",
            "_model_name": "HBoxModel",
            "_view_count": null,
            "_view_module": "@jupyter-widgets/controls",
            "_view_module_version": "1.5.0",
            "_view_name": "HBoxView",
            "box_style": "",
            "children": [
              "IPY_MODEL_1a367a2d2a4f4dfeb49d78c9b37ecc90",
              "IPY_MODEL_d73383e6453e4fc6b5f680ed98281cd4",
              "IPY_MODEL_d70fafc21a78494386f66dd119b4c395"
            ],
            "layout": "IPY_MODEL_53e3fbe02b11461384224fb5b2839452"
          }
        },
        "1a367a2d2a4f4dfeb49d78c9b37ecc90": {
          "model_module": "@jupyter-widgets/controls",
          "model_name": "HTMLModel",
          "model_module_version": "1.5.0",
          "state": {
            "_dom_classes": [],
            "_model_module": "@jupyter-widgets/controls",
            "_model_module_version": "1.5.0",
            "_model_name": "HTMLModel",
            "_view_count": null,
            "_view_module": "@jupyter-widgets/controls",
            "_view_module_version": "1.5.0",
            "_view_name": "HTMLView",
            "description": "",
            "description_tooltip": null,
            "layout": "IPY_MODEL_87712219fc95448a8ba8456143f3b13f",
            "placeholder": "​",
            "style": "IPY_MODEL_ffeb4ee07a3f4f93a4f75044c9264550",
            "value": "Downloading (…)cial_tokens_map.json: 100%"
          }
        },
        "d73383e6453e4fc6b5f680ed98281cd4": {
          "model_module": "@jupyter-widgets/controls",
          "model_name": "FloatProgressModel",
          "model_module_version": "1.5.0",
          "state": {
            "_dom_classes": [],
            "_model_module": "@jupyter-widgets/controls",
            "_model_module_version": "1.5.0",
            "_model_name": "FloatProgressModel",
            "_view_count": null,
            "_view_module": "@jupyter-widgets/controls",
            "_view_module_version": "1.5.0",
            "_view_name": "ProgressView",
            "bar_style": "success",
            "description": "",
            "description_tooltip": null,
            "layout": "IPY_MODEL_3078fb2c76cd4929a1bc17033a2b249f",
            "max": 112,
            "min": 0,
            "orientation": "horizontal",
            "style": "IPY_MODEL_0e1140eaab98400199be60e809440f2f",
            "value": 112
          }
        },
        "d70fafc21a78494386f66dd119b4c395": {
          "model_module": "@jupyter-widgets/controls",
          "model_name": "HTMLModel",
          "model_module_version": "1.5.0",
          "state": {
            "_dom_classes": [],
            "_model_module": "@jupyter-widgets/controls",
            "_model_module_version": "1.5.0",
            "_model_name": "HTMLModel",
            "_view_count": null,
            "_view_module": "@jupyter-widgets/controls",
            "_view_module_version": "1.5.0",
            "_view_name": "HTMLView",
            "description": "",
            "description_tooltip": null,
            "layout": "IPY_MODEL_379fcb4a1e05416192c2958f1d28f523",
            "placeholder": "​",
            "style": "IPY_MODEL_0aaaeaff8b534b37a6096a04dc06195d",
            "value": " 112/112 [00:00&lt;00:00, 1.78kB/s]"
          }
        },
        "53e3fbe02b11461384224fb5b2839452": {
          "model_module": "@jupyter-widgets/base",
          "model_name": "LayoutModel",
          "model_module_version": "1.2.0",
          "state": {
            "_model_module": "@jupyter-widgets/base",
            "_model_module_version": "1.2.0",
            "_model_name": "LayoutModel",
            "_view_count": null,
            "_view_module": "@jupyter-widgets/base",
            "_view_module_version": "1.2.0",
            "_view_name": "LayoutView",
            "align_content": null,
            "align_items": null,
            "align_self": null,
            "border": null,
            "bottom": null,
            "display": null,
            "flex": null,
            "flex_flow": null,
            "grid_area": null,
            "grid_auto_columns": null,
            "grid_auto_flow": null,
            "grid_auto_rows": null,
            "grid_column": null,
            "grid_gap": null,
            "grid_row": null,
            "grid_template_areas": null,
            "grid_template_columns": null,
            "grid_template_rows": null,
            "height": null,
            "justify_content": null,
            "justify_items": null,
            "left": null,
            "margin": null,
            "max_height": null,
            "max_width": null,
            "min_height": null,
            "min_width": null,
            "object_fit": null,
            "object_position": null,
            "order": null,
            "overflow": null,
            "overflow_x": null,
            "overflow_y": null,
            "padding": null,
            "right": null,
            "top": null,
            "visibility": null,
            "width": null
          }
        },
        "87712219fc95448a8ba8456143f3b13f": {
          "model_module": "@jupyter-widgets/base",
          "model_name": "LayoutModel",
          "model_module_version": "1.2.0",
          "state": {
            "_model_module": "@jupyter-widgets/base",
            "_model_module_version": "1.2.0",
            "_model_name": "LayoutModel",
            "_view_count": null,
            "_view_module": "@jupyter-widgets/base",
            "_view_module_version": "1.2.0",
            "_view_name": "LayoutView",
            "align_content": null,
            "align_items": null,
            "align_self": null,
            "border": null,
            "bottom": null,
            "display": null,
            "flex": null,
            "flex_flow": null,
            "grid_area": null,
            "grid_auto_columns": null,
            "grid_auto_flow": null,
            "grid_auto_rows": null,
            "grid_column": null,
            "grid_gap": null,
            "grid_row": null,
            "grid_template_areas": null,
            "grid_template_columns": null,
            "grid_template_rows": null,
            "height": null,
            "justify_content": null,
            "justify_items": null,
            "left": null,
            "margin": null,
            "max_height": null,
            "max_width": null,
            "min_height": null,
            "min_width": null,
            "object_fit": null,
            "object_position": null,
            "order": null,
            "overflow": null,
            "overflow_x": null,
            "overflow_y": null,
            "padding": null,
            "right": null,
            "top": null,
            "visibility": null,
            "width": null
          }
        },
        "ffeb4ee07a3f4f93a4f75044c9264550": {
          "model_module": "@jupyter-widgets/controls",
          "model_name": "DescriptionStyleModel",
          "model_module_version": "1.5.0",
          "state": {
            "_model_module": "@jupyter-widgets/controls",
            "_model_module_version": "1.5.0",
            "_model_name": "DescriptionStyleModel",
            "_view_count": null,
            "_view_module": "@jupyter-widgets/base",
            "_view_module_version": "1.2.0",
            "_view_name": "StyleView",
            "description_width": ""
          }
        },
        "3078fb2c76cd4929a1bc17033a2b249f": {
          "model_module": "@jupyter-widgets/base",
          "model_name": "LayoutModel",
          "model_module_version": "1.2.0",
          "state": {
            "_model_module": "@jupyter-widgets/base",
            "_model_module_version": "1.2.0",
            "_model_name": "LayoutModel",
            "_view_count": null,
            "_view_module": "@jupyter-widgets/base",
            "_view_module_version": "1.2.0",
            "_view_name": "LayoutView",
            "align_content": null,
            "align_items": null,
            "align_self": null,
            "border": null,
            "bottom": null,
            "display": null,
            "flex": null,
            "flex_flow": null,
            "grid_area": null,
            "grid_auto_columns": null,
            "grid_auto_flow": null,
            "grid_auto_rows": null,
            "grid_column": null,
            "grid_gap": null,
            "grid_row": null,
            "grid_template_areas": null,
            "grid_template_columns": null,
            "grid_template_rows": null,
            "height": null,
            "justify_content": null,
            "justify_items": null,
            "left": null,
            "margin": null,
            "max_height": null,
            "max_width": null,
            "min_height": null,
            "min_width": null,
            "object_fit": null,
            "object_position": null,
            "order": null,
            "overflow": null,
            "overflow_x": null,
            "overflow_y": null,
            "padding": null,
            "right": null,
            "top": null,
            "visibility": null,
            "width": null
          }
        },
        "0e1140eaab98400199be60e809440f2f": {
          "model_module": "@jupyter-widgets/controls",
          "model_name": "ProgressStyleModel",
          "model_module_version": "1.5.0",
          "state": {
            "_model_module": "@jupyter-widgets/controls",
            "_model_module_version": "1.5.0",
            "_model_name": "ProgressStyleModel",
            "_view_count": null,
            "_view_module": "@jupyter-widgets/base",
            "_view_module_version": "1.2.0",
            "_view_name": "StyleView",
            "bar_color": null,
            "description_width": ""
          }
        },
        "379fcb4a1e05416192c2958f1d28f523": {
          "model_module": "@jupyter-widgets/base",
          "model_name": "LayoutModel",
          "model_module_version": "1.2.0",
          "state": {
            "_model_module": "@jupyter-widgets/base",
            "_model_module_version": "1.2.0",
            "_model_name": "LayoutModel",
            "_view_count": null,
            "_view_module": "@jupyter-widgets/base",
            "_view_module_version": "1.2.0",
            "_view_name": "LayoutView",
            "align_content": null,
            "align_items": null,
            "align_self": null,
            "border": null,
            "bottom": null,
            "display": null,
            "flex": null,
            "flex_flow": null,
            "grid_area": null,
            "grid_auto_columns": null,
            "grid_auto_flow": null,
            "grid_auto_rows": null,
            "grid_column": null,
            "grid_gap": null,
            "grid_row": null,
            "grid_template_areas": null,
            "grid_template_columns": null,
            "grid_template_rows": null,
            "height": null,
            "justify_content": null,
            "justify_items": null,
            "left": null,
            "margin": null,
            "max_height": null,
            "max_width": null,
            "min_height": null,
            "min_width": null,
            "object_fit": null,
            "object_position": null,
            "order": null,
            "overflow": null,
            "overflow_x": null,
            "overflow_y": null,
            "padding": null,
            "right": null,
            "top": null,
            "visibility": null,
            "width": null
          }
        },
        "0aaaeaff8b534b37a6096a04dc06195d": {
          "model_module": "@jupyter-widgets/controls",
          "model_name": "DescriptionStyleModel",
          "model_module_version": "1.5.0",
          "state": {
            "_model_module": "@jupyter-widgets/controls",
            "_model_module_version": "1.5.0",
            "_model_name": "DescriptionStyleModel",
            "_view_count": null,
            "_view_module": "@jupyter-widgets/base",
            "_view_module_version": "1.2.0",
            "_view_name": "StyleView",
            "description_width": ""
          }
        },
        "864bbe4c4fe04b36b89a757a8170fadb": {
          "model_module": "@jupyter-widgets/controls",
          "model_name": "HBoxModel",
          "model_module_version": "1.5.0",
          "state": {
            "_dom_classes": [],
            "_model_module": "@jupyter-widgets/controls",
            "_model_module_version": "1.5.0",
            "_model_name": "HBoxModel",
            "_view_count": null,
            "_view_module": "@jupyter-widgets/controls",
            "_view_module_version": "1.5.0",
            "_view_name": "HBoxView",
            "box_style": "",
            "children": [
              "IPY_MODEL_ceb46c0a533641408b4872eb819cb47f",
              "IPY_MODEL_ae3c1ff2f0a54f82bb80af047969da4a",
              "IPY_MODEL_06669494d2854ea6bea633f90799c243"
            ],
            "layout": "IPY_MODEL_88c3c351c923479a89924b7fc82c0254"
          }
        },
        "ceb46c0a533641408b4872eb819cb47f": {
          "model_module": "@jupyter-widgets/controls",
          "model_name": "HTMLModel",
          "model_module_version": "1.5.0",
          "state": {
            "_dom_classes": [],
            "_model_module": "@jupyter-widgets/controls",
            "_model_module_version": "1.5.0",
            "_model_name": "HTMLModel",
            "_view_count": null,
            "_view_module": "@jupyter-widgets/controls",
            "_view_module_version": "1.5.0",
            "_view_name": "HTMLView",
            "description": "",
            "description_tooltip": null,
            "layout": "IPY_MODEL_b8a4274ae31747fa8ce116b608f1322b",
            "placeholder": "​",
            "style": "IPY_MODEL_1b87045ac4db416f824db7ec28a9816e",
            "value": "Downloading pytorch_model.bin: 100%"
          }
        },
        "ae3c1ff2f0a54f82bb80af047969da4a": {
          "model_module": "@jupyter-widgets/controls",
          "model_name": "FloatProgressModel",
          "model_module_version": "1.5.0",
          "state": {
            "_dom_classes": [],
            "_model_module": "@jupyter-widgets/controls",
            "_model_module_version": "1.5.0",
            "_model_name": "FloatProgressModel",
            "_view_count": null,
            "_view_module": "@jupyter-widgets/controls",
            "_view_module_version": "1.5.0",
            "_view_name": "ProgressView",
            "bar_style": "success",
            "description": "",
            "description_tooltip": null,
            "layout": "IPY_MODEL_c0d5989730b5467a88f3ddbc191abedb",
            "max": 711456784,
            "min": 0,
            "orientation": "horizontal",
            "style": "IPY_MODEL_7aa42c60e60a4582a6cd61427ae21c22",
            "value": 711456784
          }
        },
        "06669494d2854ea6bea633f90799c243": {
          "model_module": "@jupyter-widgets/controls",
          "model_name": "HTMLModel",
          "model_module_version": "1.5.0",
          "state": {
            "_dom_classes": [],
            "_model_module": "@jupyter-widgets/controls",
            "_model_module_version": "1.5.0",
            "_model_name": "HTMLModel",
            "_view_count": null,
            "_view_module": "@jupyter-widgets/controls",
            "_view_module_version": "1.5.0",
            "_view_name": "HTMLView",
            "description": "",
            "description_tooltip": null,
            "layout": "IPY_MODEL_735ccc91a26b40f9a3e4e3e76a4f9c0c",
            "placeholder": "​",
            "style": "IPY_MODEL_731643469ea845b294899e3b0d3070b0",
            "value": " 711M/711M [00:04&lt;00:00, 214MB/s]"
          }
        },
        "88c3c351c923479a89924b7fc82c0254": {
          "model_module": "@jupyter-widgets/base",
          "model_name": "LayoutModel",
          "model_module_version": "1.2.0",
          "state": {
            "_model_module": "@jupyter-widgets/base",
            "_model_module_version": "1.2.0",
            "_model_name": "LayoutModel",
            "_view_count": null,
            "_view_module": "@jupyter-widgets/base",
            "_view_module_version": "1.2.0",
            "_view_name": "LayoutView",
            "align_content": null,
            "align_items": null,
            "align_self": null,
            "border": null,
            "bottom": null,
            "display": null,
            "flex": null,
            "flex_flow": null,
            "grid_area": null,
            "grid_auto_columns": null,
            "grid_auto_flow": null,
            "grid_auto_rows": null,
            "grid_column": null,
            "grid_gap": null,
            "grid_row": null,
            "grid_template_areas": null,
            "grid_template_columns": null,
            "grid_template_rows": null,
            "height": null,
            "justify_content": null,
            "justify_items": null,
            "left": null,
            "margin": null,
            "max_height": null,
            "max_width": null,
            "min_height": null,
            "min_width": null,
            "object_fit": null,
            "object_position": null,
            "order": null,
            "overflow": null,
            "overflow_x": null,
            "overflow_y": null,
            "padding": null,
            "right": null,
            "top": null,
            "visibility": null,
            "width": null
          }
        },
        "b8a4274ae31747fa8ce116b608f1322b": {
          "model_module": "@jupyter-widgets/base",
          "model_name": "LayoutModel",
          "model_module_version": "1.2.0",
          "state": {
            "_model_module": "@jupyter-widgets/base",
            "_model_module_version": "1.2.0",
            "_model_name": "LayoutModel",
            "_view_count": null,
            "_view_module": "@jupyter-widgets/base",
            "_view_module_version": "1.2.0",
            "_view_name": "LayoutView",
            "align_content": null,
            "align_items": null,
            "align_self": null,
            "border": null,
            "bottom": null,
            "display": null,
            "flex": null,
            "flex_flow": null,
            "grid_area": null,
            "grid_auto_columns": null,
            "grid_auto_flow": null,
            "grid_auto_rows": null,
            "grid_column": null,
            "grid_gap": null,
            "grid_row": null,
            "grid_template_areas": null,
            "grid_template_columns": null,
            "grid_template_rows": null,
            "height": null,
            "justify_content": null,
            "justify_items": null,
            "left": null,
            "margin": null,
            "max_height": null,
            "max_width": null,
            "min_height": null,
            "min_width": null,
            "object_fit": null,
            "object_position": null,
            "order": null,
            "overflow": null,
            "overflow_x": null,
            "overflow_y": null,
            "padding": null,
            "right": null,
            "top": null,
            "visibility": null,
            "width": null
          }
        },
        "1b87045ac4db416f824db7ec28a9816e": {
          "model_module": "@jupyter-widgets/controls",
          "model_name": "DescriptionStyleModel",
          "model_module_version": "1.5.0",
          "state": {
            "_model_module": "@jupyter-widgets/controls",
            "_model_module_version": "1.5.0",
            "_model_name": "DescriptionStyleModel",
            "_view_count": null,
            "_view_module": "@jupyter-widgets/base",
            "_view_module_version": "1.2.0",
            "_view_name": "StyleView",
            "description_width": ""
          }
        },
        "c0d5989730b5467a88f3ddbc191abedb": {
          "model_module": "@jupyter-widgets/base",
          "model_name": "LayoutModel",
          "model_module_version": "1.2.0",
          "state": {
            "_model_module": "@jupyter-widgets/base",
            "_model_module_version": "1.2.0",
            "_model_name": "LayoutModel",
            "_view_count": null,
            "_view_module": "@jupyter-widgets/base",
            "_view_module_version": "1.2.0",
            "_view_name": "LayoutView",
            "align_content": null,
            "align_items": null,
            "align_self": null,
            "border": null,
            "bottom": null,
            "display": null,
            "flex": null,
            "flex_flow": null,
            "grid_area": null,
            "grid_auto_columns": null,
            "grid_auto_flow": null,
            "grid_auto_rows": null,
            "grid_column": null,
            "grid_gap": null,
            "grid_row": null,
            "grid_template_areas": null,
            "grid_template_columns": null,
            "grid_template_rows": null,
            "height": null,
            "justify_content": null,
            "justify_items": null,
            "left": null,
            "margin": null,
            "max_height": null,
            "max_width": null,
            "min_height": null,
            "min_width": null,
            "object_fit": null,
            "object_position": null,
            "order": null,
            "overflow": null,
            "overflow_x": null,
            "overflow_y": null,
            "padding": null,
            "right": null,
            "top": null,
            "visibility": null,
            "width": null
          }
        },
        "7aa42c60e60a4582a6cd61427ae21c22": {
          "model_module": "@jupyter-widgets/controls",
          "model_name": "ProgressStyleModel",
          "model_module_version": "1.5.0",
          "state": {
            "_model_module": "@jupyter-widgets/controls",
            "_model_module_version": "1.5.0",
            "_model_name": "ProgressStyleModel",
            "_view_count": null,
            "_view_module": "@jupyter-widgets/base",
            "_view_module_version": "1.2.0",
            "_view_name": "StyleView",
            "bar_color": null,
            "description_width": ""
          }
        },
        "735ccc91a26b40f9a3e4e3e76a4f9c0c": {
          "model_module": "@jupyter-widgets/base",
          "model_name": "LayoutModel",
          "model_module_version": "1.2.0",
          "state": {
            "_model_module": "@jupyter-widgets/base",
            "_model_module_version": "1.2.0",
            "_model_name": "LayoutModel",
            "_view_count": null,
            "_view_module": "@jupyter-widgets/base",
            "_view_module_version": "1.2.0",
            "_view_name": "LayoutView",
            "align_content": null,
            "align_items": null,
            "align_self": null,
            "border": null,
            "bottom": null,
            "display": null,
            "flex": null,
            "flex_flow": null,
            "grid_area": null,
            "grid_auto_columns": null,
            "grid_auto_flow": null,
            "grid_auto_rows": null,
            "grid_column": null,
            "grid_gap": null,
            "grid_row": null,
            "grid_template_areas": null,
            "grid_template_columns": null,
            "grid_template_rows": null,
            "height": null,
            "justify_content": null,
            "justify_items": null,
            "left": null,
            "margin": null,
            "max_height": null,
            "max_width": null,
            "min_height": null,
            "min_width": null,
            "object_fit": null,
            "object_position": null,
            "order": null,
            "overflow": null,
            "overflow_x": null,
            "overflow_y": null,
            "padding": null,
            "right": null,
            "top": null,
            "visibility": null,
            "width": null
          }
        },
        "731643469ea845b294899e3b0d3070b0": {
          "model_module": "@jupyter-widgets/controls",
          "model_name": "DescriptionStyleModel",
          "model_module_version": "1.5.0",
          "state": {
            "_model_module": "@jupyter-widgets/controls",
            "_model_module_version": "1.5.0",
            "_model_name": "DescriptionStyleModel",
            "_view_count": null,
            "_view_module": "@jupyter-widgets/base",
            "_view_module_version": "1.2.0",
            "_view_name": "StyleView",
            "description_width": ""
          }
        }
      }
    },
    "accelerator": "GPU"
  },
  "nbformat_minor": 5,
  "nbformat": 4,
  "cells": [
    {
      "cell_type": "markdown",
      "source": [
        "# 1. Information about the submission"
      ],
      "metadata": {
        "id": "b09d7a19-5848-43f4-9d91-f35d4e8614b0"
      },
      "id": "b09d7a19-5848-43f4-9d91-f35d4e8614b0"
    },
    {
      "cell_type": "markdown",
      "source": [
        "## 1.1 Name and number of the assignment "
      ],
      "metadata": {
        "id": "e37cb5bb-f3d0-4c11-a1dc-2490a208fcd3"
      },
      "id": "e37cb5bb-f3d0-4c11-a1dc-2490a208fcd3"
    },
    {
      "cell_type": "markdown",
      "source": [
        "### Text categorization: argument mining. Assignment 2."
      ],
      "metadata": {
        "id": "4e9d00b8-f3e5-4a44-bcc6-35cdd60767a9"
      },
      "id": "4e9d00b8-f3e5-4a44-bcc6-35cdd60767a9"
    },
    {
      "cell_type": "markdown",
      "source": [
        "## 1.2 Student name"
      ],
      "metadata": {
        "id": "64ba7f63-66ec-4691-a5d2-17f4679e298d"
      },
      "id": "64ba7f63-66ec-4691-a5d2-17f4679e298d"
    },
    {
      "cell_type": "markdown",
      "source": [
        "### Nuzhnov Mark"
      ],
      "metadata": {
        "id": "cc8a4e09-62cc-43fd-a7a7-3e9d55ec13b2"
      },
      "id": "cc8a4e09-62cc-43fd-a7a7-3e9d55ec13b2"
    },
    {
      "cell_type": "markdown",
      "source": [
        "## 1.3 Codalab user ID"
      ],
      "metadata": {
        "id": "8a46ab45-d215-41af-b910-63ff4a215a07"
      },
      "id": "8a46ab45-d215-41af-b910-63ff4a215a07"
    },
    {
      "cell_type": "markdown",
      "source": [
        "### Nuzhnov_Mark"
      ],
      "metadata": {
        "id": "b15cd6b5-8e20-4287-b6ea-a7b0904b355a"
      },
      "id": "b15cd6b5-8e20-4287-b6ea-a7b0904b355a"
    },
    {
      "cell_type": "markdown",
      "source": [
        "## 1.4 Additional comments"
      ],
      "metadata": {
        "id": "70456c74-8e1f-4da0-bebe-fbceee169115"
      },
      "id": "70456c74-8e1f-4da0-bebe-fbceee169115"
    },
    {
      "cell_type": "markdown",
      "source": [
        "***Enter here** any additional comments which you would like to communicate to a TA who is going to grade this work not related to the content of your submission.*"
      ],
      "metadata": {
        "id": "6b810ac6-7739-4f7f-8bea-dbf1198570ea"
      },
      "id": "6b810ac6-7739-4f7f-8bea-dbf1198570ea"
    },
    {
      "cell_type": "markdown",
      "source": [
        "# 2. Technical Report"
      ],
      "metadata": {
        "id": "1af498ab-3c00-4d36-a962-c947862fede8"
      },
      "id": "1af498ab-3c00-4d36-a962-c947862fede8"
    },
    {
      "cell_type": "markdown",
      "source": [
        "## 2.1 Methodology "
      ],
      "metadata": {
        "id": "061f71b9-114a-4cb0-b531-5711970317bf"
      },
      "id": "061f71b9-114a-4cb0-b531-5711970317bf"
    },
    {
      "cell_type": "markdown",
      "source": [
        "\n",
        "BERT (Bidirectional Encoder Representations from Transformers) is a recent paper published by researchers at Google AI Language. In practice, we compute the attention function on a set of queries simultaneously, packed together into a matrix $Q$.   The keys and values are also packed together into matrices $K$ and $V$.  We compute the matrix of outputs as:                      \n",
        "                                                                 \n",
        "$$                                                                         \n",
        "   \\mathrm{Attention}(Q, K, V) = \\mathrm{softmax}(\\frac{QK^T}{\\sqrt{d_k}})V               \n",
        "$$   \n",
        "\n",
        "![alt text](https://lena-voita.github.io/resources/lectures/seq2seq/transformer/qkv_explained-min.png)\n",
        "Source: [Lena Voita's Lecture about Seq2Seq](https://lena-voita.github.io/nlp_course/seq2seq_and_attention.html)\n",
        "\n",
        "Multi-head attention allows the model to jointly attend to information from different representation subspaces at different positions. With a single attention head, averaging inhibits this.                                            \n",
        "$$    \n",
        "\\mathrm{MultiHead}(Q, K, V) = \\mathrm{Concat}(\\mathrm{head_1}, ..., \\mathrm{head_h})W^O    \\\\                                           \n",
        "    \\text{where}~\\mathrm{head_i} = \\mathrm{Attention}(QW^Q_i, KW^K_i, VW^V_i)                                \n",
        "$$                                                                                                                 \n",
        "\n",
        "Where the projections are parameter matrices $W^Q_i \\in \\mathbb{R}^{d_{\\text{model}} \\times d_k}$, $W^K_i \\in \\mathbb{R}^{d_{\\text{model}} \\times d_k}$, $W^V_i \\in \\mathbb{R}^{d_{\\text{model}} \\times d_v}$ and $W^O \\in \\mathbb{R}^{hd_v \\times d_{\\text{model}}}$.                                                                                                                                                                                             In this work I tried employ $h=3$, $h=5$, $h=8$ parallel attention layers, or heads. For each of these I use $d_k=d_v=d_{\\text{model}}/h=64$. Due to the reduced dimension of each head, the total computational cost is similar to that of single-head attention with full dimensionality. \n",
        "\n",
        "![alt text](https://jalammar.github.io/images/t/transformer_multi-headed_self-attention-recap.png)\n",
        "Source: [The Illustrated Transformer](https://jalammar.github.io/illustrated-transformer/)"
      ],
      "metadata": {
        "id": "c327f43e-ed30-4279-bba2-a97b2f8ef9e3"
      },
      "id": "c327f43e-ed30-4279-bba2-a97b2f8ef9e3"
    },
    {
      "cell_type": "markdown",
      "source": [
        "## 2.2 Discussion of results"
      ],
      "metadata": {
        "id": "afe27e49-10c7-4c12-adea-48b0a05a5681"
      },
      "id": "afe27e49-10c7-4c12-adea-48b0a05a5681"
    },
    {
      "cell_type": "markdown",
      "source": [
        "When I ran baseline on Quarantine I got pretty bad results so I decided not to train it further and add MHA. First I tried 6 heads with key_dim=128 but results on dev were poor because I probably overfitted. Then I switched to 3 heads with key_dim=64. I was able to achieve f1-stance 0.5044 and f1-premise 0.4405 on development and 0.5384 and 0.4948 on post-eval.\n",
        "\n",
        "Training process details are available on [wandb](https://wandb.ai/darkdestiny/Argument%20mining?workspace=user-benchm)"
      ],
      "metadata": {
        "id": "b5b1c84c-c261-46b5-a009-0f2bc4002752"
      },
      "id": "b5b1c84c-c261-46b5-a009-0f2bc4002752"
    },
    {
      "cell_type": "markdown",
      "source": [
        "# 3. Code"
      ],
      "metadata": {
        "id": "194fecf1-e044-4210-a54b-aefbf4b4eebe"
      },
      "id": "194fecf1-e044-4210-a54b-aefbf4b4eebe"
    },
    {
      "cell_type": "markdown",
      "source": [
        "*Enter here all code used to produce your results submitted to Codalab. Add some comments and subsections to navigate though your solution.*\n",
        "\n",
        "*In this part you are expected to develop yourself a solution of the task and provide a reproducible code:*\n",
        "- *Using Python 3;*\n",
        "- *Contains code for installation of all dependencies;*\n",
        "- *Contains code for downloading of all the datasets used*;\n",
        "- *Contains the code for reproducing your results (in other words, if a tester downloads your notebook she should be able to run cell-by-cell the code and obtain your experimental results as described in the methodology section)*.\n",
        "\n",
        "\n",
        "*As a result, you code will be graded according to these criteria:*\n",
        "- ***Readability**: your code should be well-structured preferably with indicated parts of your approach (Preprocessing, Model training, Evaluation, etc.).*\n",
        "- ***Reproducibility**: your code should be reproduced without any mistakes with “Run all” mode (obtaining experimental part).*\n"
      ],
      "metadata": {
        "id": "a33ff9bd-62c6-4a63-8600-b1651420fee1"
      },
      "id": "a33ff9bd-62c6-4a63-8600-b1651420fee1"
    },
    {
      "cell_type": "markdown",
      "source": [
        "## 3.1 Requirements"
      ],
      "metadata": {
        "id": "dff93e37-3a24-40ab-87db-16b537aad3f6"
      },
      "id": "dff93e37-3a24-40ab-87db-16b537aad3f6"
    },
    {
      "cell_type": "code",
      "source": [
        "! pip install transformers\n",
        "! pip install gdown\n",
        "! pip install wandb"
      ],
      "metadata": {
        "colab": {
          "base_uri": "https://localhost:8080/"
        },
        "id": "paNHf6yRz5jK",
        "outputId": "bcd9dc12-7f82-45eb-a352-278da6039f2a",
        "execution": {
          "iopub.status.busy": "2023-04-25T07:17:05.967326Z",
          "iopub.execute_input": "2023-04-25T07:17:05.968776Z",
          "iopub.status.idle": "2023-04-25T07:17:39.172076Z",
          "shell.execute_reply.started": "2023-04-25T07:17:05.968719Z",
          "shell.execute_reply": "2023-04-25T07:17:39.170776Z"
        },
        "trusted": true
      },
      "execution_count": 1,
      "outputs": [
        {
          "output_type": "stream",
          "name": "stdout",
          "text": [
            "Looking in indexes: https://pypi.org/simple, https://us-python.pkg.dev/colab-wheels/public/simple/\n",
            "Collecting transformers\n",
            "  Downloading transformers-4.28.1-py3-none-any.whl (7.0 MB)\n",
            "\u001b[2K     \u001b[90m━━━━━━━━━━━━━━━━━━━━━━━━━━━━━━━━━━━━━━━━\u001b[0m \u001b[32m7.0/7.0 MB\u001b[0m \u001b[31m71.9 MB/s\u001b[0m eta \u001b[36m0:00:00\u001b[0m\n",
            "\u001b[?25hRequirement already satisfied: requests in /usr/local/lib/python3.9/dist-packages (from transformers) (2.27.1)\n",
            "Requirement already satisfied: pyyaml>=5.1 in /usr/local/lib/python3.9/dist-packages (from transformers) (6.0)\n",
            "Requirement already satisfied: tqdm>=4.27 in /usr/local/lib/python3.9/dist-packages (from transformers) (4.65.0)\n",
            "Requirement already satisfied: packaging>=20.0 in /usr/local/lib/python3.9/dist-packages (from transformers) (23.1)\n",
            "Requirement already satisfied: numpy>=1.17 in /usr/local/lib/python3.9/dist-packages (from transformers) (1.22.4)\n",
            "Collecting tokenizers!=0.11.3,<0.14,>=0.11.1\n",
            "  Downloading tokenizers-0.13.3-cp39-cp39-manylinux_2_17_x86_64.manylinux2014_x86_64.whl (7.8 MB)\n",
            "\u001b[2K     \u001b[90m━━━━━━━━━━━━━━━━━━━━━━━━━━━━━━━━━━━━━━━━\u001b[0m \u001b[32m7.8/7.8 MB\u001b[0m \u001b[31m107.8 MB/s\u001b[0m eta \u001b[36m0:00:00\u001b[0m\n",
            "\u001b[?25hCollecting huggingface-hub<1.0,>=0.11.0\n",
            "  Downloading huggingface_hub-0.14.1-py3-none-any.whl (224 kB)\n",
            "\u001b[2K     \u001b[90m━━━━━━━━━━━━━━━━━━━━━━━━━━━━━━━━━━━━━━\u001b[0m \u001b[32m224.5/224.5 kB\u001b[0m \u001b[31m27.2 MB/s\u001b[0m eta \u001b[36m0:00:00\u001b[0m\n",
            "\u001b[?25hRequirement already satisfied: regex!=2019.12.17 in /usr/local/lib/python3.9/dist-packages (from transformers) (2022.10.31)\n",
            "Requirement already satisfied: filelock in /usr/local/lib/python3.9/dist-packages (from transformers) (3.11.0)\n",
            "Requirement already satisfied: typing-extensions>=3.7.4.3 in /usr/local/lib/python3.9/dist-packages (from huggingface-hub<1.0,>=0.11.0->transformers) (4.5.0)\n",
            "Requirement already satisfied: fsspec in /usr/local/lib/python3.9/dist-packages (from huggingface-hub<1.0,>=0.11.0->transformers) (2023.4.0)\n",
            "Requirement already satisfied: certifi>=2017.4.17 in /usr/local/lib/python3.9/dist-packages (from requests->transformers) (2022.12.7)\n",
            "Requirement already satisfied: charset-normalizer~=2.0.0 in /usr/local/lib/python3.9/dist-packages (from requests->transformers) (2.0.12)\n",
            "Requirement already satisfied: idna<4,>=2.5 in /usr/local/lib/python3.9/dist-packages (from requests->transformers) (3.4)\n",
            "Requirement already satisfied: urllib3<1.27,>=1.21.1 in /usr/local/lib/python3.9/dist-packages (from requests->transformers) (1.26.15)\n",
            "Installing collected packages: tokenizers, huggingface-hub, transformers\n",
            "Successfully installed huggingface-hub-0.14.1 tokenizers-0.13.3 transformers-4.28.1\n",
            "Looking in indexes: https://pypi.org/simple, https://us-python.pkg.dev/colab-wheels/public/simple/\n",
            "Requirement already satisfied: gdown in /usr/local/lib/python3.9/dist-packages (4.6.6)\n",
            "Requirement already satisfied: tqdm in /usr/local/lib/python3.9/dist-packages (from gdown) (4.65.0)\n",
            "Requirement already satisfied: beautifulsoup4 in /usr/local/lib/python3.9/dist-packages (from gdown) (4.11.2)\n",
            "Requirement already satisfied: requests[socks] in /usr/local/lib/python3.9/dist-packages (from gdown) (2.27.1)\n",
            "Requirement already satisfied: filelock in /usr/local/lib/python3.9/dist-packages (from gdown) (3.11.0)\n",
            "Requirement already satisfied: six in /usr/local/lib/python3.9/dist-packages (from gdown) (1.16.0)\n",
            "Requirement already satisfied: soupsieve>1.2 in /usr/local/lib/python3.9/dist-packages (from beautifulsoup4->gdown) (2.4.1)\n",
            "Requirement already satisfied: idna<4,>=2.5 in /usr/local/lib/python3.9/dist-packages (from requests[socks]->gdown) (3.4)\n",
            "Requirement already satisfied: certifi>=2017.4.17 in /usr/local/lib/python3.9/dist-packages (from requests[socks]->gdown) (2022.12.7)\n",
            "Requirement already satisfied: charset-normalizer~=2.0.0 in /usr/local/lib/python3.9/dist-packages (from requests[socks]->gdown) (2.0.12)\n",
            "Requirement already satisfied: urllib3<1.27,>=1.21.1 in /usr/local/lib/python3.9/dist-packages (from requests[socks]->gdown) (1.26.15)\n",
            "Requirement already satisfied: PySocks!=1.5.7,>=1.5.6 in /usr/local/lib/python3.9/dist-packages (from requests[socks]->gdown) (1.7.1)\n",
            "Looking in indexes: https://pypi.org/simple, https://us-python.pkg.dev/colab-wheels/public/simple/\n",
            "Collecting wandb\n",
            "  Downloading wandb-0.15.0-py3-none-any.whl (2.0 MB)\n",
            "\u001b[2K     \u001b[90m━━━━━━━━━━━━━━━━━━━━━━━━━━━━━━━━━━━━━━━━\u001b[0m \u001b[32m2.0/2.0 MB\u001b[0m \u001b[31m33.6 MB/s\u001b[0m eta \u001b[36m0:00:00\u001b[0m\n",
            "\u001b[?25hCollecting pathtools\n",
            "  Downloading pathtools-0.1.2.tar.gz (11 kB)\n",
            "  Preparing metadata (setup.py) ... \u001b[?25l\u001b[?25hdone\n",
            "Requirement already satisfied: PyYAML in /usr/local/lib/python3.9/dist-packages (from wandb) (6.0)\n",
            "Requirement already satisfied: protobuf!=4.21.0,<5,>=3.15.0 in /usr/local/lib/python3.9/dist-packages (from wandb) (3.20.3)\n",
            "Collecting docker-pycreds>=0.4.0\n",
            "  Downloading docker_pycreds-0.4.0-py2.py3-none-any.whl (9.0 kB)\n",
            "Requirement already satisfied: Click!=8.0.0,>=7.0 in /usr/local/lib/python3.9/dist-packages (from wandb) (8.1.3)\n",
            "Requirement already satisfied: setuptools in /usr/local/lib/python3.9/dist-packages (from wandb) (67.7.2)\n",
            "Collecting sentry-sdk>=1.0.0\n",
            "  Downloading sentry_sdk-1.21.0-py2.py3-none-any.whl (199 kB)\n",
            "\u001b[2K     \u001b[90m━━━━━━━━━━━━━━━━━━━━━━━━━━━━━━━━━━━━━━\u001b[0m \u001b[32m199.5/199.5 kB\u001b[0m \u001b[31m26.4 MB/s\u001b[0m eta \u001b[36m0:00:00\u001b[0m\n",
            "\u001b[?25hRequirement already satisfied: appdirs>=1.4.3 in /usr/local/lib/python3.9/dist-packages (from wandb) (1.4.4)\n",
            "Requirement already satisfied: psutil>=5.0.0 in /usr/local/lib/python3.9/dist-packages (from wandb) (5.9.5)\n",
            "Requirement already satisfied: typing-extensions in /usr/local/lib/python3.9/dist-packages (from wandb) (4.5.0)\n",
            "Requirement already satisfied: requests<3,>=2.0.0 in /usr/local/lib/python3.9/dist-packages (from wandb) (2.27.1)\n",
            "Collecting setproctitle\n",
            "  Downloading setproctitle-1.3.2-cp39-cp39-manylinux_2_5_x86_64.manylinux1_x86_64.manylinux_2_17_x86_64.manylinux2014_x86_64.whl (30 kB)\n",
            "Collecting GitPython!=3.1.29,>=1.0.0\n",
            "  Downloading GitPython-3.1.31-py3-none-any.whl (184 kB)\n",
            "\u001b[2K     \u001b[90m━━━━━━━━━━━━━━━━━━━━━━━━━━━━━━━━━━━━━━\u001b[0m \u001b[32m184.3/184.3 kB\u001b[0m \u001b[31m22.2 MB/s\u001b[0m eta \u001b[36m0:00:00\u001b[0m\n",
            "\u001b[?25hRequirement already satisfied: six>=1.4.0 in /usr/local/lib/python3.9/dist-packages (from docker-pycreds>=0.4.0->wandb) (1.16.0)\n",
            "Collecting gitdb<5,>=4.0.1\n",
            "  Downloading gitdb-4.0.10-py3-none-any.whl (62 kB)\n",
            "\u001b[2K     \u001b[90m━━━━━━━━━━━━━━━━━━━━━━━━━━━━━━━━━━━━━━━━\u001b[0m \u001b[32m62.7/62.7 kB\u001b[0m \u001b[31m8.9 MB/s\u001b[0m eta \u001b[36m0:00:00\u001b[0m\n",
            "\u001b[?25hRequirement already satisfied: urllib3<1.27,>=1.21.1 in /usr/local/lib/python3.9/dist-packages (from requests<3,>=2.0.0->wandb) (1.26.15)\n",
            "Requirement already satisfied: idna<4,>=2.5 in /usr/local/lib/python3.9/dist-packages (from requests<3,>=2.0.0->wandb) (3.4)\n",
            "Requirement already satisfied: charset-normalizer~=2.0.0 in /usr/local/lib/python3.9/dist-packages (from requests<3,>=2.0.0->wandb) (2.0.12)\n",
            "Requirement already satisfied: certifi>=2017.4.17 in /usr/local/lib/python3.9/dist-packages (from requests<3,>=2.0.0->wandb) (2022.12.7)\n",
            "Collecting smmap<6,>=3.0.1\n",
            "  Downloading smmap-5.0.0-py3-none-any.whl (24 kB)\n",
            "Building wheels for collected packages: pathtools\n",
            "  Building wheel for pathtools (setup.py) ... \u001b[?25l\u001b[?25hdone\n",
            "  Created wheel for pathtools: filename=pathtools-0.1.2-py3-none-any.whl size=8807 sha256=22d6cc86c80efd12c31d72e9cd64a8a53ca5bd60741071611818ad3e4246c4d7\n",
            "  Stored in directory: /root/.cache/pip/wheels/b7/0a/67/ada2a22079218c75a88361c0782855cc72aebc4d18d0289d05\n",
            "Successfully built pathtools\n",
            "Installing collected packages: pathtools, smmap, setproctitle, sentry-sdk, docker-pycreds, gitdb, GitPython, wandb\n",
            "Successfully installed GitPython-3.1.31 docker-pycreds-0.4.0 gitdb-4.0.10 pathtools-0.1.2 sentry-sdk-1.21.0 setproctitle-1.3.2 smmap-5.0.0 wandb-0.15.0\n"
          ]
        }
      ],
      "id": "paNHf6yRz5jK"
    },
    {
      "cell_type": "code",
      "source": [
        "!wandb login 7ed66683ab734c5607259a94b5937616a911f67b"
      ],
      "metadata": {
        "colab": {
          "base_uri": "https://localhost:8080/"
        },
        "id": "6L6N7lQSA6QA",
        "outputId": "53902872-d860-4002-c39f-c08ec6336fc9"
      },
      "id": "6L6N7lQSA6QA",
      "execution_count": 2,
      "outputs": [
        {
          "output_type": "stream",
          "name": "stdout",
          "text": [
            "\u001b[34m\u001b[1mwandb\u001b[0m: Appending key for api.wandb.ai to your netrc file: /root/.netrc\n"
          ]
        }
      ]
    },
    {
      "cell_type": "code",
      "source": [
        "from transformers import TFBertModel,  BertConfig, BertTokenizerFast\n",
        "from tensorflow.keras.layers import Input, Dropout, Dense\n",
        "from tensorflow.keras.models import Model\n",
        "from tensorflow.keras.optimizers import Adam\n",
        "from tensorflow.keras.callbacks import EarlyStopping\n",
        "from tensorflow.keras.initializers import TruncatedNormal\n",
        "from tensorflow.keras.losses import CategoricalCrossentropy\n",
        "from tensorflow.keras.metrics import CategoricalAccuracy\n",
        "from tensorflow.keras.utils import to_categorical\n",
        "from tensorflow.keras.layers import MultiHeadAttention, Flatten, TimeDistributed\n",
        "from tensorflow.keras.optimizers.experimental import AdamW\n",
        "import pandas as pd\n",
        "from sklearn.model_selection import train_test_split\n",
        "import os\n",
        "import numpy as np\n",
        "from sklearn.metrics import classification_report\n",
        "import wandb\n",
        "from wandb.keras import WandbCallback\n",
        "#from google.colab import drive\n",
        "#drive.mount('/content/drive')\n",
        "\n",
        "seed_value = 42\n",
        "os.environ['PYTHONHASHSEED']=str(seed_value)"
      ],
      "metadata": {
        "id": "73daa932-114b-4e28-9141-13b57c729435",
        "execution": {
          "iopub.status.busy": "2023-04-25T07:17:39.175092Z",
          "iopub.execute_input": "2023-04-25T07:17:39.175514Z",
          "iopub.status.idle": "2023-04-25T07:17:51.955267Z",
          "shell.execute_reply.started": "2023-04-25T07:17:39.175453Z",
          "shell.execute_reply": "2023-04-25T07:17:51.953613Z"
        },
        "trusted": true
      },
      "execution_count": 3,
      "outputs": [],
      "id": "73daa932-114b-4e28-9141-13b57c729435"
    },
    {
      "cell_type": "code",
      "source": [
        "# Name of the BERT model to use\n",
        "model_name = 'DeepPavlov/rubert-base-cased-sentence'\n",
        "\n",
        "# Load transformers config and set output_hidden_states to False\n",
        "config = BertConfig.from_pretrained(model_name)\n",
        "config.output_hidden_states = False\n",
        "\n",
        "# Load BERT tokenizer\n",
        "tokenizer = BertTokenizerFast.from_pretrained(pretrained_model_name_or_path = model_name, config=config)\n",
        "\n",
        "# Load the Transformers BERT model\n",
        "transformer_model = TFBertModel.from_pretrained(model_name, config=config, from_pt=True)\n",
        "\n",
        "# Load the MainLayer\n",
        "bert = transformer_model.layers[0]"
      ],
      "metadata": {
        "colab": {
          "base_uri": "https://localhost:8080/",
          "height": 262,
          "referenced_widgets": [
            "cb6c084f576341e0bc4d79b45c87ab55",
            "addcf5c3cd6945149ba5b8fcb30f89a9",
            "24dcd90e43174129b1bbb99b501de09c",
            "5b774550bcd943e6bbbf6f590c2d83ec",
            "106c1464129f47668396a91c4e1d58c2",
            "03fc647d0af948f9bdf7b861cdcdb97c",
            "b3724205e95043e2adba1d2158b6cc99",
            "31d368a929bf45328fd47405d64795ea",
            "aa0448c4ab4c4178bde5d46c021ee69f",
            "179c611e73c941c0b260f80ee5045d8a",
            "aebed5552a864e329da1c8035f07d661",
            "261169d813144c44bf70761f34c028b5",
            "ae4f4366c29a413ea299169f4fd19f78",
            "ddfc7727e3f64bdf972f63012783663b",
            "adc46a01b9504734ae3b90f96d6c2e00",
            "dc19dc7796c642d7a3d1cdb6e99b93fb",
            "b777faae291e4aa7b47a6e321ae36816",
            "3f2d64a79405431492cb0b9bcbee3ec0",
            "8a2e4d1dd74345929eafcfaa2238865f",
            "1c95b8c5fe9b44048d3e659cde4f4d16",
            "13acce15b88148eebd9ee6c7247dc324",
            "078a4966c1654974ad5c8855ff609fc8",
            "4865f2944d3844b4b25828f6fb1351e9",
            "a3ea6a396efa40ce8d4a1158ec939195",
            "cba7b4db495b4f1995aa27a751f19011",
            "5097bf5dceeb42f8b53796d94d1544ed",
            "9d0406fc78ea49d682a9283a632f9a77",
            "897bff50834c4d7caa1189eb133186f5",
            "b5f96c82b8e74e79bdf8089865bc35e6",
            "3de9375fcf124f4894c12375f17981d4",
            "196806719b7549ca8ea01f3741e59cf1",
            "eec1025e3d7b4023839032edfb945de6",
            "b12382087ab54aa09e4cf6f97fd47f72",
            "c2d86a75e9224e76a556a95634f919f4",
            "1a367a2d2a4f4dfeb49d78c9b37ecc90",
            "d73383e6453e4fc6b5f680ed98281cd4",
            "d70fafc21a78494386f66dd119b4c395",
            "53e3fbe02b11461384224fb5b2839452",
            "87712219fc95448a8ba8456143f3b13f",
            "ffeb4ee07a3f4f93a4f75044c9264550",
            "3078fb2c76cd4929a1bc17033a2b249f",
            "0e1140eaab98400199be60e809440f2f",
            "379fcb4a1e05416192c2958f1d28f523",
            "0aaaeaff8b534b37a6096a04dc06195d",
            "864bbe4c4fe04b36b89a757a8170fadb",
            "ceb46c0a533641408b4872eb819cb47f",
            "ae3c1ff2f0a54f82bb80af047969da4a",
            "06669494d2854ea6bea633f90799c243",
            "88c3c351c923479a89924b7fc82c0254",
            "b8a4274ae31747fa8ce116b608f1322b",
            "1b87045ac4db416f824db7ec28a9816e",
            "c0d5989730b5467a88f3ddbc191abedb",
            "7aa42c60e60a4582a6cd61427ae21c22",
            "735ccc91a26b40f9a3e4e3e76a4f9c0c",
            "731643469ea845b294899e3b0d3070b0"
          ]
        },
        "id": "Ifqn-NB_9GHI",
        "outputId": "1413cf41-c4ce-465c-a07c-7a12bab6287b",
        "execution": {
          "iopub.status.busy": "2023-04-25T07:17:56.057365Z",
          "iopub.execute_input": "2023-04-25T07:17:56.057741Z",
          "iopub.status.idle": "2023-04-25T07:19:50.571344Z",
          "shell.execute_reply.started": "2023-04-25T07:17:56.057684Z",
          "shell.execute_reply": "2023-04-25T07:19:50.570191Z"
        },
        "trusted": true
      },
      "execution_count": 4,
      "outputs": [
        {
          "output_type": "display_data",
          "data": {
            "text/plain": [
              "Downloading (…)lve/main/config.json:   0%|          | 0.00/642 [00:00<?, ?B/s]"
            ],
            "application/vnd.jupyter.widget-view+json": {
              "version_major": 2,
              "version_minor": 0,
              "model_id": "cb6c084f576341e0bc4d79b45c87ab55"
            }
          },
          "metadata": {}
        },
        {
          "output_type": "display_data",
          "data": {
            "text/plain": [
              "Downloading (…)okenizer_config.json:   0%|          | 0.00/24.0 [00:00<?, ?B/s]"
            ],
            "application/vnd.jupyter.widget-view+json": {
              "version_major": 2,
              "version_minor": 0,
              "model_id": "261169d813144c44bf70761f34c028b5"
            }
          },
          "metadata": {}
        },
        {
          "output_type": "display_data",
          "data": {
            "text/plain": [
              "Downloading (…)solve/main/vocab.txt:   0%|          | 0.00/1.65M [00:00<?, ?B/s]"
            ],
            "application/vnd.jupyter.widget-view+json": {
              "version_major": 2,
              "version_minor": 0,
              "model_id": "4865f2944d3844b4b25828f6fb1351e9"
            }
          },
          "metadata": {}
        },
        {
          "output_type": "display_data",
          "data": {
            "text/plain": [
              "Downloading (…)cial_tokens_map.json:   0%|          | 0.00/112 [00:00<?, ?B/s]"
            ],
            "application/vnd.jupyter.widget-view+json": {
              "version_major": 2,
              "version_minor": 0,
              "model_id": "c2d86a75e9224e76a556a95634f919f4"
            }
          },
          "metadata": {}
        },
        {
          "output_type": "display_data",
          "data": {
            "text/plain": [
              "Downloading pytorch_model.bin:   0%|          | 0.00/711M [00:00<?, ?B/s]"
            ],
            "application/vnd.jupyter.widget-view+json": {
              "version_major": 2,
              "version_minor": 0,
              "model_id": "864bbe4c4fe04b36b89a757a8170fadb"
            }
          },
          "metadata": {}
        },
        {
          "output_type": "stream",
          "name": "stderr",
          "text": [
            "All PyTorch model weights were used when initializing TFBertModel.\n",
            "\n",
            "All the weights of TFBertModel were initialized from the PyTorch model.\n",
            "If your task is similar to the task the model of the checkpoint was trained on, you can already use TFBertModel for predictions without further training.\n"
          ]
        }
      ],
      "id": "Ifqn-NB_9GHI"
    },
    {
      "cell_type": "markdown",
      "source": [
        "## 3.2 Download the data"
      ],
      "metadata": {
        "id": "1b3c19fa-f883-4675-9506-85c4f02f0af9"
      },
      "id": "1b3c19fa-f883-4675-9506-85c4f02f0af9"
    },
    {
      "cell_type": "code",
      "source": [
        "!gdown 19LzgUlM3417TlG6bmo-eSY5vRAKw2ukR\n",
        "!gdown 1eu97ydTza6HGyvsD3nz_mp-bFgxN9mCv"
      ],
      "metadata": {
        "colab": {
          "base_uri": "https://localhost:8080/"
        },
        "id": "8f366b0f-7d0b-44e0-bb82-0d82c3ea1bb1",
        "outputId": "7c79ea2f-e4c4-49ab-9c0b-89860f72dfe2",
        "execution": {
          "iopub.status.busy": "2023-04-25T07:19:50.572979Z",
          "iopub.execute_input": "2023-04-25T07:19:50.573484Z",
          "iopub.status.idle": "2023-04-25T07:19:57.551237Z",
          "shell.execute_reply.started": "2023-04-25T07:19:50.573439Z",
          "shell.execute_reply": "2023-04-25T07:19:57.549850Z"
        },
        "trusted": true
      },
      "execution_count": 11,
      "outputs": [
        {
          "output_type": "stream",
          "name": "stdout",
          "text": [
            "Downloading...\n",
            "From: https://drive.google.com/uc?id=19LzgUlM3417TlG6bmo-eSY5vRAKw2ukR\n",
            "To: /content/train_all.tsv\n",
            "100% 1.54M/1.54M [00:00<00:00, 160MB/s]\n",
            "Downloading...\n",
            "From: https://drive.google.com/uc?id=1eu97ydTza6HGyvsD3nz_mp-bFgxN9mCv\n",
            "To: /content/test-no_labels.tsv\n",
            "100% 298k/298k [00:00<00:00, 130MB/s]\n"
          ]
        }
      ],
      "id": "8f366b0f-7d0b-44e0-bb82-0d82c3ea1bb1"
    },
    {
      "cell_type": "markdown",
      "source": [
        "## 3.3 Quarantine"
      ],
      "metadata": {
        "id": "t9RX0IdD9GHI"
      },
      "id": "t9RX0IdD9GHI"
    },
    {
      "cell_type": "markdown",
      "source": [
        "### 3.3.1 Preprocessing"
      ],
      "metadata": {
        "id": "cKrIw_Ve9GHI"
      },
      "id": "cKrIw_Ve9GHI"
    },
    {
      "cell_type": "code",
      "source": [
        "CLASS_NAME = \"quarantine\"\n",
        "# Import data from csv\n",
        "whole_data = pd.read_csv('./train_all.tsv', sep='\\t')\n",
        "\n",
        "# Train_test_split\n",
        "test_size = 0.2\n",
        "data, data_test = train_test_split(whole_data, test_size=test_size, random_state = seed_value)\n",
        "\n",
        "\n",
        "#------------------------------------------------------------------------------------#\n",
        "## Train\n",
        "# Select required columns\n",
        "data = data[['text', f'{CLASS_NAME}_stance', f'{CLASS_NAME}_argument']]\n",
        "\n",
        "# Set your model output as categorical and save in new label col\n",
        "data['stance_label'] = pd.Categorical(data[f'{CLASS_NAME}_stance'])\n",
        "data['argument_label'] = pd.Categorical(data[f'{CLASS_NAME}_argument'])\n",
        "\n",
        "# Transform your output to numeric\n",
        "data[f'{CLASS_NAME}_stance'] = data['stance_label'].cat.codes\n",
        "data[f'{CLASS_NAME}_argument'] = data['argument_label'].cat.codes\n",
        "\n",
        "#------------------------------------------------------------------------------------#\n",
        "## Test\n",
        "# Select required columns\n",
        "data_test = data_test[['text', f'{CLASS_NAME}_stance', f'{CLASS_NAME}_argument']]\n",
        "\n",
        "# Set your model output as categorical and save in new label col\n",
        "data_test['stance_label'] = pd.Categorical(data_test[f'{CLASS_NAME}_stance'])\n",
        "data_test['argument_label'] = pd.Categorical(data_test[f'{CLASS_NAME}_argument'])\n",
        "\n",
        "# Transform your output to numeric\n",
        "data_test[f'{CLASS_NAME}_stance'] = data_test['stance_label'].cat.codes\n",
        "data_test[f'{CLASS_NAME}_argument'] = data_test['argument_label'].cat.codes"
      ],
      "metadata": {
        "id": "f4aa2274-477a-46e6-95ff-ec98e633ab35",
        "execution": {
          "iopub.status.busy": "2023-04-25T07:19:57.554797Z",
          "iopub.execute_input": "2023-04-25T07:19:57.555746Z",
          "iopub.status.idle": "2023-04-25T07:19:57.683172Z",
          "shell.execute_reply.started": "2023-04-25T07:19:57.555687Z",
          "shell.execute_reply": "2023-04-25T07:19:57.682087Z"
        },
        "trusted": true
      },
      "execution_count": null,
      "outputs": [],
      "id": "f4aa2274-477a-46e6-95ff-ec98e633ab35"
    },
    {
      "cell_type": "code",
      "source": [
        "# Ready output data for the model\n",
        "test_y_stance = to_categorical(data_test[f'{CLASS_NAME}_stance'])\n",
        "test_y_argument = to_categorical(data_test[f'{CLASS_NAME}_argument'])\n",
        "\n",
        "# Tokenize the input (takes some time)\n",
        "test_x = tokenizer(\n",
        "    text=data_test['text'].to_list(),\n",
        "    add_special_tokens=True,\n",
        "    max_length=256,\n",
        "    truncation=True,\n",
        "    padding='max_length', \n",
        "    return_tensors='tf',\n",
        "    return_token_type_ids = False,\n",
        "    return_attention_mask = True,\n",
        "    verbose = True)"
      ],
      "metadata": {
        "id": "hm3BY632zyn1",
        "execution": {
          "iopub.status.busy": "2023-04-25T07:19:57.684649Z",
          "iopub.execute_input": "2023-04-25T07:19:57.685824Z",
          "iopub.status.idle": "2023-04-25T07:19:59.585640Z",
          "shell.execute_reply.started": "2023-04-25T07:19:57.685748Z",
          "shell.execute_reply": "2023-04-25T07:19:59.584417Z"
        },
        "trusted": true
      },
      "execution_count": null,
      "outputs": [],
      "id": "hm3BY632zyn1"
    },
    {
      "cell_type": "markdown",
      "source": [
        "### 3.3.2 Architecture"
      ],
      "metadata": {
        "id": "RNnOx4reB15K"
      },
      "id": "RNnOx4reB15K"
    },
    {
      "cell_type": "code",
      "source": [
        "# Build your model\n",
        "input_ids = Input(shape=(256,), name='input_ids', dtype='int32')\n",
        "attention_mask = Input(shape=(256,), name='attention_mask', dtype='int32')\n",
        "inputs = {'input_ids': input_ids, 'attention_mask': attention_mask}\n",
        "\n",
        "# Load the Transformers BERT model as a layer in a Keras model\n",
        "bert_model = bert(inputs)[0]\n",
        "\n",
        "# Add multi-head attention layer\n",
        "attention_output = MultiHeadAttention(num_heads=3, key_dim=64)(bert_model, bert_model)\n",
        "\n",
        "# Flatten the output from multi-head attention layer\n",
        "flatten = Flatten()(attention_output)\n",
        "\n",
        "# Apply dropout layer\n",
        "dropout = Dropout(config.hidden_dropout_prob, name='pooled_output')\n",
        "pooled_output = dropout(flatten, training=False)\n",
        "\n",
        "# Then build your model output\n",
        "stance = Dense(units=len(data.stance_label.value_counts()), activation='relu', kernel_initializer=TruncatedNormal(stddev=config.initializer_range), name='stance')(pooled_output)\n",
        "argument = Dense(units=len(data.argument_label.value_counts()), activation='relu', kernel_initializer=TruncatedNormal(stddev=config.initializer_range), name='argument')(pooled_output)\n",
        "outputs = {'stance': stance, 'argument': argument}\n",
        "\n",
        "# And combine it all in a model object\n",
        "model = Model(inputs=inputs, outputs=outputs, name='BERT_MultiLabel_MultiClass')\n",
        "\n",
        "# Take a look at the model\n",
        "model.summary()"
      ],
      "metadata": {
        "id": "jWweocUlVxdN",
        "execution": {
          "iopub.status.busy": "2023-04-25T07:19:59.587163Z",
          "iopub.execute_input": "2023-04-25T07:19:59.588381Z",
          "iopub.status.idle": "2023-04-25T07:20:06.037297Z",
          "shell.execute_reply.started": "2023-04-25T07:19:59.588335Z",
          "shell.execute_reply": "2023-04-25T07:20:06.036311Z"
        },
        "trusted": true,
        "colab": {
          "base_uri": "https://localhost:8080/"
        },
        "outputId": "5f23ee98-659e-4b93-fdfd-fde0f2c65d39"
      },
      "execution_count": null,
      "outputs": [
        {
          "output_type": "stream",
          "name": "stdout",
          "text": [
            "Model: \"BERT_MultiLabel_MultiClass\"\n",
            "__________________________________________________________________________________________________\n",
            " Layer (type)                   Output Shape         Param #     Connected to                     \n",
            "==================================================================================================\n",
            " attention_mask (InputLayer)    [(None, 256)]        0           []                               \n",
            "                                                                                                  \n",
            " input_ids (InputLayer)         [(None, 256)]        0           []                               \n",
            "                                                                                                  \n",
            " bert (TFBertMainLayer)         TFBaseModelOutputWi  177853440   ['attention_mask[0][0]',         \n",
            "                                thPoolingAndCrossAt               'input_ids[0][0]']              \n",
            "                                tentions(last_hidde                                               \n",
            "                                n_state=(None, 256,                                               \n",
            "                                 768),                                                            \n",
            "                                 pooler_output=(Non                                               \n",
            "                                e, 768),                                                          \n",
            "                                 past_key_values=No                                               \n",
            "                                ne, hidden_states=N                                               \n",
            "                                one, attentions=Non                                               \n",
            "                                e, cross_attentions                                               \n",
            "                                =None)                                                            \n",
            "                                                                                                  \n",
            " multi_head_attention_5 (MultiH  (None, 256, 768)    591168      ['bert[0][0]',                   \n",
            " eadAttention)                                                    'bert[0][0]']                   \n",
            "                                                                                                  \n",
            " flatten_5 (Flatten)            (None, 196608)       0           ['multi_head_attention_5[0][0]'] \n",
            "                                                                                                  \n",
            " pooled_output (Dropout)        (None, 196608)       0           ['flatten_5[0][0]']              \n",
            "                                                                                                  \n",
            " argument (Dense)               (None, 4)            786436      ['pooled_output[0][0]']          \n",
            "                                                                                                  \n",
            " stance (Dense)                 (None, 4)            786436      ['pooled_output[0][0]']          \n",
            "                                                                                                  \n",
            "==================================================================================================\n",
            "Total params: 180,017,480\n",
            "Trainable params: 180,017,480\n",
            "Non-trainable params: 0\n",
            "__________________________________________________________________________________________________\n"
          ]
        }
      ],
      "id": "jWweocUlVxdN"
    },
    {
      "cell_type": "markdown",
      "source": [
        "### 3.3.3 Training"
      ],
      "metadata": {
        "id": "_b9BwoFqghah"
      },
      "id": "_b9BwoFqghah"
    },
    {
      "cell_type": "code",
      "source": [
        "# Set an optimizer\n",
        "optimizer = AdamW(\n",
        "    learning_rate=1e-6,\n",
        "    epsilon=1e-08,\n",
        "    weight_decay=0.01,\n",
        "    clipnorm=1.0)\n",
        "\n",
        "# Set loss and metrics\n",
        "loss = {'stance': CategoricalCrossentropy(from_logits = True), 'argument': CategoricalCrossentropy(from_logits = True)}\n",
        "metric = {'stance': CategoricalAccuracy('accuracy'), 'argument': CategoricalAccuracy('accuracy')}\n",
        "\n",
        "# Compile the model\n",
        "model.compile(\n",
        "    optimizer = optimizer,\n",
        "    loss = loss, \n",
        "    metrics = metric)\n",
        "\n",
        "# Ready output data for the model\n",
        "y_stance = to_categorical(data[f'{CLASS_NAME}_stance'])\n",
        "y_argument = to_categorical(data[f'{CLASS_NAME}_argument'])\n",
        "\n",
        "# Tokenize the input (takes some time)\n",
        "x = tokenizer(\n",
        "    text=data['text'].to_list(),\n",
        "    add_special_tokens=True,\n",
        "    max_length=256,\n",
        "    truncation=True,\n",
        "    padding=True, \n",
        "    return_tensors='tf',\n",
        "    return_token_type_ids = False,\n",
        "    return_attention_mask = True,\n",
        "    verbose = True)\n",
        "\n",
        "wandb.init(project=\"Argument mining\", name = \"Bert_attention_quarantine\", tags = [\"Ruberta_MHA\", \"RB\"])\n",
        "epochs = 8\n",
        "# Fit the model\n",
        "history = model.fit(\n",
        "    x={'input_ids': x['input_ids'], 'attention_mask': x['attention_mask']},\n",
        "    y={'stance': y_stance, 'argument': y_argument},\n",
        "    validation_data=({'input_ids': test_x['input_ids'][:8], 'attention_mask': test_x['attention_mask'][:8]}, \n",
        "                     {'stance': test_y_stance[:8], 'argument': test_y_argument[:8]}),\n",
        "    batch_size=8,\n",
        "    epochs=epochs, callbacks=[WandbCallback()])\n",
        "wandb.finish()"
      ],
      "metadata": {
        "id": "1w1dRryIUavy",
        "execution": {
          "iopub.status.busy": "2023-04-25T07:20:06.038928Z",
          "iopub.execute_input": "2023-04-25T07:20:06.039296Z",
          "iopub.status.idle": "2023-04-25T08:08:16.416021Z",
          "shell.execute_reply.started": "2023-04-25T07:20:06.039259Z",
          "shell.execute_reply": "2023-04-25T08:08:16.414920Z"
        },
        "trusted": true,
        "colab": {
          "base_uri": "https://localhost:8080/",
          "height": 1000,
          "referenced_widgets": [
            "598a2fb17db340b1bf5664448a440a93",
            "fc7510b8ad7446e4befc7206498ccb34",
            "84427465e9e24c17aacdd3f688641a5b",
            "eaa5a9522fcd42a1a8ede3b540faa418",
            "66cc1aa61f5249eda905b953fa136161",
            "a492e7d9d5d04e99aa1992100d5c1e32",
            "1a269f57ec544814b575d62618086625",
            "cefd749983af4a2b8ae187954191f24a"
          ]
        },
        "outputId": "d3b67069-289e-45ac-80e0-4c4543d7a9da"
      },
      "execution_count": null,
      "outputs": [
        {
          "output_type": "display_data",
          "data": {
            "text/plain": [
              "<IPython.core.display.HTML object>"
            ],
            "text/html": [
              "Tracking run with wandb version 0.15.0"
            ]
          },
          "metadata": {}
        },
        {
          "output_type": "display_data",
          "data": {
            "text/plain": [
              "<IPython.core.display.HTML object>"
            ],
            "text/html": [
              "Run data is saved locally in <code>/content/wandb/run-20230425_134736-xmwd6zns</code>"
            ]
          },
          "metadata": {}
        },
        {
          "output_type": "display_data",
          "data": {
            "text/plain": [
              "<IPython.core.display.HTML object>"
            ],
            "text/html": [
              "Syncing run <strong><a href='https://wandb.ai/darkdestiny/Argument%20mining/runs/xmwd6zns' target=\"_blank\">Bert_attention_quarantine</a></strong> to <a href='https://wandb.ai/darkdestiny/Argument%20mining' target=\"_blank\">Weights & Biases</a> (<a href='https://wandb.me/run' target=\"_blank\">docs</a>)<br/>"
            ]
          },
          "metadata": {}
        },
        {
          "output_type": "display_data",
          "data": {
            "text/plain": [
              "<IPython.core.display.HTML object>"
            ],
            "text/html": [
              " View project at <a href='https://wandb.ai/darkdestiny/Argument%20mining' target=\"_blank\">https://wandb.ai/darkdestiny/Argument%20mining</a>"
            ]
          },
          "metadata": {}
        },
        {
          "output_type": "display_data",
          "data": {
            "text/plain": [
              "<IPython.core.display.HTML object>"
            ],
            "text/html": [
              " View run at <a href='https://wandb.ai/darkdestiny/Argument%20mining/runs/xmwd6zns' target=\"_blank\">https://wandb.ai/darkdestiny/Argument%20mining/runs/xmwd6zns</a>"
            ]
          },
          "metadata": {}
        },
        {
          "output_type": "stream",
          "name": "stdout",
          "text": [
            "Epoch 1/8\n"
          ]
        },
        {
          "output_type": "stream",
          "name": "stderr",
          "text": [
            "WARNING:tensorflow:Gradients do not exist for variables ['tf_bert_model_1/bert/pooler/dense/kernel:0', 'tf_bert_model_1/bert/pooler/dense/bias:0'] when minimizing the loss. If you're using `model.compile()`, did you forget to provide a `loss` argument?\n",
            "WARNING:tensorflow:Gradients do not exist for variables ['tf_bert_model_1/bert/pooler/dense/kernel:0', 'tf_bert_model_1/bert/pooler/dense/bias:0'] when minimizing the loss. If you're using `model.compile()`, did you forget to provide a `loss` argument?\n",
            "WARNING:tensorflow:Gradients do not exist for variables ['tf_bert_model_1/bert/pooler/dense/kernel:0', 'tf_bert_model_1/bert/pooler/dense/bias:0'] when minimizing the loss. If you're using `model.compile()`, did you forget to provide a `loss` argument?\n",
            "WARNING:tensorflow:Gradients do not exist for variables ['tf_bert_model_1/bert/pooler/dense/kernel:0', 'tf_bert_model_1/bert/pooler/dense/bias:0'] when minimizing the loss. If you're using `model.compile()`, did you forget to provide a `loss` argument?\n"
          ]
        },
        {
          "output_type": "stream",
          "name": "stdout",
          "text": [
            "672/672 [==============================] - ETA: 0s - loss: 0.9818 - argument_loss: 0.4532 - stance_loss: 0.5286 - argument_accuracy: 0.8608 - stance_accuracy: 0.8115"
          ]
        },
        {
          "output_type": "stream",
          "name": "stderr",
          "text": [
            "WARNING:absl:Found untraced functions such as embeddings_layer_call_fn, embeddings_layer_call_and_return_conditional_losses, encoder_layer_call_fn, encoder_layer_call_and_return_conditional_losses, pooler_layer_call_fn while saving (showing 5 of 432). These functions will not be directly callable after loading.\n",
            "\u001b[34m\u001b[1mwandb\u001b[0m: Adding directory to artifact (/content/wandb/run-20230425_134736-xmwd6zns/files/model-best)... Done. 17.3s\n"
          ]
        },
        {
          "output_type": "stream",
          "name": "stdout",
          "text": [
            "\b\b\b\b\b\b\b\b\b\b\b\b\b\b\b\b\b\b\b\b\b\b\b\b\b\b\b\b\b\b\b\b\b\b\b\b\b\b\b\b\b\b\b\b\b\b\b\b\b\b\b\b\b\b\b\b\b\b\b\b\b\b\b\b\b\b\b\b\b\b\b\b\b\b\b\b\b\b\b\b\b\b\b\b\b\b\b\b\b\b\b\b\b\b\b\b\b\b\b\b\b\b\b\b\b\b\b\b\b\b\b\b\b\b\b\b\b\b\b\b\b\b\b\b\b\b\b\b\b\b\b\b\b\b\b\b\b\b\b\b\b\b\b\b\b\b\b\b\b\b\b\b\b\b\b\b\b\b\b\b\b\b\b\b\b\r672/672 [==============================] - 497s 626ms/step - loss: 0.9818 - argument_loss: 0.4532 - stance_loss: 0.5286 - argument_accuracy: 0.8608 - stance_accuracy: 0.8115 - val_loss: 0.1056 - val_argument_loss: 0.0269 - val_stance_loss: 0.0787 - val_argument_accuracy: 1.0000 - val_stance_accuracy: 1.0000\n",
            "Epoch 2/8\n",
            "672/672 [==============================] - 330s 491ms/step - loss: 0.5390 - argument_loss: 0.2343 - stance_loss: 0.3047 - argument_accuracy: 0.9390 - stance_accuracy: 0.8867 - val_loss: 0.1387 - val_argument_loss: 0.0393 - val_stance_loss: 0.0994 - val_argument_accuracy: 1.0000 - val_stance_accuracy: 1.0000\n",
            "Epoch 3/8\n",
            "672/672 [==============================] - ETA: 0s - loss: 0.4763 - argument_loss: 0.2003 - stance_loss: 0.2760 - argument_accuracy: 0.9412 - stance_accuracy: 0.8958"
          ]
        },
        {
          "output_type": "stream",
          "name": "stderr",
          "text": [
            "WARNING:absl:Found untraced functions such as embeddings_layer_call_fn, embeddings_layer_call_and_return_conditional_losses, encoder_layer_call_fn, encoder_layer_call_and_return_conditional_losses, pooler_layer_call_fn while saving (showing 5 of 432). These functions will not be directly callable after loading.\n",
            "\u001b[34m\u001b[1mwandb\u001b[0m: Adding directory to artifact (/content/wandb/run-20230425_134736-xmwd6zns/files/model-best)... Done. 18.1s\n"
          ]
        },
        {
          "output_type": "stream",
          "name": "stdout",
          "text": [
            "\b\b\b\b\b\b\b\b\b\b\b\b\b\b\b\b\b\b\b\b\b\b\b\b\b\b\b\b\b\b\b\b\b\b\b\b\b\b\b\b\b\b\b\b\b\b\b\b\b\b\b\b\b\b\b\b\b\b\b\b\b\b\b\b\b\b\b\b\b\b\b\b\b\b\b\b\b\b\b\b\b\b\b\b\b\b\b\b\b\b\b\b\b\b\b\b\b\b\b\b\b\b\b\b\b\b\b\b\b\b\b\b\b\b\b\b\b\b\b\b\b\b\b\b\b\b\b\b\b\b\b\b\b\b\b\b\b\b\b\b\b\b\b\b\b\b\b\b\b\b\b\b\b\b\b\b\b\b\b\b\b\b\b\b\b\r672/672 [==============================] - 406s 605ms/step - loss: 0.4763 - argument_loss: 0.2003 - stance_loss: 0.2760 - argument_accuracy: 0.9412 - stance_accuracy: 0.8958 - val_loss: 0.0795 - val_argument_loss: 0.0202 - val_stance_loss: 0.0593 - val_argument_accuracy: 1.0000 - val_stance_accuracy: 1.0000\n",
            "Epoch 4/8\n",
            "672/672 [==============================] - ETA: 0s - loss: 0.4296 - argument_loss: 0.1797 - stance_loss: 0.2500 - argument_accuracy: 0.9436 - stance_accuracy: 0.9060"
          ]
        },
        {
          "output_type": "stream",
          "name": "stderr",
          "text": [
            "WARNING:absl:Found untraced functions such as embeddings_layer_call_fn, embeddings_layer_call_and_return_conditional_losses, encoder_layer_call_fn, encoder_layer_call_and_return_conditional_losses, pooler_layer_call_fn while saving (showing 5 of 432). These functions will not be directly callable after loading.\n",
            "\u001b[34m\u001b[1mwandb\u001b[0m: Adding directory to artifact (/content/wandb/run-20230425_134736-xmwd6zns/files/model-best)... Done. 17.7s\n"
          ]
        },
        {
          "output_type": "stream",
          "name": "stdout",
          "text": [
            "\b\b\b\b\b\b\b\b\b\b\b\b\b\b\b\b\b\b\b\b\b\b\b\b\b\b\b\b\b\b\b\b\b\b\b\b\b\b\b\b\b\b\b\b\b\b\b\b\b\b\b\b\b\b\b\b\b\b\b\b\b\b\b\b\b\b\b\b\b\b\b\b\b\b\b\b\b\b\b\b\b\b\b\b\b\b\b\b\b\b\b\b\b\b\b\b\b\b\b\b\b\b\b\b\b\b\b\b\b\b\b\b\b\b\b\b\b\b\b\b\b\b\b\b\b\b\b\b\b\b\b\b\b\b\b\b\b\b\b\b\b\b\b\b\b\b\b\b\b\b\b\b\b\b\b\b\b\b\b\b\b\b\b\b\b\r672/672 [==============================] - 404s 601ms/step - loss: 0.4296 - argument_loss: 0.1797 - stance_loss: 0.2500 - argument_accuracy: 0.9436 - stance_accuracy: 0.9060 - val_loss: 0.0740 - val_argument_loss: 0.0219 - val_stance_loss: 0.0521 - val_argument_accuracy: 1.0000 - val_stance_accuracy: 1.0000\n",
            "Epoch 5/8\n",
            "672/672 [==============================] - ETA: 0s - loss: 0.4071 - argument_loss: 0.1703 - stance_loss: 0.2368 - argument_accuracy: 0.9468 - stance_accuracy: 0.9112"
          ]
        },
        {
          "output_type": "stream",
          "name": "stderr",
          "text": [
            "WARNING:absl:Found untraced functions such as embeddings_layer_call_fn, embeddings_layer_call_and_return_conditional_losses, encoder_layer_call_fn, encoder_layer_call_and_return_conditional_losses, pooler_layer_call_fn while saving (showing 5 of 432). These functions will not be directly callable after loading.\n",
            "\u001b[34m\u001b[1mwandb\u001b[0m: Adding directory to artifact (/content/wandb/run-20230425_134736-xmwd6zns/files/model-best)... Done. 17.8s\n"
          ]
        },
        {
          "output_type": "stream",
          "name": "stdout",
          "text": [
            "\b\b\b\b\b\b\b\b\b\b\b\b\b\b\b\b\b\b\b\b\b\b\b\b\b\b\b\b\b\b\b\b\b\b\b\b\b\b\b\b\b\b\b\b\b\b\b\b\b\b\b\b\b\b\b\b\b\b\b\b\b\b\b\b\b\b\b\b\b\b\b\b\b\b\b\b\b\b\b\b\b\b\b\b\b\b\b\b\b\b\b\b\b\b\b\b\b\b\b\b\b\b\b\b\b\b\b\b\b\b\b\b\b\b\b\b\b\b\b\b\b\b\b\b\b\b\b\b\b\b\b\b\b\b\b\b\b\b\b\b\b\b\b\b\b\b\b\b\b\b\b\b\b\b\b\b\b\b\b\b\b\b\b\b\b\r672/672 [==============================] - 406s 604ms/step - loss: 0.4071 - argument_loss: 0.1703 - stance_loss: 0.2368 - argument_accuracy: 0.9468 - stance_accuracy: 0.9112 - val_loss: 0.0597 - val_argument_loss: 0.0176 - val_stance_loss: 0.0421 - val_argument_accuracy: 1.0000 - val_stance_accuracy: 1.0000\n",
            "Epoch 6/8\n",
            "672/672 [==============================] - 329s 489ms/step - loss: 0.3690 - argument_loss: 0.1557 - stance_loss: 0.2134 - argument_accuracy: 0.9511 - stance_accuracy: 0.9207 - val_loss: 0.1474 - val_argument_loss: 0.0742 - val_stance_loss: 0.0732 - val_argument_accuracy: 1.0000 - val_stance_accuracy: 1.0000\n",
            "Epoch 7/8\n",
            "672/672 [==============================] - ETA: 0s - loss: 0.3368 - argument_loss: 0.1391 - stance_loss: 0.1978 - argument_accuracy: 0.9576 - stance_accuracy: 0.9302"
          ]
        },
        {
          "output_type": "stream",
          "name": "stderr",
          "text": [
            "WARNING:absl:Found untraced functions such as embeddings_layer_call_fn, embeddings_layer_call_and_return_conditional_losses, encoder_layer_call_fn, encoder_layer_call_and_return_conditional_losses, pooler_layer_call_fn while saving (showing 5 of 432). These functions will not be directly callable after loading.\n",
            "\u001b[34m\u001b[1mwandb\u001b[0m: Adding directory to artifact (/content/wandb/run-20230425_134736-xmwd6zns/files/model-best)... Done. 18.2s\n"
          ]
        },
        {
          "output_type": "stream",
          "name": "stdout",
          "text": [
            "\b\b\b\b\b\b\b\b\b\b\b\b\b\b\b\b\b\b\b\b\b\b\b\b\b\b\b\b\b\b\b\b\b\b\b\b\b\b\b\b\b\b\b\b\b\b\b\b\b\b\b\b\b\b\b\b\b\b\b\b\b\b\b\b\b\b\b\b\b\b\b\b\b\b\b\b\b\b\b\b\b\b\b\b\b\b\b\b\b\b\b\b\b\b\b\b\b\b\b\b\b\b\b\b\b\b\b\b\b\b\b\b\b\b\b\b\b\b\b\b\b\b\b\b\b\b\b\b\b\b\b\b\b\b\b\b\b\b\b\b\b\b\b\b\b\b\b\b\b\b\b\b\b\b\b\b\b\b\b\b\b\b\b\b\b\r672/672 [==============================] - 415s 618ms/step - loss: 0.3368 - argument_loss: 0.1391 - stance_loss: 0.1978 - argument_accuracy: 0.9576 - stance_accuracy: 0.9302 - val_loss: 0.0506 - val_argument_loss: 0.0282 - val_stance_loss: 0.0224 - val_argument_accuracy: 1.0000 - val_stance_accuracy: 1.0000\n",
            "Epoch 8/8\n",
            "672/672 [==============================] - 328s 489ms/step - loss: 0.3119 - argument_loss: 0.1322 - stance_loss: 0.1797 - argument_accuracy: 0.9570 - stance_accuracy: 0.9304 - val_loss: 0.0672 - val_argument_loss: 0.0325 - val_stance_loss: 0.0347 - val_argument_accuracy: 1.0000 - val_stance_accuracy: 1.0000\n"
          ]
        },
        {
          "output_type": "display_data",
          "data": {
            "text/plain": [
              "<IPython.core.display.HTML object>"
            ],
            "text/html": [
              "Waiting for W&B process to finish... <strong style=\"color:green\">(success).</strong>"
            ]
          },
          "metadata": {}
        },
        {
          "output_type": "display_data",
          "data": {
            "text/plain": [
              "VBox(children=(Label(value='12399.391 MB of 12399.391 MB uploaded (0.721 MB deduped)\\r'), FloatProgress(value=…"
            ],
            "application/vnd.jupyter.widget-view+json": {
              "version_major": 2,
              "version_minor": 0,
              "model_id": "598a2fb17db340b1bf5664448a440a93"
            }
          },
          "metadata": {}
        },
        {
          "output_type": "display_data",
          "data": {
            "text/plain": [
              "<IPython.core.display.HTML object>"
            ],
            "text/html": [
              "<style>\n",
              "    table.wandb td:nth-child(1) { padding: 0 10px; text-align: left ; width: auto;} td:nth-child(2) {text-align: left ; width: 100%}\n",
              "    .wandb-row { display: flex; flex-direction: row; flex-wrap: wrap; justify-content: flex-start; width: 100% }\n",
              "    .wandb-col { display: flex; flex-direction: column; flex-basis: 100%; flex: 1; padding: 10px; }\n",
              "    </style>\n",
              "<div class=\"wandb-row\"><div class=\"wandb-col\"><h3>Run history:</h3><br/><table class=\"wandb\"><tr><td>argument_accuracy</td><td>▁▇▇▇▇███</td></tr><tr><td>argument_loss</td><td>█▃▂▂▂▂▁▁</td></tr><tr><td>epoch</td><td>▁▂▃▄▅▆▇█</td></tr><tr><td>loss</td><td>█▃▃▂▂▂▁▁</td></tr><tr><td>stance_accuracy</td><td>▁▅▆▇▇▇██</td></tr><tr><td>stance_loss</td><td>█▄▃▂▂▂▁▁</td></tr><tr><td>val_argument_accuracy</td><td>▁▁▁▁▁▁▁▁</td></tr><tr><td>val_argument_loss</td><td>▂▄▁▂▁█▂▃</td></tr><tr><td>val_loss</td><td>▅▇▃▃▂█▁▂</td></tr><tr><td>val_stance_accuracy</td><td>▁▁▁▁▁▁▁▁</td></tr><tr><td>val_stance_loss</td><td>▆█▄▄▃▆▁▂</td></tr></table><br/></div><div class=\"wandb-col\"><h3>Run summary:</h3><br/><table class=\"wandb\"><tr><td>argument_accuracy</td><td>0.95701</td></tr><tr><td>argument_loss</td><td>0.13219</td></tr><tr><td>best_epoch</td><td>6</td></tr><tr><td>best_val_loss</td><td>0.05055</td></tr><tr><td>epoch</td><td>7</td></tr><tr><td>loss</td><td>0.31192</td></tr><tr><td>stance_accuracy</td><td>0.93039</td></tr><tr><td>stance_loss</td><td>0.17973</td></tr><tr><td>val_argument_accuracy</td><td>1.0</td></tr><tr><td>val_argument_loss</td><td>0.03254</td></tr><tr><td>val_loss</td><td>0.06724</td></tr><tr><td>val_stance_accuracy</td><td>1.0</td></tr><tr><td>val_stance_loss</td><td>0.0347</td></tr></table><br/></div></div>"
            ]
          },
          "metadata": {}
        },
        {
          "output_type": "display_data",
          "data": {
            "text/plain": [
              "<IPython.core.display.HTML object>"
            ],
            "text/html": [
              " View run <strong style=\"color:#cdcd00\">Bert_attention_quarantine</strong> at: <a href='https://wandb.ai/darkdestiny/Argument%20mining/runs/xmwd6zns' target=\"_blank\">https://wandb.ai/darkdestiny/Argument%20mining/runs/xmwd6zns</a><br/>Synced 5 W&B file(s), 1 media file(s), 25 artifact file(s) and 1 other file(s)"
            ]
          },
          "metadata": {}
        },
        {
          "output_type": "display_data",
          "data": {
            "text/plain": [
              "<IPython.core.display.HTML object>"
            ],
            "text/html": [
              "Find logs at: <code>./wandb/run-20230425_134736-xmwd6zns/logs</code>"
            ]
          },
          "metadata": {}
        }
      ],
      "id": "1w1dRryIUavy"
    },
    {
      "cell_type": "markdown",
      "source": [
        "### 3.3.4 Prediction"
      ],
      "metadata": {
        "id": "a6ILpu24fyCV"
      },
      "id": "a6ILpu24fyCV"
    },
    {
      "cell_type": "code",
      "source": [
        "test = pd.read_csv(\"./val_empty.tsv\", sep='\\t')\n",
        "test.head()\n",
        "test_d = test[['text', f'{CLASS_NAME}_stance', f'{CLASS_NAME}_argument']]\n",
        "for_pred = tokenizer(\n",
        "    text=test_d['text'].to_list(),\n",
        "    add_special_tokens=True,\n",
        "    max_length=256,\n",
        "    truncation=True,\n",
        "    padding='max_length', \n",
        "    return_tensors='tf',\n",
        "    return_token_type_ids = False,\n",
        "    return_attention_mask = True,\n",
        "    verbose = True)\n",
        "test_results = model.predict(x={'input_ids': for_pred['input_ids'], 'attention_mask': for_pred['attention_mask']})"
      ],
      "metadata": {
        "id": "ofKoV8ZiUa6s",
        "execution": {
          "iopub.status.busy": "2023-04-25T08:08:16.422684Z",
          "iopub.execute_input": "2023-04-25T08:08:16.423933Z",
          "iopub.status.idle": "2023-04-25T08:08:40.183087Z",
          "shell.execute_reply.started": "2023-04-25T08:08:16.423889Z",
          "shell.execute_reply": "2023-04-25T08:08:40.181744Z"
        },
        "trusted": true,
        "colab": {
          "base_uri": "https://localhost:8080/"
        },
        "outputId": "263849fa-4f20-435c-9ed3-f592e818da8b"
      },
      "execution_count": null,
      "outputs": [
        {
          "output_type": "stream",
          "name": "stdout",
          "text": [
            "45/45 [==============================] - 28s 547ms/step\n"
          ]
        }
      ],
      "id": "ofKoV8ZiUa6s"
    },
    {
      "cell_type": "code",
      "source": [
        "test_d[f'{CLASS_NAME}_stance'] = test_results['stance'].argmax(axis=-1) - 1\n",
        "test_d[f'{CLASS_NAME}_argument'] = test_results['argument'].argmax(axis=-1) - 1\n",
        "test_d[['text', f'{CLASS_NAME}_stance', f'{CLASS_NAME}_argument']].to_csv(f\"./val_predict_MHA_{CLASS_NAME}.tsv\", sep='\\t', index=None)"
      ],
      "metadata": {
        "execution": {
          "iopub.status.busy": "2023-04-25T08:08:40.185180Z",
          "iopub.execute_input": "2023-04-25T08:08:40.185573Z",
          "iopub.status.idle": "2023-04-25T08:08:40.209307Z",
          "shell.execute_reply.started": "2023-04-25T08:08:40.185530Z",
          "shell.execute_reply": "2023-04-25T08:08:40.207186Z"
        },
        "trusted": true,
        "colab": {
          "base_uri": "https://localhost:8080/"
        },
        "id": "3ElitusnAQyo",
        "outputId": "00667893-bd37-485a-9022-36616cf836d2"
      },
      "execution_count": null,
      "outputs": [
        {
          "output_type": "stream",
          "name": "stderr",
          "text": [
            "<ipython-input-50-c8ea65027b6b>:1: SettingWithCopyWarning: \n",
            "A value is trying to be set on a copy of a slice from a DataFrame.\n",
            "Try using .loc[row_indexer,col_indexer] = value instead\n",
            "\n",
            "See the caveats in the documentation: https://pandas.pydata.org/pandas-docs/stable/user_guide/indexing.html#returning-a-view-versus-a-copy\n",
            "  test_d[f'{CLASS_NAME}_stance'] = test_results['stance'].argmax(axis=-1) - 1\n",
            "<ipython-input-50-c8ea65027b6b>:2: SettingWithCopyWarning: \n",
            "A value is trying to be set on a copy of a slice from a DataFrame.\n",
            "Try using .loc[row_indexer,col_indexer] = value instead\n",
            "\n",
            "See the caveats in the documentation: https://pandas.pydata.org/pandas-docs/stable/user_guide/indexing.html#returning-a-view-versus-a-copy\n",
            "  test_d[f'{CLASS_NAME}_argument'] = test_results['argument'].argmax(axis=-1) - 1\n"
          ]
        }
      ],
      "id": "3ElitusnAQyo"
    },
    {
      "cell_type": "code",
      "source": [
        "test = pd.read_csv(\"./test-no_labels.tsv\", sep='\\t')\n",
        "test.head()\n",
        "test_d = test[['text', f'{CLASS_NAME}_stance', f'{CLASS_NAME}_argument']]\n",
        "for_pred = tokenizer(\n",
        "    text=test_d['text'].to_list(),\n",
        "    add_special_tokens=True,\n",
        "    max_length=256,\n",
        "    truncation=True,\n",
        "    padding='max_length', \n",
        "    return_tensors='tf',\n",
        "    return_token_type_ids = False,\n",
        "    return_attention_mask = True,\n",
        "    verbose = True)\n",
        "test_results = model.predict(x={'input_ids': for_pred['input_ids'], 'attention_mask': for_pred['attention_mask']})"
      ],
      "metadata": {
        "execution": {
          "iopub.status.busy": "2023-04-25T08:08:40.211026Z",
          "iopub.execute_input": "2023-04-25T08:08:40.211425Z",
          "iopub.status.idle": "2023-04-25T08:08:54.779317Z",
          "shell.execute_reply.started": "2023-04-25T08:08:40.211386Z",
          "shell.execute_reply": "2023-04-25T08:08:54.775162Z"
        },
        "trusted": true,
        "colab": {
          "base_uri": "https://localhost:8080/"
        },
        "id": "AW3fzFTlAQyp",
        "outputId": "ea5d03c6-7fb9-4ce0-8d01-fa03a264f971"
      },
      "execution_count": null,
      "outputs": [
        {
          "output_type": "stream",
          "name": "stdout",
          "text": [
            "44/44 [==============================] - 24s 548ms/step\n"
          ]
        }
      ],
      "id": "AW3fzFTlAQyp"
    },
    {
      "cell_type": "code",
      "source": [
        "test_d[f'{CLASS_NAME}_stance'] = test_results['stance'].argmax(axis=-1) - 1\n",
        "test_d[f'{CLASS_NAME}_argument'] = test_results['argument'].argmax(axis=-1) - 1\n",
        "test_d[['text', f'{CLASS_NAME}_stance', f'{CLASS_NAME}_argument']].to_csv(f\"./test_predict_MHA_{CLASS_NAME}.tsv\", sep='\\t', index=None)"
      ],
      "metadata": {
        "id": "4hU-oMDsUa9D",
        "execution": {
          "iopub.status.busy": "2023-04-25T08:08:54.781138Z",
          "iopub.execute_input": "2023-04-25T08:08:54.781572Z",
          "iopub.status.idle": "2023-04-25T08:08:54.806170Z",
          "shell.execute_reply.started": "2023-04-25T08:08:54.781526Z",
          "shell.execute_reply": "2023-04-25T08:08:54.804769Z"
        },
        "trusted": true,
        "colab": {
          "base_uri": "https://localhost:8080/"
        },
        "outputId": "c8fe66ac-8bf3-4122-d46d-0649840d5f14"
      },
      "execution_count": null,
      "outputs": [
        {
          "output_type": "stream",
          "name": "stderr",
          "text": [
            "<ipython-input-52-3d4f37872f57>:1: SettingWithCopyWarning: \n",
            "A value is trying to be set on a copy of a slice from a DataFrame.\n",
            "Try using .loc[row_indexer,col_indexer] = value instead\n",
            "\n",
            "See the caveats in the documentation: https://pandas.pydata.org/pandas-docs/stable/user_guide/indexing.html#returning-a-view-versus-a-copy\n",
            "  test_d[f'{CLASS_NAME}_stance'] = test_results['stance'].argmax(axis=-1) - 1\n",
            "<ipython-input-52-3d4f37872f57>:2: SettingWithCopyWarning: \n",
            "A value is trying to be set on a copy of a slice from a DataFrame.\n",
            "Try using .loc[row_indexer,col_indexer] = value instead\n",
            "\n",
            "See the caveats in the documentation: https://pandas.pydata.org/pandas-docs/stable/user_guide/indexing.html#returning-a-view-versus-a-copy\n",
            "  test_d[f'{CLASS_NAME}_argument'] = test_results['argument'].argmax(axis=-1) - 1\n"
          ]
        }
      ],
      "id": "4hU-oMDsUa9D"
    },
    {
      "cell_type": "markdown",
      "source": [
        "## 3.4 Masks"
      ],
      "metadata": {
        "id": "Dl1vax0e9GHL"
      },
      "id": "Dl1vax0e9GHL"
    },
    {
      "cell_type": "markdown",
      "source": [
        "### 3.4.1 Preprocessing"
      ],
      "metadata": {
        "id": "1TjrWgJs9GHL"
      },
      "id": "1TjrWgJs9GHL"
    },
    {
      "cell_type": "code",
      "source": [
        "CLASS_NAME = \"masks\"\n",
        "# Import data from csv\n",
        "whole_data = pd.read_csv('./train_all.tsv', sep='\\t')\n",
        "\n",
        "# Train_test_split\n",
        "test_size = 0.2\n",
        "data, data_test = train_test_split(whole_data, test_size=test_size, random_state = seed_value)\n",
        "\n",
        "\n",
        "#------------------------------------------------------------------------------------#\n",
        "## Train\n",
        "# Select required columns\n",
        "data = data[['text', f'{CLASS_NAME}_stance', f'{CLASS_NAME}_argument']]\n",
        "\n",
        "# Set your model output as categorical and save in new label col\n",
        "data['stance_label'] = pd.Categorical(data[f'{CLASS_NAME}_stance'])\n",
        "data['argument_label'] = pd.Categorical(data[f'{CLASS_NAME}_argument'])\n",
        "\n",
        "# Transform your output to numeric\n",
        "data[f'{CLASS_NAME}_stance'] = data['stance_label'].cat.codes\n",
        "data[f'{CLASS_NAME}_argument'] = data['argument_label'].cat.codes\n",
        "\n",
        "#------------------------------------------------------------------------------------#\n",
        "## Test\n",
        "# Select required columns\n",
        "data_test = data_test[['text', f'{CLASS_NAME}_stance', f'{CLASS_NAME}_argument']]\n",
        "\n",
        "# Set your model output as categorical and save in new label col\n",
        "data_test['stance_label'] = pd.Categorical(data_test[f'{CLASS_NAME}_stance'])\n",
        "data_test['argument_label'] = pd.Categorical(data_test[f'{CLASS_NAME}_argument'])\n",
        "\n",
        "# Transform your output to numeric\n",
        "data_test[f'{CLASS_NAME}_stance'] = data_test['stance_label'].cat.codes\n",
        "data_test[f'{CLASS_NAME}_argument'] = data_test['argument_label'].cat.codes"
      ],
      "metadata": {
        "id": "M0pPhzWh9GHL",
        "execution": {
          "iopub.status.busy": "2023-04-25T08:08:54.808077Z",
          "iopub.execute_input": "2023-04-25T08:08:54.808482Z",
          "iopub.status.idle": "2023-04-25T08:08:54.871913Z",
          "shell.execute_reply.started": "2023-04-25T08:08:54.808440Z",
          "shell.execute_reply": "2023-04-25T08:08:54.870872Z"
        },
        "trusted": true
      },
      "execution_count": 6,
      "outputs": [],
      "id": "M0pPhzWh9GHL"
    },
    {
      "cell_type": "code",
      "source": [
        "# Ready output data for the model\n",
        "test_y_stance = to_categorical(data_test[f'{CLASS_NAME}_stance'])\n",
        "test_y_argument = to_categorical(data_test[f'{CLASS_NAME}_argument'])\n",
        "\n",
        "# Tokenize the input (takes some time)\n",
        "test_x = tokenizer(\n",
        "    text=data_test['text'].to_list(),\n",
        "    add_special_tokens=True,\n",
        "    max_length=256,\n",
        "    truncation=True,\n",
        "    padding='max_length', \n",
        "    return_tensors='tf',\n",
        "    return_token_type_ids = False,\n",
        "    return_attention_mask = True,\n",
        "    verbose = True)"
      ],
      "metadata": {
        "id": "jFHr7V939GHL",
        "execution": {
          "iopub.status.busy": "2023-04-25T08:08:54.873693Z",
          "iopub.execute_input": "2023-04-25T08:08:54.874091Z",
          "iopub.status.idle": "2023-04-25T08:08:55.054812Z",
          "shell.execute_reply.started": "2023-04-25T08:08:54.874053Z",
          "shell.execute_reply": "2023-04-25T08:08:55.053650Z"
        },
        "trusted": true
      },
      "execution_count": 7,
      "outputs": [],
      "id": "jFHr7V939GHL"
    },
    {
      "cell_type": "markdown",
      "source": [
        "### 3.4.2 Architecture"
      ],
      "metadata": {
        "id": "r3FkHFVFAqh6"
      },
      "id": "r3FkHFVFAqh6"
    },
    {
      "cell_type": "code",
      "source": [
        "# Build your model\n",
        "input_ids = Input(shape=(256,), name='input_ids', dtype='int32')\n",
        "attention_mask = Input(shape=(256,), name='attention_mask', dtype='int32')\n",
        "inputs = {'input_ids': input_ids, 'attention_mask': attention_mask}\n",
        "\n",
        "# Load the Transformers BERT model as a layer in a Keras model\n",
        "bert_model = bert(inputs)[0]\n",
        "\n",
        "# Add multi-head attention layer\n",
        "attention_output = MultiHeadAttention(num_heads=3, key_dim=64)(bert_model, bert_model)\n",
        "\n",
        "# Flatten the output from multi-head attention layer\n",
        "flatten = Flatten()(attention_output)\n",
        "\n",
        "# Apply dropout layer\n",
        "dropout = Dropout(config.hidden_dropout_prob, name='pooled_output')\n",
        "pooled_output = dropout(flatten, training=False)\n",
        "\n",
        "# Then build your model output\n",
        "stance = Dense(units=len(data.stance_label.value_counts()), activation='relu', kernel_initializer=TruncatedNormal(stddev=config.initializer_range), name='stance')(pooled_output)\n",
        "argument = Dense(units=len(data.argument_label.value_counts()), activation='relu', kernel_initializer=TruncatedNormal(stddev=config.initializer_range), name='argument')(pooled_output)\n",
        "outputs = {'stance': stance, 'argument': argument}\n",
        "\n",
        "# And combine it all in a model object\n",
        "model = Model(inputs=inputs, outputs=outputs, name='BERT_MultiLabel_MultiClass')\n",
        "\n",
        "# Take a look at the model\n",
        "model.summary()"
      ],
      "metadata": {
        "colab": {
          "base_uri": "https://localhost:8080/"
        },
        "id": "vyau-xOdAyv6",
        "outputId": "d3fd9486-1d2a-4701-90b7-2e11370c7372",
        "execution": {
          "iopub.status.busy": "2023-04-25T08:08:55.056563Z",
          "iopub.execute_input": "2023-04-25T08:08:55.056986Z",
          "iopub.status.idle": "2023-04-25T08:08:57.036542Z",
          "shell.execute_reply.started": "2023-04-25T08:08:55.056943Z",
          "shell.execute_reply": "2023-04-25T08:08:57.035633Z"
        },
        "trusted": true
      },
      "execution_count": 8,
      "outputs": [
        {
          "output_type": "stream",
          "name": "stdout",
          "text": [
            "Model: \"BERT_MultiLabel_MultiClass\"\n",
            "__________________________________________________________________________________________________\n",
            " Layer (type)                   Output Shape         Param #     Connected to                     \n",
            "==================================================================================================\n",
            " attention_mask (InputLayer)    [(None, 256)]        0           []                               \n",
            "                                                                                                  \n",
            " input_ids (InputLayer)         [(None, 256)]        0           []                               \n",
            "                                                                                                  \n",
            " bert (TFBertMainLayer)         TFBaseModelOutputWi  177853440   ['attention_mask[0][0]',         \n",
            "                                thPoolingAndCrossAt               'input_ids[0][0]']              \n",
            "                                tentions(last_hidde                                               \n",
            "                                n_state=(None, 256,                                               \n",
            "                                 768),                                                            \n",
            "                                 pooler_output=(Non                                               \n",
            "                                e, 768),                                                          \n",
            "                                 past_key_values=No                                               \n",
            "                                ne, hidden_states=N                                               \n",
            "                                one, attentions=Non                                               \n",
            "                                e, cross_attentions                                               \n",
            "                                =None)                                                            \n",
            "                                                                                                  \n",
            " multi_head_attention (MultiHea  (None, 256, 768)    591168      ['bert[0][0]',                   \n",
            " dAttention)                                                      'bert[0][0]']                   \n",
            "                                                                                                  \n",
            " flatten (Flatten)              (None, 196608)       0           ['multi_head_attention[0][0]']   \n",
            "                                                                                                  \n",
            " pooled_output (Dropout)        (None, 196608)       0           ['flatten[0][0]']                \n",
            "                                                                                                  \n",
            " argument (Dense)               (None, 4)            786436      ['pooled_output[0][0]']          \n",
            "                                                                                                  \n",
            " stance (Dense)                 (None, 4)            786436      ['pooled_output[0][0]']          \n",
            "                                                                                                  \n",
            "==================================================================================================\n",
            "Total params: 180,017,480\n",
            "Trainable params: 180,017,480\n",
            "Non-trainable params: 0\n",
            "__________________________________________________________________________________________________\n"
          ]
        }
      ],
      "id": "vyau-xOdAyv6"
    },
    {
      "cell_type": "markdown",
      "source": [
        "### 3.4.3 Training"
      ],
      "metadata": {
        "id": "CbTC672ZA76b"
      },
      "id": "CbTC672ZA76b"
    },
    {
      "cell_type": "code",
      "source": [
        "# Set an optimizer\n",
        "optimizer = AdamW(\n",
        "    learning_rate=1e-6,\n",
        "    epsilon=1e-08,\n",
        "    weight_decay=0.01,\n",
        "    clipnorm=1.0)\n",
        "\n",
        "# Set loss and metrics\n",
        "loss = {'stance': CategoricalCrossentropy(from_logits = True), 'argument': CategoricalCrossentropy(from_logits = True)}\n",
        "metric = {'stance': CategoricalAccuracy('accuracy'), 'argument': CategoricalAccuracy('accuracy')}\n",
        "\n",
        "# Compile the model\n",
        "model.compile(\n",
        "    optimizer = optimizer,\n",
        "    loss = loss, \n",
        "    metrics = metric)\n",
        "\n",
        "# Ready output data for the model\n",
        "y_stance = to_categorical(data[f'{CLASS_NAME}_stance'])\n",
        "y_argument = to_categorical(data[f'{CLASS_NAME}_argument'])\n",
        "\n",
        "# Tokenize the input (takes some time)\n",
        "x = tokenizer(\n",
        "    text=data['text'].to_list(),\n",
        "    add_special_tokens=True,\n",
        "    max_length=256,\n",
        "    truncation=True,\n",
        "    padding=True, \n",
        "    return_tensors='tf',\n",
        "    return_token_type_ids = False,\n",
        "    return_attention_mask = True,\n",
        "    verbose = True)\n",
        "\n",
        "wandb.init(project=\"Argument mining\", name = \"Bert_attention_masks\", tags = [\"Ruberta_MHA\", \"RB\"])\n",
        "epochs = 8\n",
        "# Fit the model\n",
        "history = model.fit(\n",
        "    x={'input_ids': x['input_ids'], 'attention_mask': x['attention_mask']},\n",
        "    y={'stance': y_stance, 'argument': y_argument},\n",
        "    validation_data=({'input_ids': test_x['input_ids'][:8], 'attention_mask': test_x['attention_mask'][:8]}, \n",
        "                     {'stance': test_y_stance[:8], 'argument': test_y_argument[:8]}),\n",
        "    batch_size=8,\n",
        "    epochs=epochs, callbacks=[WandbCallback()])\n",
        "wandb.finish()"
      ],
      "metadata": {
        "colab": {
          "base_uri": "https://localhost:8080/",
          "height": 1000
        },
        "id": "s7vDnlPEAyy5",
        "outputId": "609ef1a1-fd23-4b67-e9f5-ecc344055769",
        "execution": {
          "iopub.status.busy": "2023-04-25T08:08:57.037759Z",
          "iopub.execute_input": "2023-04-25T08:08:57.038122Z",
          "iopub.status.idle": "2023-04-25T08:55:28.442028Z",
          "shell.execute_reply.started": "2023-04-25T08:08:57.038082Z",
          "shell.execute_reply": "2023-04-25T08:55:28.440776Z"
        },
        "trusted": true
      },
      "execution_count": 9,
      "outputs": [
        {
          "output_type": "stream",
          "name": "stderr",
          "text": [
            "\u001b[34m\u001b[1mwandb\u001b[0m: Currently logged in as: \u001b[33mbenchm\u001b[0m (\u001b[33mdarkdestiny\u001b[0m). Use \u001b[1m`wandb login --relogin`\u001b[0m to force relogin\n"
          ]
        },
        {
          "output_type": "display_data",
          "data": {
            "text/plain": [
              "<IPython.core.display.HTML object>"
            ],
            "text/html": [
              "Tracking run with wandb version 0.15.0"
            ]
          },
          "metadata": {}
        },
        {
          "output_type": "display_data",
          "data": {
            "text/plain": [
              "<IPython.core.display.HTML object>"
            ],
            "text/html": [
              "Run data is saved locally in <code>/content/wandb/run-20230425_175705-g478norl</code>"
            ]
          },
          "metadata": {}
        },
        {
          "output_type": "display_data",
          "data": {
            "text/plain": [
              "<IPython.core.display.HTML object>"
            ],
            "text/html": [
              "Syncing run <strong><a href='https://wandb.ai/darkdestiny/Argument%20mining/runs/g478norl' target=\"_blank\">Bert_attention_masks</a></strong> to <a href='https://wandb.ai/darkdestiny/Argument%20mining' target=\"_blank\">Weights & Biases</a> (<a href='https://wandb.me/run' target=\"_blank\">docs</a>)<br/>"
            ]
          },
          "metadata": {}
        },
        {
          "output_type": "display_data",
          "data": {
            "text/plain": [
              "<IPython.core.display.HTML object>"
            ],
            "text/html": [
              " View project at <a href='https://wandb.ai/darkdestiny/Argument%20mining' target=\"_blank\">https://wandb.ai/darkdestiny/Argument%20mining</a>"
            ]
          },
          "metadata": {}
        },
        {
          "output_type": "display_data",
          "data": {
            "text/plain": [
              "<IPython.core.display.HTML object>"
            ],
            "text/html": [
              " View run at <a href='https://wandb.ai/darkdestiny/Argument%20mining/runs/g478norl' target=\"_blank\">https://wandb.ai/darkdestiny/Argument%20mining/runs/g478norl</a>"
            ]
          },
          "metadata": {}
        },
        {
          "output_type": "stream",
          "name": "stderr",
          "text": [
            "\u001b[34m\u001b[1mwandb\u001b[0m: \u001b[33mWARNING\u001b[0m The save_model argument by default saves the model in the HDF5 format that cannot save custom objects like subclassed models and custom layers. This behavior will be deprecated in a future release in favor of the SavedModel format. Meanwhile, the HDF5 model is saved as W&B files and the SavedModel as W&B Artifacts.\n"
          ]
        },
        {
          "output_type": "stream",
          "name": "stdout",
          "text": [
            "Epoch 1/8\n"
          ]
        },
        {
          "output_type": "stream",
          "name": "stderr",
          "text": [
            "WARNING:tensorflow:Gradients do not exist for variables ['tf_bert_model/bert/pooler/dense/kernel:0', 'tf_bert_model/bert/pooler/dense/bias:0'] when minimizing the loss. If you're using `model.compile()`, did you forget to provide a `loss` argument?\n",
            "WARNING:tensorflow:Gradients do not exist for variables ['tf_bert_model/bert/pooler/dense/kernel:0', 'tf_bert_model/bert/pooler/dense/bias:0'] when minimizing the loss. If you're using `model.compile()`, did you forget to provide a `loss` argument?\n",
            "WARNING:tensorflow:Gradients do not exist for variables ['tf_bert_model/bert/pooler/dense/kernel:0', 'tf_bert_model/bert/pooler/dense/bias:0'] when minimizing the loss. If you're using `model.compile()`, did you forget to provide a `loss` argument?\n",
            "WARNING:tensorflow:Gradients do not exist for variables ['tf_bert_model/bert/pooler/dense/kernel:0', 'tf_bert_model/bert/pooler/dense/bias:0'] when minimizing the loss. If you're using `model.compile()`, did you forget to provide a `loss` argument?\n"
          ]
        },
        {
          "output_type": "stream",
          "name": "stdout",
          "text": [
            "672/672 [==============================] - ETA: 0s - loss: 1.3001 - argument_loss: 0.5882 - stance_loss: 0.7119 - argument_accuracy: 0.8064 - stance_accuracy: 0.7331"
          ]
        },
        {
          "output_type": "stream",
          "name": "stderr",
          "text": [
            "WARNING:absl:Found untraced functions such as embeddings_layer_call_fn, embeddings_layer_call_and_return_conditional_losses, encoder_layer_call_fn, encoder_layer_call_and_return_conditional_losses, pooler_layer_call_fn while saving (showing 5 of 432). These functions will not be directly callable after loading.\n",
            "\u001b[34m\u001b[1mwandb\u001b[0m: Adding directory to artifact (/content/wandb/run-20230425_175705-g478norl/files/model-best)... Done. 12.3s\n"
          ]
        },
        {
          "output_type": "stream",
          "name": "stdout",
          "text": [
            "\b\b\b\b\b\b\b\b\b\b\b\b\b\b\b\b\b\b\b\b\b\b\b\b\b\b\b\b\b\b\b\b\b\b\b\b\b\b\b\b\b\b\b\b\b\b\b\b\b\b\b\b\b\b\b\b\b\b\b\b\b\b\b\b\b\b\b\b\b\b\b\b\b\b\b\b\b\b\b\b\b\b\b\b\b\b\b\b\b\b\b\b\b\b\b\b\b\b\b\b\b\b\b\b\b\b\b\b\b\b\b\b\b\b\b\b\b\b\b\b\b\b\b\b\b\b\b\b\b\b\b\b\b\b\b\b\b\b\b\b\b\b\b\b\b\b\b\b\b\b\b\b\b\b\b\b\b\b\b\b\b\b\b\b\b\r672/672 [==============================] - 482s 629ms/step - loss: 1.3001 - argument_loss: 0.5882 - stance_loss: 0.7119 - argument_accuracy: 0.8064 - stance_accuracy: 0.7331 - val_loss: 1.8201 - val_argument_loss: 1.0576 - val_stance_loss: 0.7625 - val_argument_accuracy: 0.6250 - val_stance_accuracy: 0.5000\n",
            "Epoch 2/8\n",
            "672/672 [==============================] - ETA: 0s - loss: 0.8198 - argument_loss: 0.3272 - stance_loss: 0.4926 - argument_accuracy: 0.8937 - stance_accuracy: 0.8066"
          ]
        },
        {
          "output_type": "stream",
          "name": "stderr",
          "text": [
            "WARNING:absl:Found untraced functions such as embeddings_layer_call_fn, embeddings_layer_call_and_return_conditional_losses, encoder_layer_call_fn, encoder_layer_call_and_return_conditional_losses, pooler_layer_call_fn while saving (showing 5 of 432). These functions will not be directly callable after loading.\n",
            "\u001b[34m\u001b[1mwandb\u001b[0m: Adding directory to artifact (/content/wandb/run-20230425_175705-g478norl/files/model-best)... Done. 12.1s\n"
          ]
        },
        {
          "output_type": "stream",
          "name": "stdout",
          "text": [
            "\b\b\b\b\b\b\b\b\b\b\b\b\b\b\b\b\b\b\b\b\b\b\b\b\b\b\b\b\b\b\b\b\b\b\b\b\b\b\b\b\b\b\b\b\b\b\b\b\b\b\b\b\b\b\b\b\b\b\b\b\b\b\b\b\b\b\b\b\b\b\b\b\b\b\b\b\b\b\b\b\b\b\b\b\b\b\b\b\b\b\b\b\b\b\b\b\b\b\b\b\b\b\b\b\b\b\b\b\b\b\b\b\b\b\b\b\b\b\b\b\b\b\b\b\b\b\b\b\b\b\b\b\b\b\b\b\b\b\b\b\b\b\b\b\b\b\b\b\b\b\b\b\b\b\b\b\b\b\b\b\b\b\b\b\b\r672/672 [==============================] - 407s 606ms/step - loss: 0.8198 - argument_loss: 0.3272 - stance_loss: 0.4926 - argument_accuracy: 0.8937 - stance_accuracy: 0.8066 - val_loss: 1.5990 - val_argument_loss: 0.9941 - val_stance_loss: 0.6049 - val_argument_accuracy: 0.6250 - val_stance_accuracy: 0.7500\n",
            "Epoch 3/8\n",
            "672/672 [==============================] - ETA: 0s - loss: 0.7685 - argument_loss: 0.2962 - stance_loss: 0.4723 - argument_accuracy: 0.9012 - stance_accuracy: 0.8150"
          ]
        },
        {
          "output_type": "stream",
          "name": "stderr",
          "text": [
            "WARNING:absl:Found untraced functions such as embeddings_layer_call_fn, embeddings_layer_call_and_return_conditional_losses, encoder_layer_call_fn, encoder_layer_call_and_return_conditional_losses, pooler_layer_call_fn while saving (showing 5 of 432). These functions will not be directly callable after loading.\n",
            "\u001b[34m\u001b[1mwandb\u001b[0m: Adding directory to artifact (/content/wandb/run-20230425_175705-g478norl/files/model-best)... Done. 12.7s\n"
          ]
        },
        {
          "output_type": "stream",
          "name": "stdout",
          "text": [
            "\b\b\b\b\b\b\b\b\b\b\b\b\b\b\b\b\b\b\b\b\b\b\b\b\b\b\b\b\b\b\b\b\b\b\b\b\b\b\b\b\b\b\b\b\b\b\b\b\b\b\b\b\b\b\b\b\b\b\b\b\b\b\b\b\b\b\b\b\b\b\b\b\b\b\b\b\b\b\b\b\b\b\b\b\b\b\b\b\b\b\b\b\b\b\b\b\b\b\b\b\b\b\b\b\b\b\b\b\b\b\b\b\b\b\b\b\b\b\b\b\b\b\b\b\b\b\b\b\b\b\b\b\b\b\b\b\b\b\b\b\b\b\b\b\b\b\b\b\b\b\b\b\b\b\b\b\b\b\b\b\b\b\b\b\b\r672/672 [==============================] - 410s 609ms/step - loss: 0.7685 - argument_loss: 0.2962 - stance_loss: 0.4723 - argument_accuracy: 0.9012 - stance_accuracy: 0.8150 - val_loss: 1.4254 - val_argument_loss: 0.8842 - val_stance_loss: 0.5412 - val_argument_accuracy: 0.5000 - val_stance_accuracy: 0.8750\n",
            "Epoch 4/8\n",
            "672/672 [==============================] - ETA: 0s - loss: 0.7265 - argument_loss: 0.2772 - stance_loss: 0.4493 - argument_accuracy: 0.9068 - stance_accuracy: 0.8241"
          ]
        },
        {
          "output_type": "stream",
          "name": "stderr",
          "text": [
            "WARNING:absl:Found untraced functions such as embeddings_layer_call_fn, embeddings_layer_call_and_return_conditional_losses, encoder_layer_call_fn, encoder_layer_call_and_return_conditional_losses, pooler_layer_call_fn while saving (showing 5 of 432). These functions will not be directly callable after loading.\n",
            "\u001b[34m\u001b[1mwandb\u001b[0m: Adding directory to artifact (/content/wandb/run-20230425_175705-g478norl/files/model-best)... Done. 12.1s\n"
          ]
        },
        {
          "output_type": "stream",
          "name": "stdout",
          "text": [
            "\b\b\b\b\b\b\b\b\b\b\b\b\b\b\b\b\b\b\b\b\b\b\b\b\b\b\b\b\b\b\b\b\b\b\b\b\b\b\b\b\b\b\b\b\b\b\b\b\b\b\b\b\b\b\b\b\b\b\b\b\b\b\b\b\b\b\b\b\b\b\b\b\b\b\b\b\b\b\b\b\b\b\b\b\b\b\b\b\b\b\b\b\b\b\b\b\b\b\b\b\b\b\b\b\b\b\b\b\b\b\b\b\b\b\b\b\b\b\b\b\b\b\b\b\b\b\b\b\b\b\b\b\b\b\b\b\b\b\b\b\b\b\b\b\b\b\b\b\b\b\b\b\b\b\b\b\b\b\b\b\b\b\b\b\b\r672/672 [==============================] - 404s 601ms/step - loss: 0.7265 - argument_loss: 0.2772 - stance_loss: 0.4493 - argument_accuracy: 0.9068 - stance_accuracy: 0.8241 - val_loss: 1.3634 - val_argument_loss: 0.8822 - val_stance_loss: 0.4811 - val_argument_accuracy: 0.5000 - val_stance_accuracy: 0.8750\n",
            "Epoch 5/8\n",
            "672/672 [==============================] - ETA: 0s - loss: 0.6558 - argument_loss: 0.2603 - stance_loss: 0.3955 - argument_accuracy: 0.9101 - stance_accuracy: 0.8366"
          ]
        },
        {
          "output_type": "stream",
          "name": "stderr",
          "text": [
            "WARNING:absl:Found untraced functions such as embeddings_layer_call_fn, embeddings_layer_call_and_return_conditional_losses, encoder_layer_call_fn, encoder_layer_call_and_return_conditional_losses, pooler_layer_call_fn while saving (showing 5 of 432). These functions will not be directly callable after loading.\n",
            "\u001b[34m\u001b[1mwandb\u001b[0m: Adding directory to artifact (/content/wandb/run-20230425_175705-g478norl/files/model-best)... Done. 12.4s\n"
          ]
        },
        {
          "output_type": "stream",
          "name": "stdout",
          "text": [
            "\b\b\b\b\b\b\b\b\b\b\b\b\b\b\b\b\b\b\b\b\b\b\b\b\b\b\b\b\b\b\b\b\b\b\b\b\b\b\b\b\b\b\b\b\b\b\b\b\b\b\b\b\b\b\b\b\b\b\b\b\b\b\b\b\b\b\b\b\b\b\b\b\b\b\b\b\b\b\b\b\b\b\b\b\b\b\b\b\b\b\b\b\b\b\b\b\b\b\b\b\b\b\b\b\b\b\b\b\b\b\b\b\b\b\b\b\b\b\b\b\b\b\b\b\b\b\b\b\b\b\b\b\b\b\b\b\b\b\b\b\b\b\b\b\b\b\b\b\b\b\b\b\b\b\b\b\b\b\b\b\b\b\b\b\b\r672/672 [==============================] - 406s 604ms/step - loss: 0.6558 - argument_loss: 0.2603 - stance_loss: 0.3955 - argument_accuracy: 0.9101 - stance_accuracy: 0.8366 - val_loss: 1.1070 - val_argument_loss: 0.7518 - val_stance_loss: 0.3553 - val_argument_accuracy: 0.6250 - val_stance_accuracy: 0.8750\n",
            "Epoch 6/8\n",
            "672/672 [==============================] - ETA: 0s - loss: 0.6122 - argument_loss: 0.2483 - stance_loss: 0.3640 - argument_accuracy: 0.9148 - stance_accuracy: 0.8509"
          ]
        },
        {
          "output_type": "stream",
          "name": "stderr",
          "text": [
            "WARNING:absl:Found untraced functions such as embeddings_layer_call_fn, embeddings_layer_call_and_return_conditional_losses, encoder_layer_call_fn, encoder_layer_call_and_return_conditional_losses, pooler_layer_call_fn while saving (showing 5 of 432). These functions will not be directly callable after loading.\n",
            "\u001b[34m\u001b[1mwandb\u001b[0m: Adding directory to artifact (/content/wandb/run-20230425_175705-g478norl/files/model-best)... Done. 12.1s\n"
          ]
        },
        {
          "output_type": "stream",
          "name": "stdout",
          "text": [
            "\b\b\b\b\b\b\b\b\b\b\b\b\b\b\b\b\b\b\b\b\b\b\b\b\b\b\b\b\b\b\b\b\b\b\b\b\b\b\b\b\b\b\b\b\b\b\b\b\b\b\b\b\b\b\b\b\b\b\b\b\b\b\b\b\b\b\b\b\b\b\b\b\b\b\b\b\b\b\b\b\b\b\b\b\b\b\b\b\b\b\b\b\b\b\b\b\b\b\b\b\b\b\b\b\b\b\b\b\b\b\b\b\b\b\b\b\b\b\b\b\b\b\b\b\b\b\b\b\b\b\b\b\b\b\b\b\b\b\b\b\b\b\b\b\b\b\b\b\b\b\b\b\b\b\b\b\b\b\b\b\b\b\b\b\b\r672/672 [==============================] - 403s 600ms/step - loss: 0.6122 - argument_loss: 0.2483 - stance_loss: 0.3640 - argument_accuracy: 0.9148 - stance_accuracy: 0.8509 - val_loss: 1.0921 - val_argument_loss: 0.7623 - val_stance_loss: 0.3299 - val_argument_accuracy: 0.5000 - val_stance_accuracy: 1.0000\n",
            "Epoch 7/8\n",
            "672/672 [==============================] - ETA: 0s - loss: 0.5810 - argument_loss: 0.2379 - stance_loss: 0.3431 - argument_accuracy: 0.9172 - stance_accuracy: 0.8600"
          ]
        },
        {
          "output_type": "stream",
          "name": "stderr",
          "text": [
            "WARNING:absl:Found untraced functions such as embeddings_layer_call_fn, embeddings_layer_call_and_return_conditional_losses, encoder_layer_call_fn, encoder_layer_call_and_return_conditional_losses, pooler_layer_call_fn while saving (showing 5 of 432). These functions will not be directly callable after loading.\n",
            "\u001b[34m\u001b[1mwandb\u001b[0m: Adding directory to artifact (/content/wandb/run-20230425_175705-g478norl/files/model-best)... Done. 12.2s\n"
          ]
        },
        {
          "output_type": "stream",
          "name": "stdout",
          "text": [
            "\b\b\b\b\b\b\b\b\b\b\b\b\b\b\b\b\b\b\b\b\b\b\b\b\b\b\b\b\b\b\b\b\b\b\b\b\b\b\b\b\b\b\b\b\b\b\b\b\b\b\b\b\b\b\b\b\b\b\b\b\b\b\b\b\b\b\b\b\b\b\b\b\b\b\b\b\b\b\b\b\b\b\b\b\b\b\b\b\b\b\b\b\b\b\b\b\b\b\b\b\b\b\b\b\b\b\b\b\b\b\b\b\b\b\b\b\b\b\b\b\b\b\b\b\b\b\b\b\b\b\b\b\b\b\b\b\b\b\b\b\b\b\b\b\b\b\b\b\b\b\b\b\b\b\b\b\b\b\b\b\b\b\b\b\b\r672/672 [==============================] - 407s 606ms/step - loss: 0.5810 - argument_loss: 0.2379 - stance_loss: 0.3431 - argument_accuracy: 0.9172 - stance_accuracy: 0.8600 - val_loss: 1.0571 - val_argument_loss: 0.7568 - val_stance_loss: 0.3003 - val_argument_accuracy: 0.5000 - val_stance_accuracy: 0.8750\n",
            "Epoch 8/8\n",
            "672/672 [==============================] - ETA: 0s - loss: 0.5476 - argument_loss: 0.2241 - stance_loss: 0.3235 - argument_accuracy: 0.9205 - stance_accuracy: 0.8729"
          ]
        },
        {
          "output_type": "stream",
          "name": "stderr",
          "text": [
            "WARNING:absl:Found untraced functions such as embeddings_layer_call_fn, embeddings_layer_call_and_return_conditional_losses, encoder_layer_call_fn, encoder_layer_call_and_return_conditional_losses, pooler_layer_call_fn while saving (showing 5 of 432). These functions will not be directly callable after loading.\n",
            "\u001b[34m\u001b[1mwandb\u001b[0m: Adding directory to artifact (/content/wandb/run-20230425_175705-g478norl/files/model-best)... Done. 12.4s\n"
          ]
        },
        {
          "output_type": "stream",
          "name": "stdout",
          "text": [
            "\b\b\b\b\b\b\b\b\b\b\b\b\b\b\b\b\b\b\b\b\b\b\b\b\b\b\b\b\b\b\b\b\b\b\b\b\b\b\b\b\b\b\b\b\b\b\b\b\b\b\b\b\b\b\b\b\b\b\b\b\b\b\b\b\b\b\b\b\b\b\b\b\b\b\b\b\b\b\b\b\b\b\b\b\b\b\b\b\b\b\b\b\b\b\b\b\b\b\b\b\b\b\b\b\b\b\b\b\b\b\b\b\b\b\b\b\b\b\b\b\b\b\b\b\b\b\b\b\b\b\b\b\b\b\b\b\b\b\b\b\b\b\b\b\b\b\b\b\b\b\b\b\b\b\b\b\b\b\b\b\b\b\b\b\b\r672/672 [==============================] - 407s 606ms/step - loss: 0.5476 - argument_loss: 0.2241 - stance_loss: 0.3235 - argument_accuracy: 0.9205 - stance_accuracy: 0.8729 - val_loss: 0.9450 - val_argument_loss: 0.6915 - val_stance_loss: 0.2535 - val_argument_accuracy: 0.6250 - val_stance_accuracy: 0.8750\n"
          ]
        },
        {
          "output_type": "display_data",
          "data": {
            "text/plain": [
              "<IPython.core.display.HTML object>"
            ],
            "text/html": [
              "Waiting for W&B process to finish... <strong style=\"color:green\">(success).</strong>"
            ]
          },
          "metadata": {}
        },
        {
          "output_type": "display_data",
          "data": {
            "text/plain": [
              "<IPython.core.display.HTML object>"
            ],
            "text/html": [
              "<style>\n",
              "    table.wandb td:nth-child(1) { padding: 0 10px; text-align: left ; width: auto;} td:nth-child(2) {text-align: left ; width: 100%}\n",
              "    .wandb-row { display: flex; flex-direction: row; flex-wrap: wrap; justify-content: flex-start; width: 100% }\n",
              "    .wandb-col { display: flex; flex-direction: column; flex-basis: 100%; flex: 1; padding: 10px; }\n",
              "    </style>\n",
              "<div class=\"wandb-row\"><div class=\"wandb-col\"><h3>Run history:</h3><br/><table class=\"wandb\"><tr><td>argument_accuracy</td><td>▁▆▇▇▇███</td></tr><tr><td>argument_loss</td><td>█▃▂▂▂▁▁▁</td></tr><tr><td>epoch</td><td>▁▂▃▄▅▆▇█</td></tr><tr><td>loss</td><td>█▄▃▃▂▂▁▁</td></tr><tr><td>stance_accuracy</td><td>▁▅▅▆▆▇▇█</td></tr><tr><td>stance_loss</td><td>█▄▄▃▂▂▁▁</td></tr><tr><td>val_argument_accuracy</td><td>██▁▁█▁▁█</td></tr><tr><td>val_argument_loss</td><td>█▇▅▅▂▂▂▁</td></tr><tr><td>val_loss</td><td>█▆▅▄▂▂▂▁</td></tr><tr><td>val_stance_accuracy</td><td>▁▅▆▆▆█▆▆</td></tr><tr><td>val_stance_loss</td><td>█▆▅▄▂▂▂▁</td></tr></table><br/></div><div class=\"wandb-col\"><h3>Run summary:</h3><br/><table class=\"wandb\"><tr><td>argument_accuracy</td><td>0.92053</td></tr><tr><td>argument_loss</td><td>0.22411</td></tr><tr><td>best_epoch</td><td>7</td></tr><tr><td>best_val_loss</td><td>0.94498</td></tr><tr><td>epoch</td><td>7</td></tr><tr><td>loss</td><td>0.54757</td></tr><tr><td>stance_accuracy</td><td>0.87288</td></tr><tr><td>stance_loss</td><td>0.32346</td></tr><tr><td>val_argument_accuracy</td><td>0.625</td></tr><tr><td>val_argument_loss</td><td>0.69148</td></tr><tr><td>val_loss</td><td>0.94498</td></tr><tr><td>val_stance_accuracy</td><td>0.875</td></tr><tr><td>val_stance_loss</td><td>0.2535</td></tr></table><br/></div></div>"
            ]
          },
          "metadata": {}
        },
        {
          "output_type": "display_data",
          "data": {
            "text/plain": [
              "<IPython.core.display.HTML object>"
            ],
            "text/html": [
              " View run <strong style=\"color:#cdcd00\">Bert_attention_masks</strong> at: <a href='https://wandb.ai/darkdestiny/Argument%20mining/runs/g478norl' target=\"_blank\">https://wandb.ai/darkdestiny/Argument%20mining/runs/g478norl</a><br/>Synced 5 W&B file(s), 1 media file(s), 40 artifact file(s) and 1 other file(s)"
            ]
          },
          "metadata": {}
        },
        {
          "output_type": "display_data",
          "data": {
            "text/plain": [
              "<IPython.core.display.HTML object>"
            ],
            "text/html": [
              "Find logs at: <code>./wandb/run-20230425_175705-g478norl/logs</code>"
            ]
          },
          "metadata": {}
        }
      ],
      "id": "s7vDnlPEAyy5"
    },
    {
      "cell_type": "markdown",
      "source": [
        "### 3.4.4 Prediction"
      ],
      "metadata": {
        "id": "rTMsoe3aBBD4"
      },
      "id": "rTMsoe3aBBD4"
    },
    {
      "cell_type": "code",
      "source": [
        "CLASS_NAME = \"masks\"\n",
        "test = pd.read_csv(\"./val_empty.tsv\", sep='\\t')\n",
        "test.head()\n",
        "test_d = test[['text', f'{CLASS_NAME}_stance', f'{CLASS_NAME}_argument']]\n",
        "for_pred = tokenizer(\n",
        "    text=test_d['text'].to_list(),\n",
        "    add_special_tokens=True,\n",
        "    max_length=256,\n",
        "    truncation=True,\n",
        "    padding='max_length', \n",
        "    return_tensors='tf',\n",
        "    return_token_type_ids = False,\n",
        "    return_attention_mask = True,\n",
        "    verbose = True)\n",
        "test_results = model.predict(x={'input_ids': for_pred['input_ids'], 'attention_mask': for_pred['attention_mask']})\n",
        "test_d[f'{CLASS_NAME}_stance'] = test_results['stance'].argmax(axis=-1) - 1\n",
        "test_d[f'{CLASS_NAME}_argument'] = test_results['argument'].argmax(axis=-1) - 1\n",
        "test_d[['text', f'{CLASS_NAME}_stance', f'{CLASS_NAME}_argument']].to_csv(f\"./val_predict_MHA_{CLASS_NAME}.tsv\", sep='\\t', index=None)"
      ],
      "metadata": {
        "colab": {
          "base_uri": "https://localhost:8080/"
        },
        "id": "7d8KdNpUAy9A",
        "outputId": "d8577a5e-4efa-45dd-f743-5c7d938769a8",
        "execution": {
          "iopub.status.busy": "2023-04-25T08:55:28.443944Z",
          "iopub.execute_input": "2023-04-25T08:55:28.444692Z",
          "iopub.status.idle": "2023-04-25T08:55:52.193749Z",
          "shell.execute_reply.started": "2023-04-25T08:55:28.444647Z",
          "shell.execute_reply": "2023-04-25T08:55:52.192461Z"
        },
        "trusted": true
      },
      "execution_count": 12,
      "outputs": [
        {
          "output_type": "stream",
          "name": "stdout",
          "text": [
            "45/45 [==============================] - 30s 566ms/step\n"
          ]
        },
        {
          "output_type": "stream",
          "name": "stderr",
          "text": [
            "<ipython-input-12-62ad68191405>:16: SettingWithCopyWarning: \n",
            "A value is trying to be set on a copy of a slice from a DataFrame.\n",
            "Try using .loc[row_indexer,col_indexer] = value instead\n",
            "\n",
            "See the caveats in the documentation: https://pandas.pydata.org/pandas-docs/stable/user_guide/indexing.html#returning-a-view-versus-a-copy\n",
            "  test_d[f'{CLASS_NAME}_stance'] = test_results['stance'].argmax(axis=-1) - 1\n",
            "<ipython-input-12-62ad68191405>:17: SettingWithCopyWarning: \n",
            "A value is trying to be set on a copy of a slice from a DataFrame.\n",
            "Try using .loc[row_indexer,col_indexer] = value instead\n",
            "\n",
            "See the caveats in the documentation: https://pandas.pydata.org/pandas-docs/stable/user_guide/indexing.html#returning-a-view-versus-a-copy\n",
            "  test_d[f'{CLASS_NAME}_argument'] = test_results['argument'].argmax(axis=-1) - 1\n"
          ]
        }
      ],
      "id": "7d8KdNpUAy9A"
    },
    {
      "cell_type": "code",
      "source": [
        "CLASS_NAME = \"masks\"\n",
        "test = pd.read_csv(\"./test-no_labels.tsv\", sep='\\t')\n",
        "test.head()\n",
        "test_d = test[['text', f'{CLASS_NAME}_stance', f'{CLASS_NAME}_argument']]\n",
        "for_pred = tokenizer(\n",
        "    text=test_d['text'].to_list(),\n",
        "    add_special_tokens=True,\n",
        "    max_length=256,\n",
        "    truncation=True,\n",
        "    padding='max_length', \n",
        "    return_tensors='tf',\n",
        "    return_token_type_ids = False,\n",
        "    return_attention_mask = True,\n",
        "    verbose = True)\n",
        "test_results = model.predict(x={'input_ids': for_pred['input_ids'], 'attention_mask': for_pred['attention_mask']})\n",
        "test_d[f'{CLASS_NAME}_stance'] = test_results['stance'].argmax(axis=-1) - 1\n",
        "test_d[f'{CLASS_NAME}_argument'] = test_results['argument'].argmax(axis=-1) - 1\n",
        "test_d[['text', f'{CLASS_NAME}_stance', f'{CLASS_NAME}_argument']].to_csv(f\"./test_predict_MHA_{CLASS_NAME}.tsv\", sep='\\t', index=None)"
      ],
      "metadata": {
        "id": "YVR6SY-yAy_7",
        "execution": {
          "iopub.status.busy": "2023-04-25T08:55:52.195169Z",
          "iopub.execute_input": "2023-04-25T08:55:52.197482Z",
          "iopub.status.idle": "2023-04-25T08:56:06.686193Z",
          "shell.execute_reply.started": "2023-04-25T08:55:52.197449Z",
          "shell.execute_reply": "2023-04-25T08:56:06.684881Z"
        },
        "trusted": true,
        "colab": {
          "base_uri": "https://localhost:8080/"
        },
        "outputId": "b7497b6c-4f3f-436e-96a9-36e4a3a352f1"
      },
      "execution_count": 13,
      "outputs": [
        {
          "output_type": "stream",
          "name": "stdout",
          "text": [
            "44/44 [==============================] - 25s 570ms/step\n"
          ]
        },
        {
          "output_type": "stream",
          "name": "stderr",
          "text": [
            "<ipython-input-13-99c110209371>:16: SettingWithCopyWarning: \n",
            "A value is trying to be set on a copy of a slice from a DataFrame.\n",
            "Try using .loc[row_indexer,col_indexer] = value instead\n",
            "\n",
            "See the caveats in the documentation: https://pandas.pydata.org/pandas-docs/stable/user_guide/indexing.html#returning-a-view-versus-a-copy\n",
            "  test_d[f'{CLASS_NAME}_stance'] = test_results['stance'].argmax(axis=-1) - 1\n",
            "<ipython-input-13-99c110209371>:17: SettingWithCopyWarning: \n",
            "A value is trying to be set on a copy of a slice from a DataFrame.\n",
            "Try using .loc[row_indexer,col_indexer] = value instead\n",
            "\n",
            "See the caveats in the documentation: https://pandas.pydata.org/pandas-docs/stable/user_guide/indexing.html#returning-a-view-versus-a-copy\n",
            "  test_d[f'{CLASS_NAME}_argument'] = test_results['argument'].argmax(axis=-1) - 1\n"
          ]
        }
      ],
      "id": "YVR6SY-yAy_7"
    },
    {
      "cell_type": "markdown",
      "source": [
        "## 3.5 vaccines"
      ],
      "metadata": {
        "id": "iciqRheS9GHN"
      },
      "id": "iciqRheS9GHN"
    },
    {
      "cell_type": "markdown",
      "source": [
        "### 3.5.1 Preprocessing"
      ],
      "metadata": {
        "id": "peIWpSF59GHN"
      },
      "id": "peIWpSF59GHN"
    },
    {
      "cell_type": "code",
      "source": [
        "CLASS_NAME = \"vaccines\"\n",
        "# Import data from csv\n",
        "whole_data = pd.read_csv('./train_all.tsv', sep='\\t')\n",
        "\n",
        "# Train_test_split\n",
        "test_size = 0.2\n",
        "data, data_test = train_test_split(whole_data, test_size=test_size)\n",
        "\n",
        "\n",
        "#------------------------------------------------------------------------------------#\n",
        "## Train\n",
        "# Select required columns\n",
        "data = data[['text', f'{CLASS_NAME}_stance', f'{CLASS_NAME}_argument']]\n",
        "\n",
        "# Set your model output as categorical and save in new label col\n",
        "data['stance_label'] = pd.Categorical(data[f'{CLASS_NAME}_stance'])\n",
        "data['argument_label'] = pd.Categorical(data[f'{CLASS_NAME}_argument'])\n",
        "\n",
        "# Transform your output to numeric\n",
        "data[f'{CLASS_NAME}_stance'] = data['stance_label'].cat.codes\n",
        "data[f'{CLASS_NAME}_argument'] = data['argument_label'].cat.codes\n",
        "\n",
        "#------------------------------------------------------------------------------------#\n",
        "## Test\n",
        "# Select required columns\n",
        "data_test = data_test[['text', f'{CLASS_NAME}_stance', f'{CLASS_NAME}_argument']]\n",
        "\n",
        "# Set your model output as categorical and save in new label col\n",
        "data_test['stance_label'] = pd.Categorical(data_test[f'{CLASS_NAME}_stance'])\n",
        "data_test['argument_label'] = pd.Categorical(data_test[f'{CLASS_NAME}_argument'])\n",
        "\n",
        "# Transform your output to numeric\n",
        "data_test[f'{CLASS_NAME}_stance'] = data_test['stance_label'].cat.codes\n",
        "data_test[f'{CLASS_NAME}_argument'] = data_test['argument_label'].cat.codes\n",
        "# Ready output data for the model\n",
        "test_y_stance = to_categorical(data_test[f'{CLASS_NAME}_stance'])\n",
        "test_y_argument = to_categorical(data_test[f'{CLASS_NAME}_argument'])\n",
        "\n",
        "# Tokenize the input (takes some time)\n",
        "test_x = tokenizer(\n",
        "    text=data_test['text'].to_list(),\n",
        "    add_special_tokens=True,\n",
        "    max_length=256,\n",
        "    truncation=True,\n",
        "    padding='max_length', \n",
        "    return_tensors='tf',\n",
        "    return_token_type_ids = False,\n",
        "    return_attention_mask = True,\n",
        "    verbose = True)"
      ],
      "metadata": {
        "id": "LZGYLGXF9GHN",
        "execution": {
          "iopub.status.busy": "2023-04-25T08:56:06.688146Z",
          "iopub.execute_input": "2023-04-25T08:56:06.688974Z",
          "iopub.status.idle": "2023-04-25T08:56:07.005396Z",
          "shell.execute_reply.started": "2023-04-25T08:56:06.688926Z",
          "shell.execute_reply": "2023-04-25T08:56:07.004241Z"
        },
        "trusted": true
      },
      "execution_count": 14,
      "outputs": [],
      "id": "LZGYLGXF9GHN"
    },
    {
      "cell_type": "markdown",
      "source": [
        "### 3.5.2 Architecture"
      ],
      "metadata": {
        "id": "50TKcudhC3Bd"
      },
      "id": "50TKcudhC3Bd"
    },
    {
      "cell_type": "code",
      "source": [
        "# Build your model\n",
        "input_ids = Input(shape=(256,), name='input_ids', dtype='int32')\n",
        "attention_mask = Input(shape=(256,), name='attention_mask', dtype='int32')\n",
        "inputs = {'input_ids': input_ids, 'attention_mask': attention_mask}\n",
        "\n",
        "# Load the Transformers BERT model as a layer in a Keras model\n",
        "bert_model = bert(inputs)[0]\n",
        "\n",
        "# Add multi-head attention layer\n",
        "attention_output = MultiHeadAttention(num_heads=3, key_dim=64)(bert_model, bert_model)\n",
        "\n",
        "# Flatten the output from multi-head attention layer\n",
        "flatten = Flatten()(attention_output)\n",
        "\n",
        "# Apply dropout layer\n",
        "dropout = Dropout(config.hidden_dropout_prob, name='pooled_output')\n",
        "pooled_output = dropout(flatten, training=False)\n",
        "\n",
        "# Then build your model output\n",
        "stance = Dense(units=len(data.stance_label.value_counts()), activation='relu', kernel_initializer=TruncatedNormal(stddev=config.initializer_range), name='stance')(pooled_output)\n",
        "argument = Dense(units=len(data.argument_label.value_counts()), activation='relu', kernel_initializer=TruncatedNormal(stddev=config.initializer_range), name='argument')(pooled_output)\n",
        "outputs = {'stance': stance, 'argument': argument}\n",
        "\n",
        "# And combine it all in a model object\n",
        "model = Model(inputs=inputs, outputs=outputs, name='BERT_MultiLabel_MultiClass')\n",
        "\n",
        "# Take a look at the model\n",
        "model.summary()"
      ],
      "metadata": {
        "id": "2A_NDwWmC7gb",
        "execution": {
          "iopub.status.busy": "2023-04-25T08:56:07.007299Z",
          "iopub.execute_input": "2023-04-25T08:56:07.007700Z",
          "iopub.status.idle": "2023-04-25T08:56:09.002525Z",
          "shell.execute_reply.started": "2023-04-25T08:56:07.007669Z",
          "shell.execute_reply": "2023-04-25T08:56:09.001616Z"
        },
        "trusted": true,
        "colab": {
          "base_uri": "https://localhost:8080/"
        },
        "outputId": "87bea739-589d-4b14-9cae-51325ac26dca"
      },
      "execution_count": 15,
      "outputs": [
        {
          "output_type": "stream",
          "name": "stdout",
          "text": [
            "Model: \"BERT_MultiLabel_MultiClass\"\n",
            "__________________________________________________________________________________________________\n",
            " Layer (type)                   Output Shape         Param #     Connected to                     \n",
            "==================================================================================================\n",
            " attention_mask (InputLayer)    [(None, 256)]        0           []                               \n",
            "                                                                                                  \n",
            " input_ids (InputLayer)         [(None, 256)]        0           []                               \n",
            "                                                                                                  \n",
            " bert (TFBertMainLayer)         TFBaseModelOutputWi  177853440   ['attention_mask[0][0]',         \n",
            "                                thPoolingAndCrossAt               'input_ids[0][0]']              \n",
            "                                tentions(last_hidde                                               \n",
            "                                n_state=(None, 256,                                               \n",
            "                                 768),                                                            \n",
            "                                 pooler_output=(Non                                               \n",
            "                                e, 768),                                                          \n",
            "                                 past_key_values=No                                               \n",
            "                                ne, hidden_states=N                                               \n",
            "                                one, attentions=Non                                               \n",
            "                                e, cross_attentions                                               \n",
            "                                =None)                                                            \n",
            "                                                                                                  \n",
            " multi_head_attention_1 (MultiH  (None, 256, 768)    591168      ['bert[1][0]',                   \n",
            " eadAttention)                                                    'bert[1][0]']                   \n",
            "                                                                                                  \n",
            " flatten_1 (Flatten)            (None, 196608)       0           ['multi_head_attention_1[0][0]'] \n",
            "                                                                                                  \n",
            " pooled_output (Dropout)        (None, 196608)       0           ['flatten_1[0][0]']              \n",
            "                                                                                                  \n",
            " argument (Dense)               (None, 4)            786436      ['pooled_output[0][0]']          \n",
            "                                                                                                  \n",
            " stance (Dense)                 (None, 4)            786436      ['pooled_output[0][0]']          \n",
            "                                                                                                  \n",
            "==================================================================================================\n",
            "Total params: 180,017,480\n",
            "Trainable params: 180,017,480\n",
            "Non-trainable params: 0\n",
            "__________________________________________________________________________________________________\n"
          ]
        }
      ],
      "id": "2A_NDwWmC7gb"
    },
    {
      "cell_type": "markdown",
      "source": [
        "### 3.5.3 Training"
      ],
      "metadata": {
        "id": "NvkNH_v1DAXj"
      },
      "id": "NvkNH_v1DAXj"
    },
    {
      "cell_type": "code",
      "source": [
        "# Set an optimizer\n",
        "optimizer = AdamW(\n",
        "    learning_rate=1e-6,\n",
        "    epsilon=1e-08,\n",
        "    weight_decay=0.01,\n",
        "    clipnorm=1.0)\n",
        "\n",
        "# Set loss and metrics\n",
        "loss = {'stance': CategoricalCrossentropy(from_logits = True), 'argument': CategoricalCrossentropy(from_logits = True)}\n",
        "metric = {'stance': CategoricalAccuracy('accuracy'), 'argument': CategoricalAccuracy('accuracy')}\n",
        "\n",
        "# Compile the model\n",
        "model.compile(\n",
        "    optimizer = optimizer,\n",
        "    loss = loss, \n",
        "    metrics = metric)\n",
        "\n",
        "# Ready output data for the model\n",
        "y_stance = to_categorical(data[f'{CLASS_NAME}_stance'])\n",
        "y_argument = to_categorical(data[f'{CLASS_NAME}_argument'])\n",
        "\n",
        "# Tokenize the input (takes some time)\n",
        "x = tokenizer(\n",
        "    text=data['text'].to_list(),\n",
        "    add_special_tokens=True,\n",
        "    max_length=256,\n",
        "    truncation=True,\n",
        "    padding=True, \n",
        "    return_tensors='tf',\n",
        "    return_token_type_ids = False,\n",
        "    return_attention_mask = True,\n",
        "    verbose = True)\n",
        "\n",
        "wandb.init(project=\"Argument mining\", name = \"Bert_attention_vaccines\", tags = [\"Ruberta_with_MHA\", \"RB\"])\n",
        "epochs = 8\n",
        "# Fit the model\n",
        "history = model.fit(\n",
        "    x={'input_ids': x['input_ids'], 'attention_mask': x['attention_mask']},\n",
        "    y={'stance': y_stance, 'argument': y_argument},\n",
        "    validation_data=({'input_ids': test_x['input_ids'][:8], 'attention_mask': test_x['attention_mask'][:8]}, \n",
        "                     {'stance': test_y_stance[:8], 'argument': test_y_argument[:8]}),\n",
        "    batch_size=8,\n",
        "    epochs=epochs, callbacks=[WandbCallback()])\n",
        "wandb.finish()"
      ],
      "metadata": {
        "id": "8M6FHChvC7jR",
        "execution": {
          "iopub.status.busy": "2023-04-25T08:56:09.004070Z",
          "iopub.execute_input": "2023-04-25T08:56:09.004467Z",
          "iopub.status.idle": "2023-04-25T09:42:02.887970Z",
          "shell.execute_reply.started": "2023-04-25T08:56:09.004425Z",
          "shell.execute_reply": "2023-04-25T09:42:02.886295Z"
        },
        "trusted": true,
        "colab": {
          "base_uri": "https://localhost:8080/",
          "height": 1000
        },
        "outputId": "2457844d-25cd-4313-d631-f8e3f91f0e2e"
      },
      "execution_count": 16,
      "outputs": [
        {
          "output_type": "display_data",
          "data": {
            "text/plain": [
              "<IPython.core.display.HTML object>"
            ],
            "text/html": [
              "Tracking run with wandb version 0.15.0"
            ]
          },
          "metadata": {}
        },
        {
          "output_type": "display_data",
          "data": {
            "text/plain": [
              "<IPython.core.display.HTML object>"
            ],
            "text/html": [
              "Run data is saved locally in <code>/content/wandb/run-20230425_185602-r8qrp22p</code>"
            ]
          },
          "metadata": {}
        },
        {
          "output_type": "display_data",
          "data": {
            "text/plain": [
              "<IPython.core.display.HTML object>"
            ],
            "text/html": [
              "Syncing run <strong><a href='https://wandb.ai/darkdestiny/Argument%20mining/runs/r8qrp22p' target=\"_blank\">Bert_attention_vaccines</a></strong> to <a href='https://wandb.ai/darkdestiny/Argument%20mining' target=\"_blank\">Weights & Biases</a> (<a href='https://wandb.me/run' target=\"_blank\">docs</a>)<br/>"
            ]
          },
          "metadata": {}
        },
        {
          "output_type": "display_data",
          "data": {
            "text/plain": [
              "<IPython.core.display.HTML object>"
            ],
            "text/html": [
              " View project at <a href='https://wandb.ai/darkdestiny/Argument%20mining' target=\"_blank\">https://wandb.ai/darkdestiny/Argument%20mining</a>"
            ]
          },
          "metadata": {}
        },
        {
          "output_type": "display_data",
          "data": {
            "text/plain": [
              "<IPython.core.display.HTML object>"
            ],
            "text/html": [
              " View run at <a href='https://wandb.ai/darkdestiny/Argument%20mining/runs/r8qrp22p' target=\"_blank\">https://wandb.ai/darkdestiny/Argument%20mining/runs/r8qrp22p</a>"
            ]
          },
          "metadata": {}
        },
        {
          "output_type": "stream",
          "name": "stdout",
          "text": [
            "Epoch 1/8\n"
          ]
        },
        {
          "output_type": "stream",
          "name": "stderr",
          "text": [
            "WARNING:tensorflow:Gradients do not exist for variables ['tf_bert_model/bert/pooler/dense/kernel:0', 'tf_bert_model/bert/pooler/dense/bias:0'] when minimizing the loss. If you're using `model.compile()`, did you forget to provide a `loss` argument?\n",
            "WARNING:tensorflow:Gradients do not exist for variables ['tf_bert_model/bert/pooler/dense/kernel:0', 'tf_bert_model/bert/pooler/dense/bias:0'] when minimizing the loss. If you're using `model.compile()`, did you forget to provide a `loss` argument?\n",
            "WARNING:tensorflow:Gradients do not exist for variables ['tf_bert_model/bert/pooler/dense/kernel:0', 'tf_bert_model/bert/pooler/dense/bias:0'] when minimizing the loss. If you're using `model.compile()`, did you forget to provide a `loss` argument?\n",
            "WARNING:tensorflow:Gradients do not exist for variables ['tf_bert_model/bert/pooler/dense/kernel:0', 'tf_bert_model/bert/pooler/dense/bias:0'] when minimizing the loss. If you're using `model.compile()`, did you forget to provide a `loss` argument?\n"
          ]
        },
        {
          "output_type": "stream",
          "name": "stdout",
          "text": [
            "672/672 [==============================] - ETA: 0s - loss: 0.8025 - argument_loss: 0.3469 - stance_loss: 0.4556 - argument_accuracy: 0.8928 - stance_accuracy: 0.8357"
          ]
        },
        {
          "output_type": "stream",
          "name": "stderr",
          "text": [
            "WARNING:absl:Found untraced functions such as embeddings_layer_call_fn, embeddings_layer_call_and_return_conditional_losses, encoder_layer_call_fn, encoder_layer_call_and_return_conditional_losses, pooler_layer_call_fn while saving (showing 5 of 432). These functions will not be directly callable after loading.\n",
            "\u001b[34m\u001b[1mwandb\u001b[0m: Adding directory to artifact (/content/wandb/run-20230425_185602-r8qrp22p/files/model-best)... Done. 14.3s\n"
          ]
        },
        {
          "output_type": "stream",
          "name": "stdout",
          "text": [
            "\b\b\b\b\b\b\b\b\b\b\b\b\b\b\b\b\b\b\b\b\b\b\b\b\b\b\b\b\b\b\b\b\b\b\b\b\b\b\b\b\b\b\b\b\b\b\b\b\b\b\b\b\b\b\b\b\b\b\b\b\b\b\b\b\b\b\b\b\b\b\b\b\b\b\b\b\b\b\b\b\b\b\b\b\b\b\b\b\b\b\b\b\b\b\b\b\b\b\b\b\b\b\b\b\b\b\b\b\b\b\b\b\b\b\b\b\b\b\b\b\b\b\b\b\b\b\b\b\b\b\b\b\b\b\b\b\b\b\b\b\b\b\b\b\b\b\b\b\b\b\b\b\b\b\b\b\b\b\b\b\b\b\b\b\b\r672/672 [==============================] - 483s 626ms/step - loss: 0.8025 - argument_loss: 0.3469 - stance_loss: 0.4556 - argument_accuracy: 0.8928 - stance_accuracy: 0.8357 - val_loss: 0.2618 - val_argument_loss: 0.0193 - val_stance_loss: 0.2425 - val_argument_accuracy: 1.0000 - val_stance_accuracy: 0.8750\n",
            "Epoch 2/8\n",
            "672/672 [==============================] - ETA: 0s - loss: 0.4750 - argument_loss: 0.2016 - stance_loss: 0.2734 - argument_accuracy: 0.9323 - stance_accuracy: 0.8785"
          ]
        },
        {
          "output_type": "stream",
          "name": "stderr",
          "text": [
            "WARNING:absl:Found untraced functions such as embeddings_layer_call_fn, embeddings_layer_call_and_return_conditional_losses, encoder_layer_call_fn, encoder_layer_call_and_return_conditional_losses, pooler_layer_call_fn while saving (showing 5 of 432). These functions will not be directly callable after loading.\n",
            "\u001b[34m\u001b[1mwandb\u001b[0m: Adding directory to artifact (/content/wandb/run-20230425_185602-r8qrp22p/files/model-best)... Done. 14.2s\n"
          ]
        },
        {
          "output_type": "stream",
          "name": "stdout",
          "text": [
            "\b\b\b\b\b\b\b\b\b\b\b\b\b\b\b\b\b\b\b\b\b\b\b\b\b\b\b\b\b\b\b\b\b\b\b\b\b\b\b\b\b\b\b\b\b\b\b\b\b\b\b\b\b\b\b\b\b\b\b\b\b\b\b\b\b\b\b\b\b\b\b\b\b\b\b\b\b\b\b\b\b\b\b\b\b\b\b\b\b\b\b\b\b\b\b\b\b\b\b\b\b\b\b\b\b\b\b\b\b\b\b\b\b\b\b\b\b\b\b\b\b\b\b\b\b\b\b\b\b\b\b\b\b\b\b\b\b\b\b\b\b\b\b\b\b\b\b\b\b\b\b\b\b\b\b\b\b\b\b\b\b\b\b\b\b\r672/672 [==============================] - 413s 614ms/step - loss: 0.4750 - argument_loss: 0.2016 - stance_loss: 0.2734 - argument_accuracy: 0.9323 - stance_accuracy: 0.8785 - val_loss: 0.1768 - val_argument_loss: 0.0258 - val_stance_loss: 0.1510 - val_argument_accuracy: 1.0000 - val_stance_accuracy: 0.8750\n",
            "Epoch 3/8\n",
            "672/672 [==============================] - 341s 507ms/step - loss: 0.4343 - argument_loss: 0.1819 - stance_loss: 0.2525 - argument_accuracy: 0.9350 - stance_accuracy: 0.8876 - val_loss: 0.1948 - val_argument_loss: 0.0160 - val_stance_loss: 0.1788 - val_argument_accuracy: 1.0000 - val_stance_accuracy: 0.8750\n",
            "Epoch 4/8\n",
            "672/672 [==============================] - ETA: 0s - loss: 0.4069 - argument_loss: 0.1679 - stance_loss: 0.2390 - argument_accuracy: 0.9386 - stance_accuracy: 0.8930"
          ]
        },
        {
          "output_type": "stream",
          "name": "stderr",
          "text": [
            "WARNING:absl:Found untraced functions such as embeddings_layer_call_fn, embeddings_layer_call_and_return_conditional_losses, encoder_layer_call_fn, encoder_layer_call_and_return_conditional_losses, pooler_layer_call_fn while saving (showing 5 of 432). These functions will not be directly callable after loading.\n",
            "\u001b[34m\u001b[1mwandb\u001b[0m: Adding directory to artifact (/content/wandb/run-20230425_185602-r8qrp22p/files/model-best)... Done. 16.7s\n"
          ]
        },
        {
          "output_type": "stream",
          "name": "stdout",
          "text": [
            "\b\b\b\b\b\b\b\b\b\b\b\b\b\b\b\b\b\b\b\b\b\b\b\b\b\b\b\b\b\b\b\b\b\b\b\b\b\b\b\b\b\b\b\b\b\b\b\b\b\b\b\b\b\b\b\b\b\b\b\b\b\b\b\b\b\b\b\b\b\b\b\b\b\b\b\b\b\b\b\b\b\b\b\b\b\b\b\b\b\b\b\b\b\b\b\b\b\b\b\b\b\b\b\b\b\b\b\b\b\b\b\b\b\b\b\b\b\b\b\b\b\b\b\b\b\b\b\b\b\b\b\b\b\b\b\b\b\b\b\b\b\b\b\b\b\b\b\b\b\b\b\b\b\b\b\b\b\b\b\b\b\b\b\b\b\r672/672 [==============================] - 413s 615ms/step - loss: 0.4069 - argument_loss: 0.1679 - stance_loss: 0.2390 - argument_accuracy: 0.9386 - stance_accuracy: 0.8930 - val_loss: 0.0939 - val_argument_loss: 0.0226 - val_stance_loss: 0.0713 - val_argument_accuracy: 1.0000 - val_stance_accuracy: 1.0000\n",
            "Epoch 5/8\n",
            "672/672 [==============================] - ETA: 0s - loss: 0.3792 - argument_loss: 0.1586 - stance_loss: 0.2206 - argument_accuracy: 0.9393 - stance_accuracy: 0.9027"
          ]
        },
        {
          "output_type": "stream",
          "name": "stderr",
          "text": [
            "WARNING:absl:Found untraced functions such as embeddings_layer_call_fn, embeddings_layer_call_and_return_conditional_losses, encoder_layer_call_fn, encoder_layer_call_and_return_conditional_losses, pooler_layer_call_fn while saving (showing 5 of 432). These functions will not be directly callable after loading.\n",
            "\u001b[34m\u001b[1mwandb\u001b[0m: Adding directory to artifact (/content/wandb/run-20230425_185602-r8qrp22p/files/model-best)... Done. 16.9s\n"
          ]
        },
        {
          "output_type": "stream",
          "name": "stdout",
          "text": [
            "\b\b\b\b\b\b\b\b\b\b\b\b\b\b\b\b\b\b\b\b\b\b\b\b\b\b\b\b\b\b\b\b\b\b\b\b\b\b\b\b\b\b\b\b\b\b\b\b\b\b\b\b\b\b\b\b\b\b\b\b\b\b\b\b\b\b\b\b\b\b\b\b\b\b\b\b\b\b\b\b\b\b\b\b\b\b\b\b\b\b\b\b\b\b\b\b\b\b\b\b\b\b\b\b\b\b\b\b\b\b\b\b\b\b\b\b\b\b\b\b\b\b\b\b\b\b\b\b\b\b\b\b\b\b\b\b\b\b\b\b\b\b\b\b\b\b\b\b\b\b\b\b\b\b\b\b\b\b\b\b\b\b\b\b\b\r672/672 [==============================] - 417s 621ms/step - loss: 0.3792 - argument_loss: 0.1586 - stance_loss: 0.2206 - argument_accuracy: 0.9393 - stance_accuracy: 0.9027 - val_loss: 0.0869 - val_argument_loss: 0.0357 - val_stance_loss: 0.0513 - val_argument_accuracy: 1.0000 - val_stance_accuracy: 1.0000\n",
            "Epoch 6/8\n",
            "672/672 [==============================] - ETA: 0s - loss: 0.3562 - argument_loss: 0.1468 - stance_loss: 0.2094 - argument_accuracy: 0.9464 - stance_accuracy: 0.9125"
          ]
        },
        {
          "output_type": "stream",
          "name": "stderr",
          "text": [
            "WARNING:absl:Found untraced functions such as embeddings_layer_call_fn, embeddings_layer_call_and_return_conditional_losses, encoder_layer_call_fn, encoder_layer_call_and_return_conditional_losses, pooler_layer_call_fn while saving (showing 5 of 432). These functions will not be directly callable after loading.\n",
            "\u001b[34m\u001b[1mwandb\u001b[0m: Adding directory to artifact (/content/wandb/run-20230425_185602-r8qrp22p/files/model-best)... Done. 16.7s\n"
          ]
        },
        {
          "output_type": "stream",
          "name": "stdout",
          "text": [
            "\b\b\b\b\b\b\b\b\b\b\b\b\b\b\b\b\b\b\b\b\b\b\b\b\b\b\b\b\b\b\b\b\b\b\b\b\b\b\b\b\b\b\b\b\b\b\b\b\b\b\b\b\b\b\b\b\b\b\b\b\b\b\b\b\b\b\b\b\b\b\b\b\b\b\b\b\b\b\b\b\b\b\b\b\b\b\b\b\b\b\b\b\b\b\b\b\b\b\b\b\b\b\b\b\b\b\b\b\b\b\b\b\b\b\b\b\b\b\b\b\b\b\b\b\b\b\b\b\b\b\b\b\b\b\b\b\b\b\b\b\b\b\b\b\b\b\b\b\b\b\b\b\b\b\b\b\b\b\b\b\b\b\b\b\b\r672/672 [==============================] - 416s 618ms/step - loss: 0.3562 - argument_loss: 0.1468 - stance_loss: 0.2094 - argument_accuracy: 0.9464 - stance_accuracy: 0.9125 - val_loss: 0.0659 - val_argument_loss: 0.0543 - val_stance_loss: 0.0116 - val_argument_accuracy: 1.0000 - val_stance_accuracy: 1.0000\n",
            "Epoch 7/8\n",
            "672/672 [==============================] - 340s 504ms/step - loss: 0.3315 - argument_loss: 0.1337 - stance_loss: 0.1978 - argument_accuracy: 0.9512 - stance_accuracy: 0.9205 - val_loss: 0.0957 - val_argument_loss: 0.0923 - val_stance_loss: 0.0034 - val_argument_accuracy: 1.0000 - val_stance_accuracy: 1.0000\n",
            "Epoch 8/8\n",
            "672/672 [==============================] - ETA: 0s - loss: 0.3031 - argument_loss: 0.1222 - stance_loss: 0.1809 - argument_accuracy: 0.9555 - stance_accuracy: 0.9289"
          ]
        },
        {
          "output_type": "stream",
          "name": "stderr",
          "text": [
            "WARNING:absl:Found untraced functions such as embeddings_layer_call_fn, embeddings_layer_call_and_return_conditional_losses, encoder_layer_call_fn, encoder_layer_call_and_return_conditional_losses, pooler_layer_call_fn while saving (showing 5 of 432). These functions will not be directly callable after loading.\n",
            "\u001b[34m\u001b[1mwandb\u001b[0m: Adding directory to artifact (/content/wandb/run-20230425_185602-r8qrp22p/files/model-best)... Done. 21.4s\n"
          ]
        },
        {
          "output_type": "stream",
          "name": "stdout",
          "text": [
            "\b\b\b\b\b\b\b\b\b\b\b\b\b\b\b\b\b\b\b\b\b\b\b\b\b\b\b\b\b\b\b\b\b\b\b\b\b\b\b\b\b\b\b\b\b\b\b\b\b\b\b\b\b\b\b\b\b\b\b\b\b\b\b\b\b\b\b\b\b\b\b\b\b\b\b\b\b\b\b\b\b\b\b\b\b\b\b\b\b\b\b\b\b\b\b\b\b\b\b\b\b\b\b\b\b\b\b\b\b\b\b\b\b\b\b\b\b\b\b\b\b\b\b\b\b\b\b\b\b\b\b\b\b\b\b\b\b\b\b\b\b\b\b\b\b\b\b\b\b\b\b\b\b\b\b\b\b\b\b\b\b\b\b\b\b\r672/672 [==============================] - 431s 642ms/step - loss: 0.3031 - argument_loss: 0.1222 - stance_loss: 0.1809 - argument_accuracy: 0.9555 - stance_accuracy: 0.9289 - val_loss: 0.0427 - val_argument_loss: 0.0177 - val_stance_loss: 0.0250 - val_argument_accuracy: 1.0000 - val_stance_accuracy: 1.0000\n"
          ]
        },
        {
          "output_type": "display_data",
          "data": {
            "text/plain": [
              "<IPython.core.display.HTML object>"
            ],
            "text/html": [
              "Waiting for W&B process to finish... <strong style=\"color:green\">(success).</strong>"
            ]
          },
          "metadata": {}
        },
        {
          "output_type": "display_data",
          "data": {
            "text/plain": [
              "<IPython.core.display.HTML object>"
            ],
            "text/html": [
              "<style>\n",
              "    table.wandb td:nth-child(1) { padding: 0 10px; text-align: left ; width: auto;} td:nth-child(2) {text-align: left ; width: 100%}\n",
              "    .wandb-row { display: flex; flex-direction: row; flex-wrap: wrap; justify-content: flex-start; width: 100% }\n",
              "    .wandb-col { display: flex; flex-direction: column; flex-basis: 100%; flex: 1; padding: 10px; }\n",
              "    </style>\n",
              "<div class=\"wandb-row\"><div class=\"wandb-col\"><h3>Run history:</h3><br/><table class=\"wandb\"><tr><td>argument_accuracy</td><td>▁▅▆▆▆▇██</td></tr><tr><td>argument_loss</td><td>█▃▃▂▂▂▁▁</td></tr><tr><td>epoch</td><td>▁▂▃▄▅▆▇█</td></tr><tr><td>loss</td><td>█▃▃▂▂▂▁▁</td></tr><tr><td>stance_accuracy</td><td>▁▄▅▅▆▇▇█</td></tr><tr><td>stance_loss</td><td>█▃▃▂▂▂▁▁</td></tr><tr><td>val_argument_accuracy</td><td>▁▁▁▁▁▁▁▁</td></tr><tr><td>val_argument_loss</td><td>▁▂▁▂▃▅█▁</td></tr><tr><td>val_loss</td><td>█▅▆▃▂▂▃▁</td></tr><tr><td>val_stance_accuracy</td><td>▁▁▁█████</td></tr><tr><td>val_stance_loss</td><td>█▅▆▃▂▁▁▂</td></tr></table><br/></div><div class=\"wandb-col\"><h3>Run summary:</h3><br/><table class=\"wandb\"><tr><td>argument_accuracy</td><td>0.95552</td></tr><tr><td>argument_loss</td><td>0.12224</td></tr><tr><td>best_epoch</td><td>7</td></tr><tr><td>best_val_loss</td><td>0.04273</td></tr><tr><td>epoch</td><td>7</td></tr><tr><td>loss</td><td>0.30313</td></tr><tr><td>stance_accuracy</td><td>0.9289</td></tr><tr><td>stance_loss</td><td>0.18089</td></tr><tr><td>val_argument_accuracy</td><td>1.0</td></tr><tr><td>val_argument_loss</td><td>0.01768</td></tr><tr><td>val_loss</td><td>0.04273</td></tr><tr><td>val_stance_accuracy</td><td>1.0</td></tr><tr><td>val_stance_loss</td><td>0.02505</td></tr></table><br/></div></div>"
            ]
          },
          "metadata": {}
        },
        {
          "output_type": "display_data",
          "data": {
            "text/plain": [
              "<IPython.core.display.HTML object>"
            ],
            "text/html": [
              " View run <strong style=\"color:#cdcd00\">Bert_attention_vaccines</strong> at: <a href='https://wandb.ai/darkdestiny/Argument%20mining/runs/r8qrp22p' target=\"_blank\">https://wandb.ai/darkdestiny/Argument%20mining/runs/r8qrp22p</a><br/>Synced 5 W&B file(s), 1 media file(s), 30 artifact file(s) and 1 other file(s)"
            ]
          },
          "metadata": {}
        },
        {
          "output_type": "display_data",
          "data": {
            "text/plain": [
              "<IPython.core.display.HTML object>"
            ],
            "text/html": [
              "Find logs at: <code>./wandb/run-20230425_185602-r8qrp22p/logs</code>"
            ]
          },
          "metadata": {}
        }
      ],
      "id": "8M6FHChvC7jR"
    },
    {
      "cell_type": "code",
      "source": [
        "CLASS_NAME = \"vaccines\"\n",
        "test = pd.read_csv(\"./val_empty.tsv\", sep='\\t')\n",
        "test.head()\n",
        "test_d = test[['text', f'{CLASS_NAME}_stance', f'{CLASS_NAME}_argument']]\n",
        "for_pred = tokenizer(\n",
        "    text=test_d['text'].to_list(),\n",
        "    add_special_tokens=True,\n",
        "    max_length=256,\n",
        "    truncation=True,\n",
        "    padding='max_length', \n",
        "    return_tensors='tf',\n",
        "    return_token_type_ids = False,\n",
        "    return_attention_mask = True,\n",
        "    verbose = True)\n",
        "test_results = model.predict(x={'input_ids': for_pred['input_ids'], 'attention_mask': for_pred['attention_mask']})\n",
        "test_d[f'{CLASS_NAME}_stance'] = test_results['stance'].argmax(axis=-1) - 1\n",
        "test_d[f'{CLASS_NAME}_argument'] = test_results['argument'].argmax(axis=-1) - 1\n",
        "test_d[['text', f'{CLASS_NAME}_stance', f'{CLASS_NAME}_argument']].to_csv(f\"./val_predict_MHA_{CLASS_NAME}.tsv\", sep='\\t', index=None)"
      ],
      "metadata": {
        "id": "oXE0Lr2PC7rb",
        "execution": {
          "iopub.status.busy": "2023-04-25T09:42:02.889599Z",
          "iopub.execute_input": "2023-04-25T09:42:02.890717Z",
          "iopub.status.idle": "2023-04-25T09:42:29.060998Z",
          "shell.execute_reply.started": "2023-04-25T09:42:02.890673Z",
          "shell.execute_reply": "2023-04-25T09:42:29.059816Z"
        },
        "trusted": true,
        "colab": {
          "base_uri": "https://localhost:8080/"
        },
        "outputId": "2530546b-48dd-458d-e015-627d05799fd8"
      },
      "execution_count": 17,
      "outputs": [
        {
          "output_type": "stream",
          "name": "stdout",
          "text": [
            "45/45 [==============================] - 30s 566ms/step\n"
          ]
        },
        {
          "output_type": "stream",
          "name": "stderr",
          "text": [
            "<ipython-input-17-67c546eb642d>:16: SettingWithCopyWarning: \n",
            "A value is trying to be set on a copy of a slice from a DataFrame.\n",
            "Try using .loc[row_indexer,col_indexer] = value instead\n",
            "\n",
            "See the caveats in the documentation: https://pandas.pydata.org/pandas-docs/stable/user_guide/indexing.html#returning-a-view-versus-a-copy\n",
            "  test_d[f'{CLASS_NAME}_stance'] = test_results['stance'].argmax(axis=-1) - 1\n",
            "<ipython-input-17-67c546eb642d>:17: SettingWithCopyWarning: \n",
            "A value is trying to be set on a copy of a slice from a DataFrame.\n",
            "Try using .loc[row_indexer,col_indexer] = value instead\n",
            "\n",
            "See the caveats in the documentation: https://pandas.pydata.org/pandas-docs/stable/user_guide/indexing.html#returning-a-view-versus-a-copy\n",
            "  test_d[f'{CLASS_NAME}_argument'] = test_results['argument'].argmax(axis=-1) - 1\n"
          ]
        }
      ],
      "id": "oXE0Lr2PC7rb"
    },
    {
      "cell_type": "code",
      "source": [
        "CLASS_NAME = \"vaccines\"\n",
        "test = pd.read_csv(\"./test-no_labels.tsv\", sep='\\t')\n",
        "test.head()\n",
        "test_d = test[['text', f'{CLASS_NAME}_stance', f'{CLASS_NAME}_argument']]\n",
        "for_pred = tokenizer(\n",
        "    text=test_d['text'].to_list(),\n",
        "    add_special_tokens=True,\n",
        "    max_length=256,\n",
        "    truncation=True,\n",
        "    padding='max_length', \n",
        "    return_tensors='tf',\n",
        "    return_token_type_ids = False,\n",
        "    return_attention_mask = True,\n",
        "    verbose = True)\n",
        "test_results = model.predict(x={'input_ids': for_pred['input_ids'], 'attention_mask': for_pred['attention_mask']})\n",
        "test_d[f'{CLASS_NAME}_stance'] = test_results['stance'].argmax(axis=-1) - 1\n",
        "test_d[f'{CLASS_NAME}_argument'] = test_results['argument'].argmax(axis=-1) - 1\n",
        "test_d[['text', f'{CLASS_NAME}_stance', f'{CLASS_NAME}_argument']].to_csv(f\"./test_predict_MHA_{CLASS_NAME}.tsv\", sep='\\t', index=None)"
      ],
      "metadata": {
        "execution": {
          "iopub.status.busy": "2023-04-25T09:42:29.062943Z",
          "iopub.execute_input": "2023-04-25T09:42:29.063702Z",
          "iopub.status.idle": "2023-04-25T09:42:49.785362Z",
          "shell.execute_reply.started": "2023-04-25T09:42:29.063657Z",
          "shell.execute_reply": "2023-04-25T09:42:49.784188Z"
        },
        "trusted": true,
        "id": "54wQLDugAQyv",
        "colab": {
          "base_uri": "https://localhost:8080/"
        },
        "outputId": "6d3e678b-d281-4808-98d0-26f8476bf95f"
      },
      "execution_count": 18,
      "outputs": [
        {
          "output_type": "stream",
          "name": "stdout",
          "text": [
            "44/44 [==============================] - 25s 575ms/step\n"
          ]
        },
        {
          "output_type": "stream",
          "name": "stderr",
          "text": [
            "<ipython-input-18-e571f3b82bb7>:16: SettingWithCopyWarning: \n",
            "A value is trying to be set on a copy of a slice from a DataFrame.\n",
            "Try using .loc[row_indexer,col_indexer] = value instead\n",
            "\n",
            "See the caveats in the documentation: https://pandas.pydata.org/pandas-docs/stable/user_guide/indexing.html#returning-a-view-versus-a-copy\n",
            "  test_d[f'{CLASS_NAME}_stance'] = test_results['stance'].argmax(axis=-1) - 1\n",
            "<ipython-input-18-e571f3b82bb7>:17: SettingWithCopyWarning: \n",
            "A value is trying to be set on a copy of a slice from a DataFrame.\n",
            "Try using .loc[row_indexer,col_indexer] = value instead\n",
            "\n",
            "See the caveats in the documentation: https://pandas.pydata.org/pandas-docs/stable/user_guide/indexing.html#returning-a-view-versus-a-copy\n",
            "  test_d[f'{CLASS_NAME}_argument'] = test_results['argument'].argmax(axis=-1) - 1\n"
          ]
        }
      ],
      "id": "54wQLDugAQyv"
    },
    {
      "cell_type": "markdown",
      "source": [
        "## 3.6 Concatinate all files with results for masks, vaccines, quarantine"
      ],
      "metadata": {
        "id": "gnWg1Irw9GHO"
      },
      "id": "gnWg1Irw9GHO"
    },
    {
      "cell_type": "code",
      "source": [
        "CLASS_NAME = \"quarantine\"\n",
        "df1 = pd.read_csv(f\"./val_predict_MHA_{CLASS_NAME}.tsv\", sep='\\t')\n",
        "CLASS_NAME = \"masks\"\n",
        "df2 = pd.read_csv(f\"./val_predict_MHA_{CLASS_NAME}.tsv\", sep='\\t')\n",
        "CLASS_NAME = \"vaccines\"\n",
        "df3 = pd.read_csv(f\"./val_predict_MHA_{CLASS_NAME}.tsv\", sep='\\t')\n",
        "\n",
        "\n",
        "result = pd.merge(df1, df2, on=\"text\")\n",
        "result = pd.merge(result, df3, on=\"text\")\n",
        "result.to_csv(\"./val_predict_concat_MHA.tsv\", sep='\\t', index=None)"
      ],
      "metadata": {
        "id": "p6kX2AxZ9GHO",
        "execution": {
          "iopub.status.busy": "2023-04-25T09:42:49.787120Z",
          "iopub.execute_input": "2023-04-25T09:42:49.787836Z",
          "iopub.status.idle": "2023-04-25T09:42:49.867159Z",
          "shell.execute_reply.started": "2023-04-25T09:42:49.787750Z",
          "shell.execute_reply": "2023-04-25T09:42:49.865992Z"
        },
        "trusted": true
      },
      "execution_count": 19,
      "outputs": [],
      "id": "p6kX2AxZ9GHO"
    },
    {
      "cell_type": "code",
      "source": [
        "CLASS_NAME = \"quarantine\"\n",
        "df1 = pd.read_csv(f\"./test_predict_MHA_{CLASS_NAME}.tsv\", sep='\\t')\n",
        "CLASS_NAME = \"masks\"\n",
        "df2 = pd.read_csv(f\"./test_predict_MHA_{CLASS_NAME}.tsv\", sep='\\t')\n",
        "CLASS_NAME = \"vaccines\"\n",
        "df3 = pd.read_csv(f\"./test_predict_MHA_{CLASS_NAME}.tsv\", sep='\\t')\n",
        "\n",
        "\n",
        "result = pd.merge(df1, df2, on=\"text\")\n",
        "result = pd.merge(result, df3, on=\"text\")\n",
        "result.to_csv(\"./test_predict_concat_MHA.tsv\", sep='\\t', index=None)"
      ],
      "metadata": {
        "execution": {
          "iopub.status.busy": "2023-04-25T09:42:49.868526Z",
          "iopub.execute_input": "2023-04-25T09:42:49.868901Z",
          "iopub.status.idle": "2023-04-25T09:42:49.916925Z",
          "shell.execute_reply.started": "2023-04-25T09:42:49.868862Z",
          "shell.execute_reply": "2023-04-25T09:42:49.915866Z"
        },
        "trusted": true,
        "id": "h5jMxr6tAQyv"
      },
      "execution_count": 20,
      "outputs": [],
      "id": "h5jMxr6tAQyv"
    },
    {
      "cell_type": "code",
      "source": [
        "!zip val_predict_concat.zip val_predict_concat_MHA.tsv"
      ],
      "metadata": {
        "id": "Qiqgj--k9GHO",
        "execution": {
          "iopub.status.busy": "2023-04-25T09:42:49.918273Z",
          "iopub.execute_input": "2023-04-25T09:42:49.919766Z",
          "iopub.status.idle": "2023-04-25T09:42:51.136713Z",
          "shell.execute_reply.started": "2023-04-25T09:42:49.919725Z",
          "shell.execute_reply": "2023-04-25T09:42:51.135320Z"
        },
        "trusted": true,
        "colab": {
          "base_uri": "https://localhost:8080/"
        },
        "outputId": "5fb09103-85e2-491e-f2d7-b54bec9112ea"
      },
      "execution_count": 21,
      "outputs": [
        {
          "output_type": "stream",
          "name": "stdout",
          "text": [
            "  adding: val_predict_concat_MHA.tsv (deflated 73%)\n"
          ]
        }
      ],
      "id": "Qiqgj--k9GHO"
    },
    {
      "cell_type": "code",
      "source": [
        "!zip test_predict_concat.zip test_predict_concat_MHA.tsv"
      ],
      "metadata": {
        "id": "XqVEV2W8NMC5",
        "execution": {
          "iopub.status.busy": "2023-04-25T09:42:51.144478Z",
          "iopub.execute_input": "2023-04-25T09:42:51.145157Z",
          "iopub.status.idle": "2023-04-25T09:42:52.365680Z",
          "shell.execute_reply.started": "2023-04-25T09:42:51.145117Z",
          "shell.execute_reply": "2023-04-25T09:42:52.363927Z"
        },
        "trusted": true,
        "colab": {
          "base_uri": "https://localhost:8080/"
        },
        "outputId": "b37306dd-8875-4f0d-ae10-51acde8002ed"
      },
      "execution_count": 22,
      "outputs": [
        {
          "output_type": "stream",
          "name": "stdout",
          "text": [
            "  adding: test_predict_concat_MHA.tsv (deflated 73%)\n"
          ]
        }
      ],
      "id": "XqVEV2W8NMC5"
    },
    {
      "cell_type": "code",
      "source": [],
      "metadata": {
        "id": "yUPZpScDDLWt"
      },
      "id": "yUPZpScDDLWt",
      "execution_count": 22,
      "outputs": []
    }
  ]
}